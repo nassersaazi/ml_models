{
 "cells": [
  {
   "cell_type": "markdown",
   "metadata": {},
   "source": [
    "# SOME CLASSES AND FUNCTIONS FOR COMMON ML TASKS"
   ]
  },
  {
   "cell_type": "code",
   "execution_count": 3,
   "metadata": {},
   "outputs": [],
   "source": [
    "#import config\n"
   ]
  },
  {
   "cell_type": "code",
   "execution_count": 6,
   "metadata": {},
   "outputs": [],
   "source": [
    "class Preprocessor:\n",
    "    def __int__(self):\n",
    "        pass\n",
    "    \n",
    "    def __str__(self):\n",
    "        pass\n",
    "    \n",
    "    def drop_cols(self,df,cols):\n",
    "        output = df.drop(cols)\n",
    "        return output\n",
    "    \n",
    "    def print_exception_message(message_orientation=\"horizontal\"):\n",
    "        \"\"\"\n",
    "        print full exception message\n",
    "       :param message_orientation: horizontal or vertical\n",
    "       :return None   \n",
    "        \"\"\"\n",
    "        try:\n",
    "            exc_type, exc_value, exc_tb = sys.exc_info()           \n",
    "            file_name, line_number, procedure_name, line_code =  traceback.extract_tb(exc_tb)[-1]      \n",
    "            time_stamp = \" [Time Stamp]: \" + str(time.strftime(\" %Y-%m-%d %I:%M:%S %p\"))\n",
    "            file_name = \" [File Name]: \" + str(file_name)\n",
    "            procedure_name = \" [Procedure Name]: \" +  str(procedure_name)\n",
    "            error_message = \" [Error Message]: \" + str(exc_value)       \n",
    "            error_type = \" [Error Type]: \" + str(exc_type)                   \n",
    "            line_number = \" [Line Number]: \" + str(line_number)               \n",
    "            line_code = \" [Line Code]: \" + str(line_code)\n",
    "            if (message_orientation == \"horizontal\"):\n",
    "                print( \"An error occurred:{};{};{};{};{};{}; {}\".format(time_stamp, file_name, procedure_name, \n",
    "                   error_message, error_type, line_number, line_code))\n",
    "            elif (message_orientation == \"vertical\"):\n",
    "                print( \"An error occurred:\\n{}\\n{}\\n{}\\n{}\\n{}\\n{}\\n{}\".format(time_stamp, file_name, \n",
    "                   procedure_name, error_message, error_type,        \n",
    "                   line_number, line_code))\n",
    "            else:\n",
    "                pass                   \n",
    "        except:\n",
    "            exception_message = sys.exc_info()[0]\n",
    "            print(\"An error occurred. {}\".format(exception_message))\n",
    "\n",
    "    def tune_hyperparameter_model(self,ml_model, X_train, y_train, hyper_parameter_candidates, scoring_parameter ,\n",
    "                                  cv_fold, search_cv_type=\"grid\"):   \n",
    "        \"\"\"\n",
    "        apply grid search cv and randomized search cv algorithms to find optimal hyperparameters model \n",
    "        :param ml_model: defined machine learning model\n",
    "        :param X_train: feature training data\n",
    "        :param y_train: target (label) training data\n",
    "        :param hyper_parameter_candidates: dictionary of hyperparameter candidates\n",
    "        :param scoring_parameter: parameter that controls what metric to apply to the evaluated model\n",
    "        :param cv_fold: number of cv divided folds\n",
    "        :param search_cv_type: type of search cv (gridsearchcv or randomizedsearchcv)\n",
    "        :return classifier_model: defined classifier model\n",
    "        \"\"\"\n",
    "        try:\n",
    "            if (search_cv_type==config.GRID_SEARCH_CV):\n",
    "                classifier_model = GridSearchCV(estimator=ml_model, param_grid=hyper_parameter_candidates, \n",
    "                   scoring=scoring_paramete, cv=cv_fold)\n",
    "            elif (search_cv_type==config.RANDOMIZED_SEARCH_CV):\n",
    "                classifier_model =  RandomizedSearchCV(estimator=ml_model, param_distributions=hyper_parameter_candidates, \n",
    "                   scoring=scoring_parameter, cv=cv_fold)\n",
    "            classifier_model.fit(X_train, y_train)\n",
    "        except:\n",
    "            print_exception_message()\n",
    "        return classifier_model\n"
   ]
  },
  {
   "cell_type": "code",
   "execution_count": null,
   "metadata": {},
   "outputs": [],
   "source": []
  }
 ],
 "metadata": {
  "kernelspec": {
   "display_name": "Python 3",
   "language": "python",
   "name": "python3"
  },
  "language_info": {
   "codemirror_mode": {
    "name": "ipython",
    "version": 3
   },
   "file_extension": ".py",
   "mimetype": "text/x-python",
   "name": "python",
   "nbconvert_exporter": "python",
   "pygments_lexer": "ipython3",
   "version": "3.6.8"
  }
 },
 "nbformat": 4,
 "nbformat_minor": 2
}
