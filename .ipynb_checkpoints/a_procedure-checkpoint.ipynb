{
 "cells": [
  {
   "cell_type": "raw",
   "metadata": {},
   "source": [
    "for all datasets\n",
    "\n",
    "    whenever dat is loaded,it needs preprocessing\n",
    "    1.check for missing values and figure out how to handle them \n",
    "    2.check for column categories\n",
    "    3.visualise for insights\n",
    "    4.run some basic stats for insights(in case of numerical columns\n",
    "    5.clean it,standardise it and make it ready for training"
   ]
  }
 ],
 "metadata": {
  "kernelspec": {
   "display_name": "Python 3",
   "language": "python",
   "name": "python3"
  },
  "language_info": {
   "codemirror_mode": {
    "name": "ipython",
    "version": 3
   },
   "file_extension": ".py",
   "mimetype": "text/x-python",
   "name": "python",
   "nbconvert_exporter": "python",
   "pygments_lexer": "ipython3",
   "version": "3.6.8"
  }
 },
 "nbformat": 4,
 "nbformat_minor": 2
}
