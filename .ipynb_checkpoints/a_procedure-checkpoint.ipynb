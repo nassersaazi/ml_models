{
 "cells": [
  {
   "cell_type": "raw",
   "metadata": {},
   "source": [
    "for all datasets\n",
    "\n",
    "    whenever dat is loaded,it needs preprocessing\n",
    "    1.check for missing values and figure out how to handle them \n",
    "        -display number of missing values and percentges per column\n",
    "    2.check for column categories\n",
    "    3.visualise for insights\n",
    "    4.run some basic stats for insights(in case of numerical columns\n",
    "    5.clean it,standardise it and make it ready for training\n",
    "    6.if less than half of the categories to classify have more than half of the instances in the df\n",
    "        -stratify while training, else don't"
   ]
  },
  {
   "cell_type": "code",
   "execution_count": null,
   "metadata": {},
   "outputs": [],
   "source": []
  }
 ],
 "metadata": {
  "kernelspec": {
   "display_name": "Python 3",
   "language": "python",
   "name": "python3"
  },
  "language_info": {
   "codemirror_mode": {
    "name": "ipython",
    "version": 3
   },
   "file_extension": ".py",
   "mimetype": "text/x-python",
   "name": "python",
   "nbconvert_exporter": "python",
   "pygments_lexer": "ipython3",
   "version": "3.6.8"
  }
 },
 "nbformat": 4,
 "nbformat_minor": 2
}
