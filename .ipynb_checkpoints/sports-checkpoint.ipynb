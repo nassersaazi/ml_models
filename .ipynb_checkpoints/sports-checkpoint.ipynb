{
 "cells": [
  {
   "cell_type": "code",
   "execution_count": 5,
   "metadata": {},
   "outputs": [
    {
     "data": {
      "text/plain": [
       "(1356, 15)"
      ]
     },
     "execution_count": 5,
     "metadata": {},
     "output_type": "execute_result"
    }
   ],
   "source": [
    "import preprocessor\n",
    "from preprocessor import Preprocessor\n",
    "\n",
    "prep = Preprocessor()\n",
    "\n",
    "olympics = pd.read_csv(\"~/Documents/datasets/olympics/athlete_events.csv\")\n",
    "olympics = olympics.sample(frac=0.005, random_state=1)\n",
    "\n",
    "attributes = [\"Sex\",\"Age\",\"Height\",\"Weight\",\"Team\",\"Games\",\"Sport\",\"City\",\"Year\",\"Season\",\"Medal\"]\n",
    "olympics_sum = olympics[attributes]\n",
    "olympics_sum = olympics_sum.dropna(subset=[\"Medal\"])\n",
    "olympics.describe()\n",
    "age_mean = olympics_sum[\"Age\"].mean()\n",
    "height_mean = olympics_sum[\"Height\"].mean()\n",
    "weight_mean = olympics_sum[\"Weight\"].mean()\n",
    "age_median = olympics_sum[\"Age\"].median()\n",
    "height_median = olympics_sum[\"Height\"].median()\n",
    "weight_median = olympics_sum[\"Weight\"].median()\n",
    "olympics_sum.Age = olympics_sum[\"Age\"].fillna(age_mean)\n",
    "olympics_sum.Height = olympics_sum[\"Height\"].fillna(height_mean)\n",
    "olympics_sum.Weight = olympics_sum[\"Weight\"].fillna(weight_mean)\n",
    "olympics_sum.head()\n",
    "olympics.shape"
   ]
  },
  {
   "cell_type": "code",
   "execution_count": 67,
   "metadata": {},
   "outputs": [
    {
     "name": "stdout",
     "output_type": "stream",
     "text": [
      "Accuracy on the training subset: 1.000000\n",
      "Accuracy on the testing subset: 0.404762\n"
     ]
    }
   ],
   "source": [
    "from sklearn.ensemble import RandomForestClassifier\n",
    "from sklearn.model_selection import train_test_split\n",
    "# Handling categorical attributes\n",
    "from sklearn.preprocessing import LabelEncoder\n",
    "from sklearn.metrics import classification_report,confusion_matrix\n",
    "\n",
    "encoder = LabelEncoder()\n",
    "df = olympics_sum.apply(encoder.fit_transform)\n",
    "features = df.drop(\"Medal\", axis=1)\n",
    "\n",
    "labels = df[\"Medal\"]\n",
    "\n",
    "X_train, X_test, y_train ,y_test = train_test_split(features, labels,test_size = 0.2, random_state= 0)\n",
    "\n",
    "forest = RandomForestClassifier(n_jobs=-1,max_depth=100,n_estimators=100, random_state=0)\n",
    "forest.fit(X_train, y_train)\n",
    "pred_rfc = forest.predict(X_test)\n",
    "\n",
    "print('Accuracy on the training subset: {:3f}'.format(forest.score(X_train, y_train)))\n",
    "print('Accuracy on the testing subset: {:3f}'.format(forest.score(X_test, y_test)))\n"
   ]
  },
  {
   "cell_type": "code",
   "execution_count": 69,
   "metadata": {},
   "outputs": [
    {
     "name": "stdout",
     "output_type": "stream",
     "text": [
      "              precision    recall  f1-score   support\n",
      "\n",
      "           0       0.43      0.46      0.44        13\n",
      "           1       0.56      0.26      0.36        19\n",
      "           2       0.32      0.60      0.41        10\n",
      "\n",
      "   micro avg       0.40      0.40      0.40        42\n",
      "   macro avg       0.43      0.44      0.41        42\n",
      "weighted avg       0.46      0.40      0.40        42\n",
      "\n"
     ]
    },
    {
     "data": {
      "text/html": [
       "<div>\n",
       "<style scoped>\n",
       "    .dataframe tbody tr th:only-of-type {\n",
       "        vertical-align: middle;\n",
       "    }\n",
       "\n",
       "    .dataframe tbody tr th {\n",
       "        vertical-align: top;\n",
       "    }\n",
       "\n",
       "    .dataframe thead th {\n",
       "        text-align: right;\n",
       "    }\n",
       "</style>\n",
       "<table border=\"1\" class=\"dataframe\">\n",
       "  <thead>\n",
       "    <tr style=\"text-align: right;\">\n",
       "      <th></th>\n",
       "      <th>Sex</th>\n",
       "      <th>Age</th>\n",
       "      <th>Height</th>\n",
       "      <th>Weight</th>\n",
       "      <th>Team</th>\n",
       "      <th>Games</th>\n",
       "      <th>Sport</th>\n",
       "      <th>City</th>\n",
       "      <th>Year</th>\n",
       "      <th>Season</th>\n",
       "      <th>Medal</th>\n",
       "    </tr>\n",
       "  </thead>\n",
       "  <tbody>\n",
       "    <tr>\n",
       "      <th>13678</th>\n",
       "      <td>1</td>\n",
       "      <td>8</td>\n",
       "      <td>38</td>\n",
       "      <td>46</td>\n",
       "      <td>12</td>\n",
       "      <td>29</td>\n",
       "      <td>33</td>\n",
       "      <td>30</td>\n",
       "      <td>20</td>\n",
       "      <td>0</td>\n",
       "      <td>2</td>\n",
       "    </tr>\n",
       "    <tr>\n",
       "      <th>18478</th>\n",
       "      <td>1</td>\n",
       "      <td>17</td>\n",
       "      <td>35</td>\n",
       "      <td>36</td>\n",
       "      <td>42</td>\n",
       "      <td>23</td>\n",
       "      <td>5</td>\n",
       "      <td>19</td>\n",
       "      <td>17</td>\n",
       "      <td>0</td>\n",
       "      <td>0</td>\n",
       "    </tr>\n",
       "    <tr>\n",
       "      <th>269846</th>\n",
       "      <td>1</td>\n",
       "      <td>16</td>\n",
       "      <td>22</td>\n",
       "      <td>29</td>\n",
       "      <td>54</td>\n",
       "      <td>22</td>\n",
       "      <td>8</td>\n",
       "      <td>28</td>\n",
       "      <td>16</td>\n",
       "      <td>1</td>\n",
       "      <td>0</td>\n",
       "    </tr>\n",
       "    <tr>\n",
       "      <th>223358</th>\n",
       "      <td>0</td>\n",
       "      <td>7</td>\n",
       "      <td>22</td>\n",
       "      <td>23</td>\n",
       "      <td>31</td>\n",
       "      <td>39</td>\n",
       "      <td>37</td>\n",
       "      <td>6</td>\n",
       "      <td>28</td>\n",
       "      <td>0</td>\n",
       "      <td>1</td>\n",
       "    </tr>\n",
       "    <tr>\n",
       "      <th>105780</th>\n",
       "      <td>1</td>\n",
       "      <td>13</td>\n",
       "      <td>38</td>\n",
       "      <td>47</td>\n",
       "      <td>21</td>\n",
       "      <td>41</td>\n",
       "      <td>26</td>\n",
       "      <td>15</td>\n",
       "      <td>30</td>\n",
       "      <td>0</td>\n",
       "      <td>1</td>\n",
       "    </tr>\n",
       "  </tbody>\n",
       "</table>\n",
       "</div>"
      ],
      "text/plain": [
       "        Sex  Age  Height  Weight  Team  Games  Sport  City  Year  Season  \\\n",
       "13678     1    8      38      46    12     29     33    30    20       0   \n",
       "18478     1   17      35      36    42     23      5    19    17       0   \n",
       "269846    1   16      22      29    54     22      8    28    16       1   \n",
       "223358    0    7      22      23    31     39     37     6    28       0   \n",
       "105780    1   13      38      47    21     41     26    15    30       0   \n",
       "\n",
       "        Medal  \n",
       "13678       2  \n",
       "18478       0  \n",
       "269846      0  \n",
       "223358      1  \n",
       "105780      1  "
      ]
     },
     "execution_count": 69,
     "metadata": {},
     "output_type": "execute_result"
    }
   ],
   "source": [
    "#Lets see how our model performed\n",
    "print(classification_report(y_test, pred_rfc))\n",
    "df.head()"
   ]
  },
  {
   "cell_type": "code",
   "execution_count": 70,
   "metadata": {},
   "outputs": [
    {
     "name": "stdout",
     "output_type": "stream",
     "text": [
      "[[6 3 4]\n",
      " [5 5 9]\n",
      " [3 1 6]]\n"
     ]
    }
   ],
   "source": [
    "print(confusion_matrix(y_test, pred_rfc))"
   ]
  },
  {
   "cell_type": "code",
   "execution_count": 73,
   "metadata": {},
   "outputs": [
    {
     "data": {
      "image/png": "[encoded data removed]",
      "text/plain": [
       "<Figure size 1080x576 with 1 Axes>"
      ]
     },
     "metadata": {
      "needs_background": "light"
     },
     "output_type": "display_data"
    }
   ],
   "source": [
    "%matplotlib inline\n",
    "\n",
    "import seaborn as sns\n",
    "import matplotlib.pyplot as plt\n",
    "\n",
    "#olympics = pd.read_csv(\"~/Documents/datasets/olympics/athlete_events.csv\",nrows=50)\n",
    "#olympics.describe()\n",
    "\n",
    "\n",
    "# Set context to \"paper\"\n",
    "plt.figure(figsize=(15,8))\n",
    "\n",
    "sns.set(style=\"darkgrid\")\n",
    "\n",
    "#sns.scatterplot(\"Height\", \"Weight\",hue= \"Season\",data = olympics_sum ,alpha=0.9)\n",
    "sns.violinplot(\"Medal\",\"Weight\",hue= \"Sex\",data = olympics_sum )\n",
    "plt.title('Comparison of weight amomg olympians')\n",
    "plt.ylabel('Weight',fontsize=15)\n",
    "plt.xlabel('Height',fontsize=12)\n",
    "plt.show()\n"
   ]
  },
  {
   "cell_type": "code",
   "execution_count": 74,
   "metadata": {},
   "outputs": [
    {
     "data": {
      "text/plain": [
       "Height    1.000000\n",
       "Weight    0.846595\n",
       "Age       0.201837\n",
       "Year      0.054642\n",
       "Name: Height, dtype: float64"
      ]
     },
     "execution_count": 74,
     "metadata": {},
     "output_type": "execute_result"
    }
   ],
   "source": [
    "corr_matrix = olympics_sum.corr()\n",
    "corr_matrix[\"Height\"].sort_values(ascending=False)"
   ]
  },
  {
   "cell_type": "code",
   "execution_count": 84,
   "metadata": {},
   "outputs": [
    {
     "name": "stdout",
     "output_type": "stream",
     "text": [
      "Accuracy on the training subset: 0.913591\n",
      "Accuracy on the testing subset: 0.913809\n"
     ]
    }
   ],
   "source": [
    "'''\n",
    "You'll realise here that the classifier performed better when \n",
    "we added more features to the pipeline !!!\n",
    "'''\n",
    "import pandas as pd\n",
    "import seaborn as sns\n",
    "from sklearn.preprocessing import LabelEncoder\n",
    "from sklearn.base import BaseEstimator,TransformerMixin\n",
    "from sklearn.ensemble import RandomForestClassifier\n",
    "from sklearn.model_selection import train_test_split\n",
    "from sklearn.pipeline import Pipeline\n",
    "from sklearn.pipeline import FeatureUnion\n",
    "from sklearn.preprocessing import StandardScaler\n",
    "from sklearn.preprocessing import LabelBinarizer\n",
    "\n",
    "'''\n",
    "Load some data and do some cleaning\n",
    "'''\n",
    "olympics = pd.read_csv(\"~/Documents/datasets/olympics/athlete_events.csv\")\n",
    "olympics = olympics.sample(frac=0.5, random_state=1)\n",
    "\n",
    "attributes = [\"Sex\",\"Age\",\"Height\",\"Weight\",\"Team\",\"Games\",\"Sport\",\"City\",\"Year\",\"Season\",\"Medal\"]\n",
    "olympics.Medal = olympics[\"Medal\"].fillna(\"Copper\")\n",
    "olympics.Age = olympics[\"Age\"].fillna(olympics['Age'].mean())\n",
    "olympics.Height = olympics[\"Height\"].fillna(olympics['Height'].mean())\n",
    "olympics.Weight = olympics[\"Weight\"].fillna(olympics['Weight'].mean())\n",
    "\n",
    "olympics['BMI'] = olympics[\"Weight\"] / (olympics[\"Height\"] ** 2)\n",
    "olympics.drop(['ID','Name','Team',\"Height\",\"Weight\"],1,inplace=True)\n",
    "olympics.isnull().sum(0),olympics.shape\n",
    "\n",
    "# custom multicolumn transformer for categorical variables\n",
    "\n",
    "class MultiColumnLabelEncoder:\n",
    "    def __init__(self, columns = None):\n",
    "        self.columns = columns # array of column names to encode\n",
    "        \n",
    "    def fit(self, X,y=None):\n",
    "        return self # not relevant\n",
    "    def transform(self, X):\n",
    "        ''' \n",
    "        Transforms columns of X specified in self.columns using\n",
    "        LabelEncoder(). If no columns specified, transforms all columns in X\n",
    "        '''\n",
    "        output = X.copy()\n",
    "        if self.columns is not None:\n",
    "            for col in self.columns:\n",
    "                output[col] = LabelEncoder().fit_transform(output[col])\n",
    "        else:\n",
    "             for colname,col in enumerate(output):\n",
    "                output[colname] = LabelEncoder().fit_transform(col)\n",
    "        \n",
    "        return output\n",
    "    \n",
    "    def fit_transform(self, X ,y=None):\n",
    "        return self.fit(X,y).transform(X)\n",
    "    \n",
    "'''You can also use the above class as shown in the line below '''\n",
    "#MultiColumnLabelEncoder(columns = cat_attributes).fit_transform(olympics)\n",
    "                    \n",
    "''' Custom function to sort categorical and numerical columns \n",
    "into separate lists to be processed by the pipeline\n",
    "'''\n",
    "def column_types(df):\n",
    "    cat_cols = []\n",
    "    num_cols = []\n",
    "    \n",
    "    for y in df.columns:\n",
    "        if (df[y].dtype == object):\n",
    "            cat_cols.append(y)\n",
    "        else:\n",
    "            num_cols.append(y)\n",
    "    \n",
    "    return cat_cols, num_cols\n",
    "\n",
    "class DataFrameSelector(BaseEstimator,TransformerMixin):\n",
    "    def __init__(self, attribute_names):\n",
    "        self.attribute_names = attribute_names\n",
    "    def fit(self, X, y=None):\n",
    "        return self\n",
    "    \n",
    "    def transform(self, X):\n",
    "        return X[self.attribute_names].values\n",
    "\n",
    "class MyLabelBinarizer():\n",
    "    def __init__(self, *args, **kwargs):\n",
    "        self.encoder = LabelBinarizer( *args, **kwargs)\n",
    "    def fit(self, x, y = 0):\n",
    "        self.encoder.fit(x)\n",
    "        return self\n",
    "    def transform(self,x, y=0):\n",
    "        return self.encoder.transform(x)\n",
    "\n",
    "cat_attributes ,num_attributes = column_types(olympics)\n",
    "\n",
    "num_pipeline = Pipeline([\n",
    "    ('selector',DataFrameSelector(num_attributes)),\n",
    "    ('std_scaler', StandardScaler())\n",
    "])\n",
    "\n",
    "cat_pipeline = Pipeline([\n",
    "    ('selector',DataFrameSelector(cat_attributes)),\n",
    "    ('label_encoder', MultiColumnLabelEncoder())\n",
    "]) \n",
    "\n",
    "full_pipeline = FeatureUnion(transformer_list=[\n",
    "    (\"num_pipeline\", num_pipeline),\n",
    "    (\"cat_pipeline\", cat_pipeline),\n",
    "])\n",
    "\n",
    "prepared = full_pipeline.fit_transform(olympics)\n",
    "\n",
    "#encoder = LabelEncoder()\n",
    "#encoded = encoder.fit_transform(olympics[\"Medal\"])\n",
    "labels = olympics[\"Medal\"]\n",
    "\n",
    "X_train, X_test, y_train ,y_test = train_test_split(prepared, labels, random_state= 0)\n",
    "forest = RandomForestClassifier(n_jobs=-1,max_depth=10,n_estimators=200, random_state=0)\n",
    "forest.fit(X_train, y_train)\n",
    "y_pred = forest.predict(X_test)\n",
    "print('Accuracy on the training subset: {:3f}'.format(forest.score(X_train, y_train)))\n",
    "print('Accuracy on the testing subset: {:3f}'.format(forest.score(X_test, y_test)))\n"
   ]
  },
  {
   "cell_type": "code",
   "execution_count": null,
   "metadata": {},
   "outputs": [],
   "source": [
    "# Applying Grid Search to find the best model and the best parameters\n",
    "from sklearn.model_selection import GridSearchCV\n",
    "parameters = [{'max_depth': [ 10, 100, 500,1000], 'n_estimators': [10,100,200,1000]}]\n",
    "grid_search = GridSearchCV(estimator = forest,\n",
    "                           param_grid = parameters,\n",
    "                           scoring = 'accuracy',\n",
    "                           cv = 10,\n",
    "                           n_jobs = -1)\n",
    "grid_search = grid_search.fit(X_train, y_train)\n"
   ]
  },
  {
   "cell_type": "code",
   "execution_count": 79,
   "metadata": {},
   "outputs": [
    {
     "data": {
      "text/plain": [
       "0.8898721730580138"
      ]
     },
     "execution_count": 79,
     "metadata": {},
     "output_type": "execute_result"
    }
   ],
   "source": [
    "accuracy = grid_search.best_score_\n",
    "accuracy"
   ]
  },
  {
   "cell_type": "code",
   "execution_count": 80,
   "metadata": {},
   "outputs": [
    {
     "data": {
      "text/plain": [
       "{'max_depth': 10, 'n_estimators': 200}"
      ]
     },
     "execution_count": 80,
     "metadata": {},
     "output_type": "execute_result"
    }
   ],
   "source": [
    "grid_search.best_params_"
   ]
  },
  {
   "cell_type": "code",
   "execution_count": 83,
   "metadata": {},
   "outputs": [
    {
     "data": {
      "image/png": "[encoded data removed]",
      "text/plain": [
       "<Figure size 1080x576 with 1 Axes>"
      ]
     },
     "metadata": {},
     "output_type": "display_data"
    }
   ],
   "source": [
    "# Creating confusin matrix and heat map\n",
    "from sklearn.metrics import confusion_matrix\n",
    "import seaborn as sns\n",
    "import matplotlib.pyplot as plt\n",
    "mat = confusion_matrix(y_test, y_pred)\n",
    "sns.set(style=\"darkgrid\")\n",
    "plt.figure(figsize=(15,8))\n",
    "sns.heatmap(mat.T, square=True, annot=True, fmt='d',cbar=False,cmap='viridis')\n",
    "\n",
    "#Plotting heatmap of Confusion Matrix\n",
    "plt.xlabel('true label')\n",
    "plt.ylabel('predicted label');"
   ]
  },
  {
   "cell_type": "code",
   "execution_count": 9,
   "metadata": {},
   "outputs": [
    {
     "name": "stdout",
     "output_type": "stream",
     "text": [
      "Predictions:\t ['Bronze' 'Copper' 'Gold' 'Copper' 'Gold' 'Copper' 'Copper' 'Copper'\n",
      " 'Gold' 'Copper' 'Copper' 'Copper' 'Copper' 'Copper' 'Copper']\n"
     ]
    },
    {
     "data": {
      "text/plain": [
       "(None, 40    Bronze\n",
       " 41    Bronze\n",
       " 42      Gold\n",
       " 43    Copper\n",
       " 44      Gold\n",
       " 45    Copper\n",
       " 46    Copper\n",
       " 47    Copper\n",
       " 48      Gold\n",
       " 49    Copper\n",
       " 50    Bronze\n",
       " 51    Copper\n",
       " 52    Copper\n",
       " 53    Copper\n",
       " 54    Copper\n",
       " Name: Medal, dtype: object)"
      ]
     },
     "execution_count": 9,
     "metadata": {},
     "output_type": "execute_result"
    }
   ],
   "source": [
    "some_data = olympics.iloc[40:55]\n",
    "some_labels = labels.iloc[40:55]\n",
    "some_data_prepared = full_pipeline.transform(some_data)\n",
    "print(\"Predictions:\\t\", forest.predict(some_data_prepared)),some_labels"
   ]
  },
  {
   "cell_type": "code",
   "execution_count": 12,
   "metadata": {},
   "outputs": [
    {
     "name": "stdout",
     "output_type": "stream",
     "text": [
      "Accuracy on the training subset: 0.898722\n",
      "Accuracy on the testing subset: 0.896755\n"
     ]
    },
    {
     "name": "stderr",
     "output_type": "stream",
     "text": [
      "/home/saazi/ml/env/lib/python3.6/site-packages/sklearn/linear_model/logistic.py:758: ConvergenceWarning: lbfgs failed to converge. Increase the number of iterations.\n",
      "  \"of iterations.\", ConvergenceWarning)\n"
     ]
    }
   ],
   "source": [
    "'''\n",
    "Logistic regression performed slightly poorer than the Random forest\n",
    "'''\n",
    "from sklearn.linear_model import LogisticRegression\n",
    "lin_reg = LogisticRegression(solver='lbfgs',max_iter=300,multi_class='multinomial',random_state=0)\n",
    "lin_reg.fit(X_train, y_train)\n",
    "label_log = lin_reg.predict(X_test)\n",
    "print('Accuracy on the training subset: {:3f}'.format(lin_reg.score(X_train, y_train)))\n",
    "print('Accuracy on the testing subset: {:3f}'.format(lin_reg.score(X_test, y_test)))\n"
   ]
  },
  {
   "cell_type": "code",
   "execution_count": 25,
   "metadata": {},
   "outputs": [
    {
     "data": {
      "image/png": "[encoded data removed]",
      "text/plain": [
       "<Figure size 1080x576 with 1 Axes>"
      ]
     },
     "metadata": {},
     "output_type": "display_data"
    }
   ],
   "source": [
    "# Creating confusin matrix and heat map\n",
    "from sklearn.metrics import confusion_matrix\n",
    "import seaborn as sns\n",
    "import matplotlib.pyplot as plt\n",
    "mat = confusion_matrix(y_test, label_log)\n",
    "sns.set(style=\"darkgrid\")\n",
    "plt.figure(figsize=(15,8))\n",
    "sns.heatmap(mat.T, square=True, annot=True, fmt='d',cbar=False,cmap='viridis',xticklabels=encoder.classes_,yticklabels=encoder.classes_)\n",
    "\n",
    "#Plotting heatmap of Confusion Matrix\n",
    "plt.xlabel('true label')\n",
    "plt.ylabel('predicted label');"
   ]
  },
  {
   "cell_type": "code",
   "execution_count": 12,
   "metadata": {},
   "outputs": [
    {
     "name": "stdout",
     "output_type": "stream",
     "text": [
      "Accuracy on the training subset: 0.865280\n",
      "Accuracy on the testing subset: 0.861000\n"
     ]
    }
   ],
   "source": [
    "#Naive bayes doesnt require scaling of the data(numerical) and performs slightly worse than logistic regression\n",
    "from sklearn.naive_bayes import MultinomialNB\n",
    "\n",
    "num_pipeline = Pipeline([\n",
    "    ('selector',DataFrameSelector(num_attributes)),\n",
    "   # ('std_scaler', StandardScaler())\n",
    "])\n",
    "\n",
    "cat_pipeline = Pipeline([\n",
    "    ('selector',DataFrameSelector(cat_attributes)),\n",
    "    ('label_binarizer', MultiColumnLabelEncoder())\n",
    "])\n",
    "\n",
    "full_pipeline = FeatureUnion(transformer_list=[\n",
    "    (\"num_pipeline\", num_pipeline),\n",
    "    (\"cat_pipeline\", cat_pipeline),\n",
    "])\n",
    "\n",
    "prepared = full_pipeline.fit_transform(olympics)\n",
    "#prepared\n",
    "\n",
    "#data[\"Category\"] = encoder.fit_transform(data[\"Category\"].astype('str'))\n",
    "#features = df.drop([\"Medal\"], axis=1)\n",
    "\n",
    "labels = olympics[\"Medal\"]\n",
    "\n",
    "\n",
    "\n",
    "X_train, X_test, y_train ,y_test = train_test_split(prepared, labels, random_state= 0)\n",
    "\n",
    "\n",
    "\n",
    "nbm = MultinomialNB()\n",
    "nbm.fit(X_train, y_train)\n",
    "label = nbm.predict(X_test)\n",
    "\n",
    "print('Accuracy on the training subset: {:3f}'.format(nbm.score(X_train, y_train)))\n",
    "print('Accuracy on the testing subset: {:3f}'.format(nbm.score(X_test, y_test)))\n"
   ]
  },
  {
   "cell_type": "code",
   "execution_count": 13,
   "metadata": {},
   "outputs": [
    {
     "name": "stdout",
     "output_type": "stream",
     "text": [
      "Accuracy on the training subset: 0.891413\n",
      "Accuracy on the testing subset: 0.888320\n"
     ]
    }
   ],
   "source": [
    "from sklearn.naive_bayes import GaussianNB\n",
    "\n",
    "num_pipeline = Pipeline([\n",
    "    ('selector',DataFrameSelector(num_attributes)),\n",
    "    ('std_scaler', StandardScaler())\n",
    "])\n",
    "\n",
    "cat_pipeline = Pipeline([\n",
    "    ('selector',DataFrameSelector(cat_attributes)),\n",
    "    ('label_binarizer', MultiColumnLabelEncoder())\n",
    "])\n",
    "\n",
    "full_pipeline = FeatureUnion(transformer_list=[\n",
    "    (\"num_pipeline\", num_pipeline),\n",
    "    (\"cat_pipeline\", cat_pipeline),\n",
    "])\n",
    "\n",
    "prepared = full_pipeline.fit_transform(olympics)\n",
    "labels = olympics[\"Medal\"]\n",
    "\n",
    "X_train, X_test, y_train ,y_test = train_test_split(prepared, labels, random_state= 0)\n",
    "\n",
    "nb = GaussianNB()\n",
    "nb.fit(X_train, y_train)\n",
    "\n",
    "print('Accuracy on the training subset: {:3f}'.format(nb.score(X_train, y_train)))\n",
    "print('Accuracy on the testing subset: {:3f}'.format(nb.score(X_test, y_test)))\n"
   ]
  },
  {
   "cell_type": "code",
   "execution_count": 26,
   "metadata": {},
   "outputs": [
    {
     "data": {
      "image/png": "[encoded data removed]",
      "text/plain": [
       "<Figure size 1080x576 with 1 Axes>"
      ]
     },
     "metadata": {},
     "output_type": "display_data"
    }
   ],
   "source": [
    "# Creating confusin matrix and heat map\n",
    "from sklearn.metrics import confusion_matrix\n",
    "import seaborn as sns\n",
    "import matplotlib.pyplot as plt\n",
    "mat = confusion_matrix(y_test, label)\n",
    "sns.set(style=\"darkgrid\")\n",
    "plt.figure(figsize=(15,8))\n",
    "sns.heatmap(mat.T, square=True, annot=True, fmt='d',cbar=False,cmap='viridis',xticklabels=encoder.classes_,yticklabels=encoder.classes_)\n",
    "\n",
    "#Plotting heatmap of Confusion Matrix\n",
    "plt.xlabel('true label')\n",
    "plt.ylabel('predicted label');"
   ]
  },
  {
   "cell_type": "code",
   "execution_count": 15,
   "metadata": {},
   "outputs": [
    {
     "name": "stderr",
     "output_type": "stream",
     "text": [
      "/home/saazi/ml/env/lib/python3.6/site-packages/sklearn/preprocessing/data.py:323: DataConversionWarning: Data with input dtype int64, float64 were all converted to float64 by MinMaxScaler.\n",
      "  return self.partial_fit(X, y)\n"
     ]
    },
    {
     "name": "stdout",
     "output_type": "stream",
     "text": [
      "Accuracy on the training subset: 0.930280\n",
      "Accuracy on the testing subset: 0.817600\n"
     ]
    }
   ],
   "source": [
    "from sklearn.pipeline import Pipeline\n",
    "from sklearn.preprocessing import MinMaxScaler\n",
    "\n",
    "cat_attributes = [\"Sex\",\"NOC\",\"Games\",\"Sport\",\"City\",\"Season\",\"Event\",\"Medal\"]\n",
    "features = olympics.drop(cat_attributes, axis=1)\n",
    "\n",
    "labels = olympics[\"Medal\"]\n",
    "\n",
    "X_train, X_test, y_train ,y_test = train_test_split(features, labels, random_state= 0)\n",
    "\n",
    "pipe = Pipeline([(\"scaler\", MinMaxScaler()), (\"forest\", RandomForestClassifier(n_jobs=-1,\n",
    "                                                        max_depth=100,n_estimators=100,\n",
    "                                                       random_state=0))])\n",
    "\n",
    "pipe.fit(X_train, y_train)\n",
    "print('Accuracy on the training subset: {:3f}'.format(pipe.score(X_train, y_train)))\n",
    "print('Accuracy on the testing subset: {:3f}'.format(pipe.score(X_test, y_test)))\n"
   ]
  },
  {
   "cell_type": "code",
   "execution_count": 1,
   "metadata": {},
   "outputs": [],
   "source": [
    "import pandas as pd\n",
    "import numpy as np\n",
    "olympics = pd.read_csv(\"~/Documents/datasets/olympics/athlete_events.csv\")\n",
    "olympics = olympics.sample(frac=0.05, random_state=1)\n",
    "olympics['Year'] = olympics['Year'].astype(str)"
   ]
  },
  {
   "cell_type": "code",
   "execution_count": 2,
   "metadata": {},
   "outputs": [
    {
     "data": {
      "text/plain": [
       "ID        0\n",
       "Name      0\n",
       "Sex       0\n",
       "Age       0\n",
       "Height    0\n",
       "Weight    0\n",
       "Team      0\n",
       "NOC       0\n",
       "Games     0\n",
       "Year      0\n",
       "Season    0\n",
       "City      0\n",
       "Sport     0\n",
       "Event     0\n",
       "Medal     0\n",
       "dtype: int64"
      ]
     },
     "execution_count": 2,
     "metadata": {},
     "output_type": "execute_result"
    }
   ],
   "source": [
    "def preprocess_features(X):\n",
    "    ''' Preprocess data and convert all categorical features to dummies'''\n",
    "    #Initalise new output dataframe\n",
    "    output = pd.DataFrame(index = X.index)\n",
    "    \n",
    "    # Investigate each feature column for the data\n",
    "    for col, col_data in X.iteritems():\n",
    "        \n",
    "        # If data is categorical,convert to dummy variables\n",
    "        if col_data.dtype == object:\n",
    "            col_data = col_data.fillna('Copper')\n",
    "        else:\n",
    "            col_data = col_data.fillna(col_data.mean()) \n",
    "        \n",
    "        # Collect the revised columns\n",
    "        output = output.join(col_data)\n",
    "    return output\n",
    "\n",
    "olympics = preprocess_features(olympics)\n",
    "olympics.isnull().sum()"
   ]
  },
  {
   "cell_type": "code",
   "execution_count": 3,
   "metadata": {},
   "outputs": [],
   "source": [
    "def column_types(df):\n",
    "    cat_cols = []\n",
    "    num_cols = []\n",
    "    \n",
    "    for y in df.columns:\n",
    "        if (df[y].dtype == object):\n",
    "            cat_cols.append(y)\n",
    "        else:\n",
    "            num_cols.append(y)\n",
    "    \n",
    "    return cat_cols, num_cols\n",
    "\n",
    "\n",
    "cat_attributes ,num_attributes = column_types(olympics)"
   ]
  },
  {
   "cell_type": "code",
   "execution_count": 4,
   "metadata": {},
   "outputs": [
    {
     "data": {
      "text/plain": [
       "['Name',\n",
       " 'Sex',\n",
       " 'Team',\n",
       " 'NOC',\n",
       " 'Games',\n",
       " 'Year',\n",
       " 'Season',\n",
       " 'City',\n",
       " 'Sport',\n",
       " 'Event',\n",
       " 'Medal']"
      ]
     },
     "execution_count": 4,
     "metadata": {},
     "output_type": "execute_result"
    }
   ],
   "source": [
    "cat_attributes\n"
   ]
  },
  {
   "cell_type": "code",
   "execution_count": 5,
   "metadata": {},
   "outputs": [
    {
     "data": {
      "text/plain": [
       "['ID', 'Age', 'Height', 'Weight']"
      ]
     },
     "execution_count": 5,
     "metadata": {},
     "output_type": "execute_result"
    }
   ],
   "source": [
    "num_attributes"
   ]
  },
  {
   "cell_type": "code",
   "execution_count": null,
   "metadata": {},
   "outputs": [
    {
     "name": "stderr",
     "output_type": "stream",
     "text": [
      "/home/saazi/ml/env/lib/python3.6/site-packages/ipykernel_launcher.py:36: FutureWarning: Sorting because non-concatenation axis is not aligned. A future version\n",
      "of pandas will change to not sort by default.\n",
      "\n",
      "To accept the future behavior, pass 'sort=False'.\n",
      "\n",
      "To retain the current behavior and silence the warning, pass 'sort=True'.\n",
      "\n"
     ]
    }
   ],
   "source": [
    "import pandas as pd\n",
    "import numpy as np\n",
    "import seaborn as sns\n",
    "from sklearn.ensemble import RandomForestClassifier\n",
    "from sklearn.model_selection import train_test_split\n",
    "from sklearn.preprocessing import StandardScaler\n",
    "from sklearn.decomposition import PCA\n",
    "from sklearn.preprocessing import scale\n",
    "\n",
    "\n",
    "'''\n",
    "Load some data and do some cleaning\n",
    "#NOTE: This dataset contains one million rows so it takes a considerable time \n",
    "        to load depending on your computing power and memory resources\n",
    "'''\n",
    "\n",
    "olympics = pd.read_csv(\"~/Documents/datasets/olympics/athlete_events.csv\")\n",
    "olympics = olympics.sample(frac=0.05, random_state=1)\n",
    "to_drop = ['Name','Team','ID']\n",
    "olympics.drop(to_drop,1,inplace=True)\n",
    "\n",
    "olympics['Year'] = olympics['Year'].astype(str)\n",
    "\n",
    "def clean(X):\n",
    "    output = pd.DataFrame(index = X.index)\n",
    "    for col, col_data in X.iteritems():\n",
    "        # If data is categorical,convert to dummy variables\n",
    "        if col == \"Medal\":\n",
    "            col_data = col_data.fillna('Copper')\n",
    "            #olympics = olympics.join(col_data)\n",
    "            output = output.join(col_data)\n",
    "    return output\n",
    "    \n",
    "        \n",
    "olympics1 = clean(olympics)  \n",
    "olympics = pd.concat([olympics, olympics1])\n",
    "\n",
    "def column_types(df):\n",
    "    cat_cols = []\n",
    "    num_cols = []\n",
    "    \n",
    "    for y in df.columns:\n",
    "        if (df[y].dtype == object):\n",
    "            cat_cols.append(y)\n",
    "        else:\n",
    "            num_cols.append(y)\n",
    "    \n",
    "    return cat_cols, num_cols\n",
    "\n",
    "cat_attributes ,num_attributes = column_types(olympics)\n",
    "\n",
    "def preprocess_features(X):\n",
    "    ''' Preprocess data and convert all categorical features to dummies'''\n",
    "    #Initalise new output dataframe\n",
    "    output = pd.DataFrame(index = X.index)\n",
    "    \n",
    "    # Investigate each feature column for the data\n",
    "    for col, col_data in X.iteritems():\n",
    "        \n",
    "        # If data is categorical,convert to dummy variables\n",
    "        if col_data.dtype == object:\n",
    "            #col_data = col_data.fillna('Copper')\n",
    "            col_data = pd.get_dummies(col_data,prefix = col)\n",
    "        else:\n",
    "            col_data = col_data.fillna(col_data.mean()) \n",
    "        \n",
    "        # Collect the revised columns\n",
    "        output = output.join(col_data)\n",
    "    return output\n",
    "\n",
    "X_all = olympics.drop('Medal',1)\n",
    "\n",
    "X_all = preprocess_features(X_all)\n",
    "\n",
    "#cat_attributes ,num_attributes = column_types(X_all)\n",
    "\n",
    "y_all = olympics[\"Medal\"]\n",
    "\n",
    "\n",
    "#Standardising the data\n",
    "#Center to the mean and component wise scale to unit variance\n",
    "for col in num_attributes:\n",
    "    X_all[col] = scale(X_all[col])\n",
    "\n",
    "pca=PCA(n_components=150)\n",
    "\n",
    "x_pca = pca.fit_transform(X_all)\n",
    "\n",
    "X_train, X_test, y_train ,y_test = train_test_split(x_pca, y_all, random_state= 0,test_size = 0.25)\n",
    "pca.explained_variance_ratio_.sum()"
   ]
  },
  {
   "cell_type": "code",
   "execution_count": 62,
   "metadata": {},
   "outputs": [
    {
     "name": "stdout",
     "output_type": "stream",
     "text": [
      "Logistic Regresssion...\n",
      "Done in 0.1630096435546875 seconds...\n",
      "F1 Score: 0.40257268191726975\n",
      "              precision    recall  f1-score   support\n",
      "\n",
      "      Bronze       0.41      0.37      0.39       168\n",
      "        Gold       0.43      0.53      0.48       166\n",
      "      Silver       0.37      0.32      0.34       162\n",
      "\n",
      "   micro avg       0.41      0.41      0.41       496\n",
      "   macro avg       0.40      0.41      0.40       496\n",
      "weighted avg       0.40      0.41      0.40       496\n",
      "\n",
      "Accuracy on the training subset: 0.509764\n",
      "Accuracy on the testing subset: 0.407258\n",
      "\n",
      "Gaussian Naive Bayes...\n",
      "Done in 0.0050678253173828125 seconds...\n",
      "F1 Score: 0.36616433584099856\n",
      "              precision    recall  f1-score   support\n",
      "\n",
      "      Bronze       0.38      0.26      0.30       168\n",
      "        Gold       0.39      0.51      0.44       166\n",
      "      Silver       0.35      0.36      0.35       162\n",
      "\n",
      "   micro avg       0.37      0.37      0.37       496\n",
      "   macro avg       0.37      0.37      0.37       496\n",
      "weighted avg       0.37      0.37      0.37       496\n",
      "\n",
      "Accuracy on the training subset: 0.455892\n",
      "Accuracy on the testing subset: 0.372984\n",
      "\n",
      "Multinomial Naive Bayes...\n",
      "Done in 0.006983757019042969 seconds...\n",
      "F1 Score: 0.34127015111620085\n",
      "              precision    recall  f1-score   support\n",
      "\n",
      "      Bronze       0.38      0.26      0.30       168\n",
      "        Gold       0.39      0.51      0.44       166\n",
      "      Silver       0.35      0.36      0.35       162\n",
      "\n",
      "   micro avg       0.37      0.37      0.37       496\n",
      "   macro avg       0.37      0.37      0.37       496\n",
      "weighted avg       0.37      0.37      0.37       496\n",
      "\n",
      "Accuracy on the training subset: 0.348148\n",
      "Accuracy on the testing subset: 0.328629\n",
      "\n",
      "Support Vector Machine...\n",
      "Done in 0.6840312480926514 seconds...\n",
      "F1 Score: 0.37350151221694494\n",
      "              precision    recall  f1-score   support\n",
      "\n",
      "      Bronze       0.36      0.27      0.31       168\n",
      "        Gold       0.40      0.45      0.42       166\n",
      "      Silver       0.37      0.41      0.39       162\n",
      "\n",
      "   micro avg       0.38      0.38      0.38       496\n",
      "   macro avg       0.37      0.38      0.37       496\n",
      "weighted avg       0.37      0.38      0.37       496\n",
      "\n",
      "Accuracy on the training subset: 0.513805\n",
      "Accuracy on the testing subset: 0.377016\n",
      "\n",
      "Random Forest...\n",
      "Done in 0.8914875984191895 seconds...\n",
      "F1 Score: 0.4060045662100456\n",
      "              precision    recall  f1-score   support\n",
      "\n",
      "      Bronze       0.39      0.30      0.34       168\n",
      "        Gold       0.44      0.62      0.52       166\n",
      "      Silver       0.41      0.33      0.36       162\n",
      "\n",
      "   micro avg       0.42      0.42      0.42       496\n",
      "   macro avg       0.41      0.42      0.41       496\n",
      "weighted avg       0.41      0.42      0.41       496\n",
      "\n",
      "Accuracy on the training subset: 0.995286\n",
      "Accuracy on the testing subset: 0.417339\n",
      "\n",
      "XGBoost Classifier...\n",
      "Done in 3.721100091934204 seconds...\n",
      "F1 Score: 0.4117987095878579\n",
      "              precision    recall  f1-score   support\n",
      "\n",
      "      Bronze       0.38      0.32      0.35       168\n",
      "        Gold       0.45      0.56      0.50       166\n",
      "      Silver       0.41      0.37      0.39       162\n",
      "\n",
      "   micro avg       0.42      0.42      0.42       496\n",
      "   macro avg       0.41      0.42      0.41       496\n",
      "weighted avg       0.41      0.42      0.41       496\n",
      "\n",
      "Accuracy on the training subset: 0.916498\n",
      "Accuracy on the testing subset: 0.417339\n",
      "\n"
     ]
    }
   ],
   "source": [
    "%matplotlib inline\n",
    "import pandas as pd\n",
    "import xgboost as xgb\n",
    "from sklearn.ensemble import RandomForestClassifier\n",
    "from sklearn.naive_bayes import MultinomialNB\n",
    "from sklearn.naive_bayes import GaussianNB\n",
    "from sklearn.linear_model import LogisticRegression\n",
    "from sklearn.svm import SVC\n",
    "import seaborn as sns\n",
    "import numpy as np\n",
    "import matplotlib.pyplot as plt\n",
    "import datetime as dt\n",
    "from matplotlib import style\n",
    "from sklearn.metrics import classification_report, f1_score\n",
    "from time import time\n",
    "\n",
    "clf_A = LogisticRegression(solver='lbfgs',random_state = 42,multi_class='auto')\n",
    "nb = GaussianNB()\n",
    "nbm = MultinomialNB()\n",
    "clf_B = SVC(random_state = 912,kernel = 'rbf',gamma = 'scale')\n",
    "clf_C = RandomForestClassifier(n_estimators = 100,max_depth = 10,random_state=82)\n",
    "clf_D = xgb.XGBClassifier(seed=82)\n",
    "\n",
    "print('Logistic Regresssion...')\n",
    "start  = time()\n",
    "clf_A.fit(X_train, y_train)\n",
    "end = time()\n",
    "print('Done in {} seconds...'.format(end - start))\n",
    "y_pred_A = clf_A.predict(X_test)\n",
    "print(\"F1 Score: {}\".format(f1_score(y_test,y_pred_A,average = 'macro')))\n",
    "print(classification_report(y_test,y_pred_A))\n",
    "print('Accuracy on the training subset: {:3f}'.format(clf_A.score(X_train, y_train)))\n",
    "print('Accuracy on the testing subset: {:3f}'.format(clf_A.score(X_test, y_test)))\n",
    "print('')\n",
    "\n",
    "print('Gaussian Naive Bayes...')\n",
    "start  = time()\n",
    "nb.fit(X_train, y_train)\n",
    "end = time()\n",
    "print('Done in {} seconds...'.format(end - start))\n",
    "y_pred_nb = nb.predict(X_test)\n",
    "print(\"F1 Score: {}\".format(f1_score(y_test,y_pred_nb,average = 'macro')))\n",
    "print(classification_report(y_test,y_pred_nb))\n",
    "print('Accuracy on the training subset: {:3f}'.format(nb.score(X_train, y_train)))\n",
    "print('Accuracy on the testing subset: {:3f}'.format(nb.score(X_test, y_test)))\n",
    "print('')\n",
    "\n",
    "print('Multinomial Naive Bayes...')\n",
    "start  = time()\n",
    "nbm.fit(abs(X_train), y_train)\n",
    "end = time()\n",
    "print('Done in {} seconds...'.format(end - start))\n",
    "y_pred_nbm = nb.predict(abs(X_test))\n",
    "print(\"F1 Score: {}\".format(f1_score(y_test,y_pred_nbm,average = 'macro')))\n",
    "print(classification_report(y_test,y_pred_nb))\n",
    "print('Accuracy on the training subset: {:3f}'.format(nbm.score(X_train, y_train)))\n",
    "print('Accuracy on the testing subset: {:3f}'.format(nbm.score(X_test, y_test)))\n",
    "print('')\n",
    "\n",
    "print('Support Vector Machine...')\n",
    "start  = time()\n",
    "clf_B.fit(X_train, y_train)\n",
    "end = time()\n",
    "print('Done in {} seconds...'.format(end - start))\n",
    "y_pred_B = clf_B.predict(X_test)\n",
    "print(\"F1 Score: {}\".format(f1_score(y_test,y_pred_B,average = 'macro')))\n",
    "print(classification_report(y_test,y_pred_B))\n",
    "print('Accuracy on the training subset: {:3f}'.format(clf_B.score(X_train, y_train)))\n",
    "print('Accuracy on the testing subset: {:3f}'.format(clf_B.score(X_test, y_test)))\n",
    "print('')\n",
    "\n",
    "print('Random Forest...')\n",
    "start = time()\n",
    "clf_C.fit(X_train, y_train)\n",
    "end = time()\n",
    "print('Done in {} seconds...'.format(end - start))\n",
    "y_pred_C = clf_C.predict(X_test)\n",
    "print(\"F1 Score: {}\".format(f1_score(y_test,y_pred_C,average = 'macro')))\n",
    "print(classification_report(y_test,y_pred_C))\n",
    "print('Accuracy on the training subset: {:3f}'.format(clf_C.score(X_train, y_train)))\n",
    "print('Accuracy on the testing subset: {:3f}'.format(clf_C.score(X_test, y_test)))\n",
    "print('')\n",
    "\n",
    "print('XGBoost Classifier...')\n",
    "start = time()\n",
    "clf_D.fit(X_train, y_train)\n",
    "end = time()\n",
    "print('Done in {} seconds...'.format(end - start))\n",
    "y_pred_D = clf_D.predict(X_test)\n",
    "print(\"F1 Score: {}\".format(f1_score(y_test,y_pred_D,average = 'macro')))\n",
    "print(classification_report(y_test,y_pred_D))\n",
    "print('Accuracy on the training subset: {:3f}'.format(clf_D.score(X_train, y_train)))\n",
    "print('Accuracy on the testing subset: {:3f}'.format(clf_D.score(X_test, y_test)))\n",
    "print('')\n"
   ]
  },
  {
   "cell_type": "code",
   "execution_count": 37,
   "metadata": {},
   "outputs": [
    {
     "data": {
      "text/html": [
       "<div>\n",
       "<style scoped>\n",
       "    .dataframe tbody tr th:only-of-type {\n",
       "        vertical-align: middle;\n",
       "    }\n",
       "\n",
       "    .dataframe tbody tr th {\n",
       "        vertical-align: top;\n",
       "    }\n",
       "\n",
       "    .dataframe thead th {\n",
       "        text-align: right;\n",
       "    }\n",
       "</style>\n",
       "<table border=\"1\" class=\"dataframe\">\n",
       "  <thead>\n",
       "    <tr style=\"text-align: right;\">\n",
       "      <th></th>\n",
       "      <th>Sex</th>\n",
       "      <th>Age</th>\n",
       "      <th>Height</th>\n",
       "      <th>Weight</th>\n",
       "      <th>NOC</th>\n",
       "      <th>Games</th>\n",
       "      <th>Year</th>\n",
       "      <th>Season</th>\n",
       "      <th>City</th>\n",
       "      <th>Sport</th>\n",
       "      <th>Event</th>\n",
       "    </tr>\n",
       "  </thead>\n",
       "  <tbody>\n",
       "    <tr>\n",
       "      <th>87425</th>\n",
       "      <td>M</td>\n",
       "      <td>26.0</td>\n",
       "      <td>170.0</td>\n",
       "      <td>65.0</td>\n",
       "      <td>KOR</td>\n",
       "      <td>1968 Summer</td>\n",
       "      <td>1968</td>\n",
       "      <td>Summer</td>\n",
       "      <td>Mexico City</td>\n",
       "      <td>Cycling</td>\n",
       "      <td>Cycling Men's Sprint</td>\n",
       "    </tr>\n",
       "    <tr>\n",
       "      <th>232882</th>\n",
       "      <td>M</td>\n",
       "      <td>36.0</td>\n",
       "      <td>173.0</td>\n",
       "      <td>81.0</td>\n",
       "      <td>JPN</td>\n",
       "      <td>2010 Winter</td>\n",
       "      <td>2010</td>\n",
       "      <td>Winter</td>\n",
       "      <td>Vancouver</td>\n",
       "      <td>Bobsleigh</td>\n",
       "      <td>Bobsleigh Men's Four</td>\n",
       "    </tr>\n",
       "    <tr>\n",
       "      <th>108037</th>\n",
       "      <td>M</td>\n",
       "      <td>33.0</td>\n",
       "      <td>171.0</td>\n",
       "      <td>81.0</td>\n",
       "      <td>SVK</td>\n",
       "      <td>2004 Summer</td>\n",
       "      <td>2004</td>\n",
       "      <td>Summer</td>\n",
       "      <td>Athina</td>\n",
       "      <td>Cycling</td>\n",
       "      <td>Cycling Men's Keirin</td>\n",
       "    </tr>\n",
       "    <tr>\n",
       "      <th>249841</th>\n",
       "      <td>F</td>\n",
       "      <td>26.0</td>\n",
       "      <td>177.0</td>\n",
       "      <td>67.0</td>\n",
       "      <td>ROU</td>\n",
       "      <td>1964 Summer</td>\n",
       "      <td>1964</td>\n",
       "      <td>Summer</td>\n",
       "      <td>Tokyo</td>\n",
       "      <td>Volleyball</td>\n",
       "      <td>Volleyball Women's Volleyball</td>\n",
       "    </tr>\n",
       "    <tr>\n",
       "      <th>140123</th>\n",
       "      <td>M</td>\n",
       "      <td>27.0</td>\n",
       "      <td>182.0</td>\n",
       "      <td>79.0</td>\n",
       "      <td>FIN</td>\n",
       "      <td>1960 Summer</td>\n",
       "      <td>1960</td>\n",
       "      <td>Summer</td>\n",
       "      <td>Roma</td>\n",
       "      <td>Shooting</td>\n",
       "      <td>Shooting Men's Free Pistol, 50 metres</td>\n",
       "    </tr>\n",
       "  </tbody>\n",
       "</table>\n",
       "</div>"
      ],
      "text/plain": [
       "       Sex   Age  Height  Weight  NOC        Games  Year  Season         City  \\\n",
       "87425    M  26.0   170.0    65.0  KOR  1968 Summer  1968  Summer  Mexico City   \n",
       "232882   M  36.0   173.0    81.0  JPN  2010 Winter  2010  Winter    Vancouver   \n",
       "108037   M  33.0   171.0    81.0  SVK  2004 Summer  2004  Summer       Athina   \n",
       "249841   F  26.0   177.0    67.0  ROU  1964 Summer  1964  Summer        Tokyo   \n",
       "140123   M  27.0   182.0    79.0  FIN  1960 Summer  1960  Summer         Roma   \n",
       "\n",
       "             Sport                                  Event  \n",
       "87425      Cycling                   Cycling Men's Sprint  \n",
       "232882   Bobsleigh                   Bobsleigh Men's Four  \n",
       "108037     Cycling                   Cycling Men's Keirin  \n",
       "249841  Volleyball          Volleyball Women's Volleyball  \n",
       "140123    Shooting  Shooting Men's Free Pistol, 50 metres  "
      ]
     },
     "execution_count": 37,
     "metadata": {},
     "output_type": "execute_result"
    }
   ],
   "source": [
    "X_all.head()"
   ]
  },
  {
   "cell_type": "code",
   "execution_count": 21,
   "metadata": {},
   "outputs": [
    {
     "data": {
      "text/plain": [
       "['Age', 'Height', 'Weight']"
      ]
     },
     "execution_count": 21,
     "metadata": {},
     "output_type": "execute_result"
    }
   ],
   "source": [
    "num_attributes"
   ]
  },
  {
   "cell_type": "code",
   "execution_count": 34,
   "metadata": {},
   "outputs": [
    {
     "data": {
      "text/plain": [
       "array([[9.92818715e-01, 4.73990256e-01, 1.45066255e+00, ...,\n",
       "        1.35202182e-02, 5.09435895e-03, 3.08476474e-03],\n",
       "       [1.22067299e+00, 1.23403198e+00, 4.25774315e-02, ...,\n",
       "        4.90142866e-03, 1.32771324e-02, 1.39414701e-03],\n",
       "       [4.57901997e-01, 3.51721782e-01, 7.74580512e-01, ...,\n",
       "        1.35299665e-02, 7.69272600e-03, 1.17782830e-02],\n",
       "       ...,\n",
       "       [4.88231709e-01, 1.14730177e-01, 3.82747471e-02, ...,\n",
       "        9.94622889e-03, 1.96257718e-03, 1.51738817e-02],\n",
       "       [4.47756058e-01, 1.23493288e-01, 5.76349188e-02, ...,\n",
       "        1.36562751e-02, 2.12169201e-02, 3.64747084e-02],\n",
       "       [3.08057475e-01, 2.68370095e-01, 2.11513610e-01, ...,\n",
       "        1.46097325e-02, 2.05022475e-02, 3.15051299e-02]])"
      ]
     },
     "execution_count": 34,
     "metadata": {},
     "output_type": "execute_result"
    }
   ],
   "source": [
    "abs(X_train)\n"
   ]
  }
 ],
 "metadata": {
  "kernelspec": {
   "display_name": "Python 3",
   "language": "python",
   "name": "python3"
  },
  "language_info": {
   "codemirror_mode": {
    "name": "ipython",
    "version": 3
   },
   "file_extension": ".py",
   "mimetype": "text/x-python",
   "name": "python",
   "nbconvert_exporter": "python",
   "pygments_lexer": "ipython3",
   "version": "3.6.8"
  }
 },
 "nbformat": 4,
 "nbformat_minor": 2
}
