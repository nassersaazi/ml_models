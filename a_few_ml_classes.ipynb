{
 "cells": [
  {
   "cell_type": "markdown",
   "metadata": {},
   "source": [
    "# SOME CLASSES AND FUNCTIONS FOR COMMON ML TASKS"
   ]
  },
  {
   "cell_type": "code",
   "execution_count": 3,
   "metadata": {},
   "outputs": [],
   "source": [
    "#import config\n",
    "def tune_hyperparameter_model(ml_model, X_train, y_train, hyper_parameter_candidates, scoring_parameter , cv_fold, \n",
    "search_cv_type=\"grid\"):   \n",
    "    \"\"\"\n",
    "    apply grid search cv and randomized search cv algorithms to \n",
    "    find optimal hyperparameters model \n",
    "    :param ml_model: defined machine learning model\n",
    "    :param X_train: feature training data\n",
    "    :param y_train: target (label) training data\n",
    "    :param hyper_parameter_candidates: dictionary of \n",
    "     hyperparameter candidates\n",
    "    :param scoring_parameter: parameter that controls what metric \n",
    "     to apply to the evaluated model\n",
    "    :param cv_fold: number of cv divided folds\n",
    "    :param search_cv_type: type of search cv (gridsearchcv or \n",
    "     randomizedsearchcv)\n",
    "    :return classifier_model: defined classifier model\n",
    "    \"\"\"\n",
    "    try:\n",
    "        if (search_cv_type==config.GRID_SEARCH_CV):\n",
    "            classifier_model = GridSearchCV(estimator=ml_model, \n",
    "               param_grid=hyper_parameter_candidates, \n",
    "               scoring=scoring_paramete, cv=cv_fold)\n",
    "        elif (search_cv_type==config.RANDOMIZED_SEARCH_CV):\n",
    "            classifier_model =  RandomizedSearchCV(estimator=ml_model, \n",
    "               param_distributions=hyper_parameter_candidates, \n",
    "               scoring=scoring_parameter, cv=cv_fold)\n",
    "        classifier_model.fit(X_train, y_train)\n",
    "    except:\n",
    "        print_exception_message()\n",
    "    return classifier_model"
   ]
  },
  {
   "cell_type": "code",
   "execution_count": null,
   "metadata": {},
   "outputs": [],
   "source": []
  }
 ],
 "metadata": {
  "kernelspec": {
   "display_name": "Python 3",
   "language": "python",
   "name": "python3"
  },
  "language_info": {
   "codemirror_mode": {
    "name": "ipython",
    "version": 3
   },
   "file_extension": ".py",
   "mimetype": "text/x-python",
   "name": "python",
   "nbconvert_exporter": "python",
   "pygments_lexer": "ipython3",
   "version": "3.6.8"
  }
 },
 "nbformat": 4,
 "nbformat_minor": 2
}
