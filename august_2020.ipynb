{
 "cells": [
  {
   "cell_type": "code",
   "execution_count": 1,
   "metadata": {},
   "outputs": [
    {
     "name": "stderr",
     "output_type": "stream",
     "text": [
      "/home/saazi/ml/env/lib/python3.6/site-packages/IPython/core/interactiveshell.py:3020: DtypeWarning: Columns (0,5,7,8,13,14,16,18,19,24,33) have mixed types. Specify dtype option on import or set low_memory=False.\n",
      "  interactivity=interactivity, compiler=compiler, result=result)\n"
     ]
    }
   ],
   "source": [
    "import pandas as pd\n",
    "\n",
    "data = pd.read_csv('received_txns.csv')"
   ]
  },
  {
   "cell_type": "code",
   "execution_count": 2,
   "metadata": {},
   "outputs": [],
   "source": [
    "\n",
    "# column has to have atleast a given number of non-NANs to survive\n",
    "survey = data.dropna(thresh=90000, axis=1)"
   ]
  },
  {
   "cell_type": "code",
   "execution_count": 4,
   "metadata": {},
   "outputs": [],
   "source": [
    "# My custom class wherein are libraries like pandas ,mpl,np etc.\n",
    "from preprocessor import *\n",
    "prep = Preprocessor(survey)"
   ]
  },
  {
   "cell_type": "code",
   "execution_count": 5,
   "metadata": {},
   "outputs": [
    {
     "name": "stdout",
     "output_type": "stream",
     "text": [
      "\n",
      "Dataset contains 100061 rows and 25 columns\n",
      "\n",
      "Data types of the raw (uncleaned) data:\n",
      "TranId              object\n",
      "TransNo              int64\n",
      "CustomerRef         object\n",
      "CustomerName        object\n",
      "CustomerType        object\n",
      "CustomerTel         object\n",
      "Area                object\n",
      "TranAmount          object\n",
      "PaymentDate         object\n",
      "RecordDate          object\n",
      "TranType            object\n",
      "VendorTranId        object\n",
      "TranNarration       object\n",
      "SmsSent             object\n",
      "VendorCode          object\n",
      "Teller              object\n",
      "Reversal            object\n",
      "Cancelled          float64\n",
      "Offline            float64\n",
      "UtilityCode         object\n",
      "UtilityTranRef      object\n",
      "SentToUtility       object\n",
      "Status              object\n",
      "SentToVendor       float64\n",
      "UtilitySentDate     object\n",
      "dtype: object\n",
      "\n",
      "Categorical features of the dataset: ['TranId', 'CustomerRef', 'CustomerName', 'CustomerType', 'CustomerTel', 'Area', 'TranAmount', 'PaymentDate', 'RecordDate', 'TranType', 'VendorTranId', 'TranNarration', 'SmsSent', 'VendorCode', 'Teller', 'Reversal', 'UtilityCode', 'UtilityTranRef', 'SentToUtility', 'Status', 'UtilitySentDate']\n",
      "\n",
      "Numeric features of the dataset: ['TransNo', 'Cancelled', 'Offline', 'SentToVendor']\n",
      "\n",
      "Checking for features with null values...\n",
      "\n",
      "CustomerType       9972\n",
      "Area               6855\n",
      "UtilityTranRef     6680\n",
      "TranNarration       365\n",
      "UtilitySentDate     143\n",
      "Status              124\n",
      "SentToVendor        123\n",
      "UtilityCode         122\n",
      "Offline             122\n",
      "Cancelled           122\n",
      "Reversal            122\n",
      "Teller              122\n",
      "VendorCode          122\n",
      "SentToUtility       122\n",
      "VendorTranId         62\n",
      "RecordDate           61\n",
      "TranType             61\n",
      "SmsSent              61\n",
      "PaymentDate           1\n",
      "TranAmount            1\n",
      "CustomerName          1\n",
      "CustomerRef           1\n",
      "CustomerTel           0\n",
      "TransNo               0\n",
      "TranId                0\n",
      "dtype: int64\n"
     ]
    }
   ],
   "source": [
    "prep.overview()"
   ]
  },
  {
   "cell_type": "code",
   "execution_count": null,
   "metadata": {},
   "outputs": [],
   "source": []
  }
 ],
 "metadata": {
  "kernelspec": {
   "display_name": "Python 3",
   "language": "python",
   "name": "python3"
  },
  "language_info": {
   "codemirror_mode": {
    "name": "ipython",
    "version": 3
   },
   "file_extension": ".py",
   "mimetype": "text/x-python",
   "name": "python",
   "nbconvert_exporter": "python",
   "pygments_lexer": "ipython3",
   "version": "3.6.8"
  }
 },
 "nbformat": 4,
 "nbformat_minor": 2
}
