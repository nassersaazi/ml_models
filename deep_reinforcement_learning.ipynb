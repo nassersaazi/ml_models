{
 "cells": [
  {
   "cell_type": "markdown",
   "metadata": {},
   "source": [
    "# FIRST,A BRIEF RECAP OF DEEP LEARNING USING THE MNIST DATASET"
   ]
  },
  {
   "cell_type": "code",
   "execution_count": 1,
   "metadata": {},
   "outputs": [
    {
     "name": "stdout",
     "output_type": "stream",
     "text": [
      "WARNING:tensorflow:From <ipython-input-1-6b6759de8096>:6: read_data_sets (from tensorflow.contrib.learn.python.learn.datasets.mnist) is deprecated and will be removed in a future version.\n",
      "Instructions for updating:\n",
      "Please use alternatives such as official/mnist/dataset.py from tensorflow/models.\n",
      "WARNING:tensorflow:From /home/saazi/ml/env/lib/python3.6/site-packages/tensorflow/contrib/learn/python/learn/datasets/mnist.py:260: maybe_download (from tensorflow.contrib.learn.python.learn.datasets.base) is deprecated and will be removed in a future version.\n",
      "Instructions for updating:\n",
      "Please write your own downloading logic.\n",
      "WARNING:tensorflow:From /home/saazi/ml/env/lib/python3.6/site-packages/tensorflow/contrib/learn/python/learn/datasets/mnist.py:262: extract_images (from tensorflow.contrib.learn.python.learn.datasets.mnist) is deprecated and will be removed in a future version.\n",
      "Instructions for updating:\n",
      "Please use tf.data to implement this functionality.\n",
      "Extracting MNIST_data/train-images-idx3-ubyte.gz\n",
      "WARNING:tensorflow:From /home/saazi/ml/env/lib/python3.6/site-packages/tensorflow/contrib/learn/python/learn/datasets/mnist.py:267: extract_labels (from tensorflow.contrib.learn.python.learn.datasets.mnist) is deprecated and will be removed in a future version.\n",
      "Instructions for updating:\n",
      "Please use tf.data to implement this functionality.\n",
      "Extracting MNIST_data/train-labels-idx1-ubyte.gz\n",
      "WARNING:tensorflow:From /home/saazi/ml/env/lib/python3.6/site-packages/tensorflow/contrib/learn/python/learn/datasets/mnist.py:110: dense_to_one_hot (from tensorflow.contrib.learn.python.learn.datasets.mnist) is deprecated and will be removed in a future version.\n",
      "Instructions for updating:\n",
      "Please use tf.one_hot on tensors.\n",
      "Extracting MNIST_data/t10k-images-idx3-ubyte.gz\n",
      "Extracting MNIST_data/t10k-labels-idx1-ubyte.gz\n",
      "WARNING:tensorflow:From /home/saazi/ml/env/lib/python3.6/site-packages/tensorflow/contrib/learn/python/learn/datasets/mnist.py:290: DataSet.__init__ (from tensorflow.contrib.learn.python.learn.datasets.mnist) is deprecated and will be removed in a future version.\n",
      "Instructions for updating:\n",
      "Please use alternatives such as official/mnist/dataset.py from tensorflow/models.\n"
     ]
    }
   ],
   "source": [
    "import tensorflow as tf\n",
    "from tensorflow.examples.tutorials.mnist import input_data\n",
    "\n",
    "sess = tf.InteractiveSession()\n",
    "\n",
    "mnist = input_data.read_data_sets(\"MNIST_data/\", one_hot=True)"
   ]
  },
  {
   "cell_type": "code",
   "execution_count": 12,
   "metadata": {},
   "outputs": [
    {
     "name": "stdout",
     "output_type": "stream",
     "text": [
      "[0. 0. 0. 0. 0. 0. 0. 0. 0. 1.]\n"
     ]
    },
    {
     "data": {
      "image/png": "[encoded data removed]",
      "text/plain": [
       "<Figure size 432x288 with 1 Axes>"
      ]
     },
     "metadata": {},
     "output_type": "display_data"
    }
   ],
   "source": [
    "import matplotlib.pyplot as plt\n",
    "from matplotlib import style\n",
    "style.use('ggplot')\n",
    "\n",
    "def display_sample(num):\n",
    "    #print the one_hot arrayof this sample's label\n",
    "    print(mnist.train.labels[num])\n",
    "    #Print the label converted back to a number\n",
    "    label = mnist.train.labels[num].argmax(axis=0)\n",
    "    #Reshape the 768 values to a 28*28 image\n",
    "    image = mnist.train.images[num].reshape([28,28])\n",
    "    plt.title('Sample: %d Label: %d' % (num, label))\n",
    "    plt.imshow(image, cmap=plt.get_cmap('gray_r'))\n",
    "    plt.show()\n",
    "    \n",
    "display_sample(1234)"
   ]
  },
  {
   "cell_type": "code",
   "execution_count": 16,
   "metadata": {},
   "outputs": [
    {
     "data": {
      "image/png": "[encoded data removed]",
      "text/plain": [
       "<Figure size 432x288 with 1 Axes>"
      ]
     },
     "metadata": {},
     "output_type": "display_data"
    }
   ],
   "source": [
    "import numpy as np\n",
    "style.use('fivethirtyeight')\n",
    "\n",
    "images = mnist.train.images[0].reshape([1,784])\n",
    "for i in range(1,500):\n",
    "    images = np.concatenate((images,mnist.train.images[1].reshape([1,784])))\n",
    "    \n",
    "plt.imshow(images, cmap=plt.get_cmap('gray_r'))\n",
    "plt.show()"
   ]
  },
  {
   "cell_type": "code",
   "execution_count": 22,
   "metadata": {},
   "outputs": [],
   "source": [
    "input_images = tf.placeholder(tf.float32, shape=[None, 784])\n",
    "target_labels = tf.placeholder(tf.float32,shape=[None, 10])\n",
    "\n",
    "hidden_nodes = 512\n",
    "\n",
    "input_weights = tf.Variable(tf.truncated_normal([784, hidden_nodes]))\n",
    "input_biases = tf.Variable(tf.zeros([hidden_nodes]))\n",
    "\n",
    "hidden_weights = tf.Variable(tf.truncated_normal([hidden_nodes, 10]))\n",
    "hidden_biases = tf.Variable(tf.zeros([10]))\n",
    "\n",
    "input_layer = tf.matmul(input_images, input_weights)\n",
    "hidden_layer = tf.nn.relu(input_layer + input_biases)\n",
    "digit_weights = tf.matmul(hidden_layer,hidden_weights) + hidden_biases\n",
    "\n",
    "loss_function = tf.reduce_mean(tf.nn.softmax_cross_entropy_with_logits(logits=digit_weights, labels=target_labels))\n",
    "\n",
    "optimizer = tf.train.GradientDescentOptimizer(0.5).minimize(loss_function)\n",
    "\n",
    "correct_prediction = tf.equal(tf.argmax(digit_weights,1),tf.argmax(target_labels,1))\n",
    "accuracy = tf.reduce_mean(tf.cast(correct_prediction,tf.float32))"
   ]
  },
  {
   "cell_type": "code",
   "execution_count": 24,
   "metadata": {},
   "outputs": [
    {
     "name": "stdout",
     "output_type": "stream",
     "text": [
      "Training epoch 100\n",
      "Acurracy: 0.8569 \n",
      "Training epoch 200\n",
      "Acurracy: 0.8816 \n",
      "Training epoch 300\n",
      "Acurracy: 0.8972 \n",
      "Training epoch 400\n",
      "Acurracy: 0.8966 \n",
      "Training epoch 500\n",
      "Acurracy: 0.9027 \n",
      "Training epoch 600\n",
      "Acurracy: 0.9088 \n",
      "Training epoch 700\n",
      "Acurracy: 0.91 \n",
      "Training epoch 800\n",
      "Acurracy: 0.9149 \n",
      "Training epoch 900\n",
      "Acurracy: 0.9189 \n",
      "Training epoch 1000\n",
      "Acurracy: 0.9202 \n",
      "Training epoch 1100\n",
      "Acurracy: 0.9172 \n",
      "Training epoch 1200\n",
      "Acurracy: 0.9212 \n",
      "Training epoch 1300\n",
      "Acurracy: 0.9206 \n",
      "Training epoch 1400\n",
      "Acurracy: 0.9258 \n",
      "Training epoch 1500\n",
      "Acurracy: 0.9273 \n",
      "Training epoch 1600\n",
      "Acurracy: 0.9273 \n",
      "Training epoch 1700\n",
      "Acurracy: 0.9297 \n",
      "Training epoch 1800\n",
      "Acurracy: 0.9259 \n",
      "Training epoch 1900\n",
      "Acurracy: 0.9292 \n",
      "Training epoch 2000\n",
      "Acurracy: 0.9306 \n"
     ]
    }
   ],
   "source": [
    "tf.global_variables_initializer().run()\n",
    "\n",
    "for x in range(2000):\n",
    "    batch = mnist.train.next_batch(100)\n",
    "    optimizer.run(feed_dict={input_images: batch[0], target_labels: batch[1]})\n",
    "    if ((x+1) % 100 == 0):\n",
    "        print(f'Training epoch {str(x+1)}')\n",
    "        print(f'Acurracy: {str(accuracy.eval(feed_dict={input_images: mnist.test.images,target_labels: mnist.test.labels}))} ')"
   ]
  },
  {
   "cell_type": "markdown",
   "metadata": {},
   "source": [
    "# TRADING  USING DEEP REINFORCEMENT LEARNING"
   ]
  },
  {
   "cell_type": "code",
   "execution_count": null,
   "metadata": {},
   "outputs": [],
   "source": []
  }
 ],
 "metadata": {
  "kernelspec": {
   "display_name": "Python 3",
   "language": "python",
   "name": "python3"
  },
  "language_info": {
   "codemirror_mode": {
    "name": "ipython",
    "version": 3
   },
   "file_extension": ".py",
   "mimetype": "text/x-python",
   "name": "python",
   "nbconvert_exporter": "python",
   "pygments_lexer": "ipython3",
   "version": "3.6.8"
  }
 },
 "nbformat": 4,
 "nbformat_minor": 2
}
