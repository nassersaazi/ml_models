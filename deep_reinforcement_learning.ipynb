{
 "cells": [
  {
   "cell_type": "markdown",
   "metadata": {},
   "source": [
    "# FIRST,A BRIEF RECAP OF DEEP LEARNING USING THE MNIST DATASET"
   ]
  },
  {
   "cell_type": "code",
   "execution_count": 2,
   "metadata": {},
   "outputs": [
    {
     "name": "stdout",
     "output_type": "stream",
     "text": [
      "Extracting MNIST_data/train-images-idx3-ubyte.gz\n",
      "Extracting MNIST_data/train-labels-idx1-ubyte.gz\n",
      "Extracting MNIST_data/t10k-images-idx3-ubyte.gz\n",
      "Extracting MNIST_data/t10k-labels-idx1-ubyte.gz\n"
     ]
    }
   ],
   "source": [
    "import tensorflow as tf\n",
    "from tensorflow.examples.tutorials.mnist import input_data\n",
    "import warnings\n",
    "warnings.filterwarnings('ignore')\n",
    "sess = tf.InteractiveSession()\n",
    "\n",
    "mnist = input_data.read_data_sets(\"MNIST_data/\", one_hot=True)"
   ]
  },
  {
   "cell_type": "code",
   "execution_count": 11,
   "metadata": {},
   "outputs": [
    {
     "name": "stdout",
     "output_type": "stream",
     "text": [
      "[0. 0. 0. 0. 0. 0. 0. 0. 0. 1.]\n"
     ]
    },
    {
     "data": {
      "image/png": "[encoded data removed]",
      "text/plain": [
       "<Figure size 1080x576 with 1 Axes>"
      ]
     },
     "metadata": {},
     "output_type": "display_data"
    }
   ],
   "source": [
    "import matplotlib.pyplot as plt\n",
    "from matplotlib import style\n",
    "style.use('ggplot')\n",
    "plt.figure(figsize=(15,8))\n",
    "\n",
    "def display_sample(num):\n",
    "    #print the one_hot arrayof this sample's label\n",
    "    print(mnist.train.labels[num])\n",
    "    #Print the label converted back to a number\n",
    "    label = mnist.train.labels[num].argmax(axis=0)\n",
    "    #Reshape the 768 values to a 28*28 image\n",
    "    image = mnist.train.images[num].reshape([28,28])\n",
    "    plt.title('Sample: %d Label: %d' % (num, label))\n",
    "    plt.imshow(image, cmap=plt.get_cmap('gray_r'))\n",
    "    \n",
    "    \n",
    "display_sample(1234);"
   ]
  },
  {
   "cell_type": "code",
   "execution_count": 12,
   "metadata": {},
   "outputs": [
    {
     "data": {
      "image/png": "[encoded data removed]",
      "text/plain": [
       "<Figure size 1080x576 with 1 Axes>"
      ]
     },
     "metadata": {},
     "output_type": "display_data"
    }
   ],
   "source": [
    "import numpy as np\n",
    "style.use('fivethirtyeight')\n",
    "plt.figure(figsize=(15,8))\n",
    "\n",
    "images = mnist.train.images[0].reshape([1,784])\n",
    "for i in range(1,500):\n",
    "    images = np.concatenate((images,mnist.train.images[1].reshape([1,784])))\n",
    "    \n",
    "plt.imshow(images, cmap=plt.get_cmap('gray_r'));"
   ]
  },
  {
   "cell_type": "code",
   "execution_count": 14,
   "metadata": {},
   "outputs": [],
   "source": [
    "input_images = tf.placeholder(tf.float32, shape=[None, 784])\n",
    "target_labels = tf.placeholder(tf.float32,shape=[None, 10])\n",
    "\n",
    "hidden_nodes = 512\n",
    "\n",
    "input_weights = tf.Variable(tf.truncated_normal([784, hidden_nodes]))\n",
    "input_biases = tf.Variable(tf.zeros([hidden_nodes]))\n",
    "\n",
    "hidden_weights = tf.Variable(tf.truncated_normal([hidden_nodes, 10]))\n",
    "hidden_biases = tf.Variable(tf.zeros([10]))\n",
    "\n",
    "input_layer = tf.matmul(input_images, input_weights)\n",
    "hidden_layer = tf.nn.relu(input_layer + input_biases)\n",
    "digit_weights = tf.matmul(hidden_layer,hidden_weights) + hidden_biases\n",
    "\n",
    "loss_function = tf.reduce_mean(tf.nn.softmax_cross_entropy_with_logits(logits=digit_weights, labels=target_labels))\n",
    "\n",
    "optimizer = tf.train.GradientDescentOptimizer(0.5).minimize(loss_function)\n",
    "\n",
    "correct_prediction = tf.equal(tf.argmax(digit_weights,1),tf.argmax(target_labels,1))\n",
    "accuracy = tf.reduce_mean(tf.cast(correct_prediction,tf.float32))"
   ]
  },
  {
   "cell_type": "code",
   "execution_count": 15,
   "metadata": {},
   "outputs": [
    {
     "name": "stdout",
     "output_type": "stream",
     "text": [
      "Training epoch 100\n",
      "Acurracy: 0.8396 \n",
      "Training epoch 200\n",
      "Acurracy: 0.865 \n",
      "Training epoch 300\n",
      "Acurracy: 0.8823 \n",
      "Training epoch 400\n",
      "Acurracy: 0.8862 \n",
      "Training epoch 500\n",
      "Acurracy: 0.8933 \n",
      "Training epoch 600\n",
      "Acurracy: 0.8956 \n",
      "Training epoch 700\n",
      "Acurracy: 0.8968 \n",
      "Training epoch 800\n",
      "Acurracy: 0.908 \n",
      "Training epoch 900\n",
      "Acurracy: 0.9106 \n",
      "Training epoch 1000\n",
      "Acurracy: 0.9114 \n",
      "Training epoch 1100\n",
      "Acurracy: 0.9103 \n",
      "Training epoch 1200\n",
      "Acurracy: 0.914 \n",
      "Training epoch 1300\n",
      "Acurracy: 0.9147 \n",
      "Training epoch 1400\n",
      "Acurracy: 0.9197 \n",
      "Training epoch 1500\n",
      "Acurracy: 0.9202 \n",
      "Training epoch 1600\n",
      "Acurracy: 0.9226 \n",
      "Training epoch 1700\n",
      "Acurracy: 0.924 \n",
      "Training epoch 1800\n",
      "Acurracy: 0.9259 \n",
      "Training epoch 1900\n",
      "Acurracy: 0.9251 \n",
      "Training epoch 2000\n",
      "Acurracy: 0.925 \n"
     ]
    }
   ],
   "source": [
    "tf.global_variables_initializer().run()\n",
    "\n",
    "for x in range(2000):\n",
    "    batch = mnist.train.next_batch(100)\n",
    "    optimizer.run(feed_dict={input_images: batch[0], target_labels: batch[1]})\n",
    "    if ((x+1) % 100 == 0):\n",
    "        print(f'Training epoch {str(x+1)}')\n",
    "        print(f'Acurracy: {str(accuracy.eval(feed_dict={input_images: mnist.test.images,target_labels: mnist.test.labels}))} ')"
   ]
  },
  {
   "cell_type": "markdown",
   "metadata": {},
   "source": [
    "# TRADING  USING DEEP REINFORCEMENT LEARNING"
   ]
  },
  {
   "cell_type": "markdown",
   "metadata": {},
   "source": [
    "Reinforcement learning (RL) is an area of machine learning concerned with how software agents ought to take actions in an environment so as to maximize some notion of cumulative reward.\n",
    "\n",
    "Every reinforcement learning problem starts out with an environment and one or more agents that can interact with the environment."
   ]
  },
  {
   "cell_type": "markdown",
   "metadata": {},
   "source": [
    "    TensorTrade is an open source Python framework for training, evaluating, and deploying robust trading strategies using deep reinforcement learning. The framework focuses on being highly composable and extensible, to allow the system to scale from simple trading strategies on a single CPU, to complex investment strategies run on a distribution of HPC machines."
   ]
  }
 ],
 "metadata": {
  "kernelspec": {
   "display_name": "Python 3",
   "language": "python",
   "name": "python3"
  },
  "language_info": {
   "codemirror_mode": {
    "name": "ipython",
    "version": 3
   },
   "file_extension": ".py",
   "mimetype": "text/x-python",
   "name": "python",
   "nbconvert_exporter": "python",
   "pygments_lexer": "ipython3",
   "version": "3.6.8"
  }
 },
 "nbformat": 4,
 "nbformat_minor": 2
}
