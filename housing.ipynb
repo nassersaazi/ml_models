{
 "cells": [
  {
   "cell_type": "code",
   "execution_count": 71,
   "metadata": {},
   "outputs": [],
   "source": [
    "from preprocessor import *"
   ]
  },
  {
   "cell_type": "code",
   "execution_count": 100,
   "metadata": {},
   "outputs": [
    {
     "name": "stdout",
     "output_type": "stream",
     "text": [
      "(1460, 80)\n"
     ]
    }
   ],
   "source": [
    "data = pd.read_csv('~/Documents/datasets/house_prices/train.csv')\n",
    "\n",
    "\n",
    "prep = Preprocessor()\n",
    "\n",
    "data = data.drop(['Id'],axis=1)\n",
    "categorical, numerical = prep.column_types(data)\n",
    "\n",
    "data[categorical] = data[categorical].fillna(\"None\",axis = 1)\n",
    "data[numerical] = data[numerical].fillna(0,axis = 1)\n",
    "print(data.shape)"
   ]
  },
  {
   "cell_type": "code",
   "execution_count": 101,
   "metadata": {},
   "outputs": [
    {
     "name": "stdout",
     "output_type": "stream",
     "text": [
      "X shape: (2920, 303)\n",
      "Labels shape: (2920,)\n"
     ]
    }
   ],
   "source": [
    "import pickle\n",
    "from sklearn.preprocessing import MinMaxScaler\n",
    "from sklearn.model_selection import train_test_split\n",
    "from sklearn.linear_model import LinearRegression\n",
    "from sklearn.ensemble import RandomForestRegressor\n",
    "from sklearn.externals import joblib\n",
    "from sklearn.svm import SVR\n",
    "\n",
    "\n",
    "sc = MinMaxScaler()\n",
    "\n",
    "X_cats = pd.get_dummies(data[categorical])\n",
    "X_cats_df = pd.DataFrame(X_cats)\n",
    "\n",
    "X_nums = sc.fit_transform(data[numerical])\n",
    "X_nums_df = pd.DataFrame(X_nums,columns = numerical)\n",
    "\n",
    "X_all = pd.concat([X_nums_df,X_cats_df])\n",
    "X_all.fillna(0,axis = 1,inplace =True)\n",
    "\n",
    "X = X_all.drop(['SalePrice'],axis=1)\n",
    "y = X_all['SalePrice']\n",
    "\n",
    "\n",
    "\n",
    "\n",
    "print(\"X shape: {}\".format(X.shape))\n",
    "print(\"Labels shape: {}\".format(y.shape))\n",
    "\n",
    "\n",
    "X_train, X_test, y_train ,y_test = train_test_split(X, y,test_size=0.25, random_state= 42,shuffle=True)"
   ]
  },
  {
   "cell_type": "code",
   "execution_count": 102,
   "metadata": {},
   "outputs": [
    {
     "name": "stdout",
     "output_type": "stream",
     "text": [
      "Random Forest accuracy on the training subset: 0.987\n",
      "Random Forest accuracy on the testing subset: 0.948\n",
      "\n",
      "\n",
      "SVR accuracy on the training subset: 0.752\n",
      "SVR accuracy on the testing subset: 0.770\n"
     ]
    }
   ],
   "source": [
    "\n",
    "clf = RandomForestRegressor()\n",
    "clf.fit(X_train,y_train)\n",
    "\n",
    "svr = SVR()\n",
    "svr.fit(X_train,y_train)\n",
    "\n",
    "print(f'Random Forest accuracy on the training subset: {clf.score(X_train, y_train):.3f}')\n",
    "print(f'Random Forest accuracy on the testing subset: {clf.score(X_test, y_test):.3f}\\n\\n')\n",
    "\n",
    "print(f'SVR accuracy on the training subset: {svr.score(X_train, y_train):.3f}')\n",
    "print(f'SVR accuracy on the testing subset: {svr.score(X_test, y_test):.3f}')"
   ]
  },
  {
   "cell_type": "code",
   "execution_count": 95,
   "metadata": {},
   "outputs": [
    {
     "name": "stdout",
     "output_type": "stream",
     "text": [
      "Mean absolute error RF : 0.01410\n",
      "Mean squared error RF : 0.00084\n",
      "R2 Score:            0.95120\n",
      "\n",
      "Mean absolute error for SVR : 0.05526\n",
      "Mean squared error for SVR : 0.00396\n",
      "R2 Score for SVR :            0.77004\n"
     ]
    }
   ],
   "source": [
    "from sklearn.metrics import mean_absolute_error,mean_squared_error,r2_score\n",
    "\n",
    "y_pred_clf = clf.predict(X_test)\n",
    "y_pred_svr = svr.predict(X_test)\n",
    "\n",
    "print(f'Mean absolute error RF : {mean_absolute_error(y_test,y_pred_clf):.5f}')\n",
    "print(f'Mean squared error RF : {mean_squared_error(y_test,y_pred_clf):.5f}')\n",
    "print(f'R2 Score:            {r2_score(y_test,y_pred_clf):.5f}\\n')\n",
    "\n",
    "print(f'Mean absolute error for SVR : {mean_absolute_error(y_test,y_pred_svr):.5f}')\n",
    "print(f'Mean squared error for SVR : {mean_squared_error(y_test,y_pred_svr):.5f}')\n",
    "print(f'R2 Score for SVR :            {r2_score(y_test,y_pred_svr):.5f}')"
   ]
  },
  {
   "cell_type": "code",
   "execution_count": 64,
   "metadata": {},
   "outputs": [
    {
     "data": {
      "text/plain": [
       "['housing.pkl']"
      ]
     },
     "execution_count": 64,
     "metadata": {},
     "output_type": "execute_result"
    }
   ],
   "source": [
    "# Pickling the trained model\n",
    "filename = 'housing.pkl'\n",
    "joblib.dump(clf,filename)"
   ]
  },
  {
   "cell_type": "code",
   "execution_count": null,
   "metadata": {},
   "outputs": [],
   "source": []
  }
 ],
 "metadata": {
  "kernelspec": {
   "display_name": "Python 3",
   "language": "python",
   "name": "python3"
  },
  "language_info": {
   "codemirror_mode": {
    "name": "ipython",
    "version": 3
   },
   "file_extension": ".py",
   "mimetype": "text/x-python",
   "name": "python",
   "nbconvert_exporter": "python",
   "pygments_lexer": "ipython3",
   "version": "3.6.8"
  }
 },
 "nbformat": 4,
 "nbformat_minor": 2
}
