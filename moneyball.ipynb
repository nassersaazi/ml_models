{
 "cells": [
  {
   "cell_type": "raw",
   "metadata": {},
   "source": [
    "less people graduate than are enrolled at campus\n",
    "literacy levels in the country are down\n",
    "ML and PA can provide a solution to help increase graduation rates\n",
    "Our system uses data about students to predict who is more likely to \n",
    "    drop out and put that to the attention of the parties concerned\n",
    "Scope is MUK\n",
    "Population are MUK students\n",
    "Aim is to improve graduation rates by using ML to spot problems likely to \n",
    "    lead to dropping out early enough to prevent that from happening\n",
    "Aim is also to enable university in selection process while enrolling \n",
    "    to enable a chance to those most likely to graduate\n",
    "    Aim is also to enable optimal utilisation of academic resources across colleges"
   ]
  },
  {
   "cell_type": "raw",
   "metadata": {},
   "source": [
    "for high schools\n",
    "    -look at data from educ ministry over the past 20 years(A level school,A level combination, A level marks,\n",
    "                                                            O level marks,O level school)\n",
    "    -make conclusions about the most optimal combination for students enrolling for Hsc to get maximum results"
   ]
  },
  {
   "cell_type": "code",
   "execution_count": null,
   "metadata": {},
   "outputs": [],
   "source": []
  }
 ],
 "metadata": {
  "kernelspec": {
   "display_name": "Python 3",
   "language": "python",
   "name": "python3"
  },
  "language_info": {
   "codemirror_mode": {
    "name": "ipython",
    "version": 3
   },
   "file_extension": ".py",
   "mimetype": "text/x-python",
   "name": "python",
   "nbconvert_exporter": "python",
   "pygments_lexer": "ipython3",
   "version": "3.6.8"
  }
 },
 "nbformat": 4,
 "nbformat_minor": 2
}
