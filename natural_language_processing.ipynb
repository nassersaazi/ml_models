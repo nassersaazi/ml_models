{
 "cells": [
  {
   "cell_type": "code",
   "execution_count": 8,
   "metadata": {},
   "outputs": [],
   "source": [
    "from bs4 import BeautifulSoup\n",
    "import requests\n",
    "\n",
    "site = 'https://www.bukedde.co.ug'\n",
    "\n",
    "data = requests.get(site + '/bukedde/amawulire/1503281/mao-ayise-nambooze-ekiyenje-ekyetaaga-okufuuyira')\n",
    "\n",
    "soup = BeautifulSoup(data.text,'lxml')\n",
    "\n"
   ]
  },
  {
   "cell_type": "code",
   "execution_count": 9,
   "metadata": {},
   "outputs": [
    {
     "name": "stdout",
     "output_type": "stream",
     "text": [
      "Abed Bwanika, Nobert Mao ne Mabike mu lukuhhaana lwa bannamawulire.\n",
      "\n",
      "\n",
      "\n",
      "Mao yasinzidde mu lukiiko lwa bannamawulire n’ategeeza nti ekibiina ky'akulembera kyalumbibwa ebiku, emisota, ebiyenje, enkwa n’emisege egyetaaga okuggyamu.\n",
      "\n",
      "Yawadde eky’okulabirako ky’omubaka Nambooze gwe yagambye nti bafubye okumusembeza, kyokka ng’ebikolwa bye byonna birwanyisa ekibiina awo kwe kumuyita ekiyenje kye yagambye nti agenda kukifuuyira kiveewo.\n",
      "\n",
      "Yakiraze nti Nambooze amaze ebbanga nga tabawagira ng’ekibiina, wadde nga ye abadde ateekamu obudde ne yeetoloola Mukono ng’amunoonyeza obululu.\n",
      "\n",
      "Yasabye abeeyita bannakibiina okubeera abalambulukufu nga bwe baba tebakikkiririzaamu bakiveemu kubanga tekigasa okubeera mu bufumbo ng’obaliga.\n",
      "\n",
      "Yategeezezza nti batandise okufuna eddagala okufuuyira ekibiina bagobemu enkukunyi ebiyenje, emisota ebiku enkwa nabuli kintu kyonna ekitawaanya ekibiina kubanga tosobola kwambala yinifoomu ya ttiimu eno ate n’osambira ttiimu ndala.\n",
      "\n",
      "Yajjukizza nti DP eyaniriza buli muntu era mu mutima guno mwe baayaniririza Nambooze eyali owa NRM kakongoliro ng’atigomya n’abavubuka ba UYD.\n",
      "\n",
      "Mu kutigomya kweyatigomya abavubuka ba UYD nakati Micheal Mabikke akyalina enkovu ku mukono gwe.\n",
      "\n",
      "Teyakoma awo wabula yatuuka n’okuyungula abavubuka ne bayiwa piraawo waabwe ku mukolo gwe baaliko ekintu ekyasinga okubaluma. Mao yagambye nti olw'okuba DP erina omutima omulungi ,Nambooze baali bamusibidde ddala ku musango ogwokulya enguzi, ekibiina kya DP ne kiyungula balooya baakyo ne bamuyamba okumununula n’ava mu kkomera.\n",
      "\n",
      "Olw'ekikola kyetwamukolera yasalawo okuyingira DP mu 2004. Twamuwa okubeera omwogezi w’ekibiina n’okumusimba mu kifo ky’obubaka bwa Palamenti oluvannyuma lw’okulagira munna DP Zirimala Kiggundu okuvaamu.\n",
      "\n",
      "NAMBOOZE KY'AGAMBA\n",
      "\n",
      "Nambooze aliko obubaka bwe yatadde ku mukutu gwe ogwa facebook omutongole ng’ayanukula Christopher Okidi akulira abavubuka mu DP eyamwogeddeko mu ngeri efaanana eya Mao yamwanukudde nti; Mw. Okidi weetaaga okujja e Mukono nkubuulire ebinkwatako kuba n’omwaka gwoyogerako ogwa 1996 nali sikolera Mukono Town Council.\n",
      "\n",
      "Ebigambo byonna ebimwogerwako nti yatabangulanga enkiiko za UYD yamuyise pokopoko wa byabufuzi byabukyayi ebisasaanyizibwa Okidi.\n",
      "\n"
     ]
    }
   ],
   "source": [
    "for match in soup.find_all('div',class_ = 'article-content'):\n",
    "    \n",
    "    for paragraph in match.find_all('p'):\n",
    "        paragraph = paragraph.text.strip()\n",
    "        print(paragraph)\n",
    "        print('')"
   ]
  },
  {
   "cell_type": "code",
   "execution_count": null,
   "metadata": {},
   "outputs": [
    {
     "name": "stdout",
     "output_type": "stream",
     "text": [
      "\n",
      "Printing page 1\n",
      "Scraping failed,but do not despair\n"
     ]
    }
   ],
   "source": [
    "import requests\n",
    "import csv\n",
    "from bs4 import BeautifulSoup\n",
    "\n",
    "domain = 'https://www.bukedde.co.ug'\n",
    "\n",
    "# create a csv file on local machine and store scraped contents\n",
    "csv_file = open('/home/saazi/Documents/datasets/bukedde_crap1.csv','w')\n",
    "csv_writer = csv.writer(csv_file)\n",
    "csv_writer.writerow(['omutwe','omusasi','olunaku','content'])\n",
    "\n",
    "for page in range(1,3):\n",
    "    print('')\n",
    "    print('Printing page {}'.format(page))\n",
    "    url = \"https://www.bukedde.co.ug/search?facet=true&page={}&sort=Relevance&year_based=2018\".format(page)\n",
    "    bukedde = requests.get(url)\n",
    "\n",
    "    soup1 = BeautifulSoup(bukedde.text,'lxml')\n",
    "    #html = urlopen(url)\n",
    "    Title = soup1.find_all('div',class_ = 'list_discription')\n",
    "    for i in Title:\n",
    "        try:\n",
    "            name = i.find('a')\n",
    "            l = name.get('href')\n",
    "            uri = domain + l\n",
    "            \n",
    "            try:\n",
    "                bukedde2 = requests.get(uri)\n",
    "                soup2 = BeautifulSoup(bukedde2.text,'lxml')\n",
    "                match2 = soup2.find('div',class_ = 'top-story-block')\n",
    "                omutwe2 = match2.find('h1').text.strip()\n",
    "                omusasi2 = match2.find('div',class_ = 'author').p.text.strip()\n",
    "                for match in soup2.find('div',class_ = 'article-content'):\n",
    "                    for p in match.find_all('p'):\n",
    "                        paragraph = paragraph.text.strip()\n",
    "                        #print(paragraph)\n",
    "                        #print('')\n",
    "                olunaku2 = match2.find('div',class_='publish-date').p.text.strip()\n",
    "                csv_writer.writerow([omutwe2, omusasi2, olunaku2,paragraph])\n",
    "                \n",
    "                if page % 2 == 0:\n",
    "                    \n",
    "                    print(olunaku2)\n",
    "            except:\n",
    "                print('Scraping failed,but do not despair')\n",
    "                \n",
    "        except: AttributeError\n",
    "csv_file.close()"
   ]
  },
  {
   "cell_type": "code",
   "execution_count": 7,
   "metadata": {},
   "outputs": [
    {
     "name": "stdout",
     "output_type": "stream",
     "text": [
      "Abavubuka bakubiriziddwa obuteesigulira...\n",
      "\n",
      "Owa KCCA eyawambibwa attottodde...\n",
      "\n",
      "Okufa kwa baze kwanziza emabega...\n",
      "\n",
      "Engeri UPDF gyerwanyisizza embeera...\n",
      "\n",
      "Leero mu mboozi z'omukenkufu tukulaze...\n",
      "\n"
     ]
    }
   ],
   "source": [
    "for match in soup.find_all('div',class_ = 'list_discription'):\n",
    "    \n",
    "    for headline in match.find_all('h3'):\n",
    "        headline = headline.get_text()\n",
    "        #paragraph = match.find('div',class_ = 'article-adblock').p.text\n",
    "        print(headline)\n",
    "        print('')\n"
   ]
  },
  {
   "cell_type": "code",
   "execution_count": 8,
   "metadata": {},
   "outputs": [
    {
     "name": "stdout",
     "output_type": "stream",
     "text": [
      "In this Python Programming video, we will be learning how to run code in parallel using the multiprocessing module. We will also look at how to process multiple high-resolution images at the same time using a ProcessPoolExecutor from the concurrent.futures module. Let’s get started…\n",
      "https://youtube.com/watch?v=fKl2JW_qrso\n",
      "\n",
      "In this Python Programming video, we will be learning how to run threads concurrently using the threading module. We will also look at how to download multiple high-resolution images online using a ThreadPoolExecutor from the concurrent.futures module. Let’s get started…\n",
      "https://youtube.com/watch?v=IEEhzQoKtQU\n",
      "\n",
      "Hey everyone. I wanted to give you an update on my videos. I will be releasing videos on threading and multiprocessing within the next week. Thanks so much for your patience. I currently have a temporary recording studio setup at my Airbnb that will allow me to record and edit the threading/multiprocessing videos. I am going to be moving into my new house in 10 days and once I have my recording studio setup then you can expect much faster video releases. I really appreciate how patient everyone has been while I go through this move, especially those of you who are contributing monthly through YouTube \n",
      "None\n",
      "\n",
      "In this Python Programming Tutorial, we will be learning the difference between using “==” and the “is” keyword when doing comparisons. The difference between these is that “==” checks to see if values are equal, and the “is” keyword checks their identity, which means it’s going to check if the values are identical in terms of being the same object in memory. We’ll learn more in the video. Let’s get started…\n",
      "https://youtube.com/watch?v=mO_dS3rXDIs\n",
      "\n",
      "In this Python Programming Tutorial, we will be learning how to run external commands using the subprocess module from the standard library. We will learn how to run commands, capture the output, handle errors, and also how to pipe output into other commands. Let’s get started…\n",
      "https://youtube.com/watch?v=2Fp1N6dof0Y\n",
      "\n",
      "In this Python Programming Tutorial, we will be learning how to set up a Python development environment in VSCode on Windows. VSCode is a very nice free editor for writing Python applications and many developers are now switching over to this editor. In this video, we will learn how to install VSCode, get the Python extension installed, how to change Python interpreters, create virtual environments, format/lint our code, how to use Git within VSCode, how to debug our programs, how unit testing works, and more. We have a lot to cover, so let’s go ahead and get started…\n",
      "https://youtube.com/watch?v=-nh9rCzPJ20\n",
      "\n",
      "In this Python Programming Tutorial, we will be learning how to set up a Python development environment in VSCode on MacOS. VSCode is a very nice free editor for writing Python applications and many developers are now switching over to this editor. In this video, we will learn how to install VSCode, get the Python extension installed, how to change Python interpreters, create virtual environments, format/lint our code, how to use Git within VSCode, how to debug our programs, how unit testing works, and more. We have a lot to cover, so let’s go ahead and get started…\n",
      "https://youtube.com/watch?v=06I63_p-2A4\n",
      "\n",
      "In this Python Programming Tutorial, we will be clarifying the issues with mutable default arguments. We discussed this in my last video titled “5 Common Python Mistakes and How to Fix Them”, but I received many comments from people who were still confused. So we will be doing a deeper dive to explain exactly what is going on here. Let’s get started…\n",
      "https://youtube.com/watch?v=_JGmemuINww\n",
      "\n",
      "In this Python Programming Tutorial, we will be going over some of the most common mistakes. I get a lot of questions from people every day, and I have seen a lot of people making these same mistakes in their code. So we will investigate each of these common mistakes and also look at the fixes for each other these as well. Here are the timestamps for each topic we will cover… 1) Indentation and Spaces – 0:45 2) Naming Conflicts – 4:12 3) Mutable Default Args – 10:05 4) Exhausting Iterators – 16:35 5) Importing with * – 22:13\n",
      "https://youtube.com/watch?v=zdJEYhA2AZQ\n",
      "\n",
      "In this video, I’ll be showing how I set up a new development machine. I recently got a new MacBook and wanted to show how I use scripts to automate a lot of this process. It used to take me a lot of time to install all of my software and get everything set up the way I like it. Now I use these automated scripts to do this in minutes. Let’s get started…\n",
      "https://youtube.com/watch?v=kIdiWut8eD8\n",
      "\n"
     ]
    }
   ],
   "source": [
    "'''\n",
    "REFERENCE :-> Corey M Schafer on youtube.com,Web Scraping \n",
    "'''\n",
    "import csv\n",
    "corey = requests.get('https://coreyms.com/')\n",
    "\n",
    "soup_corey = BeautifulSoup(corey.text,'lxml')\n",
    "csv_file = open('/home/saazi/Documents/coreyms_scrape.csv','w')\n",
    "csv_writer = csv.writer(csv_file)\n",
    "csv_writer.writerow(['headline','summary','video_link'])\n",
    "\n",
    "for article in soup_corey.find_all('article'):\n",
    "    headline = article.h2.a.text\n",
    "    \n",
    "    summary = article.find('div',class_ = 'entry-content').p.text\n",
    "    print(summary)\n",
    "    \n",
    "    try:\n",
    "        \n",
    "        vid_src = article.find('iframe',class_='youtube-player')['src']\n",
    "        vid_id = vid_src.split('/')[4]\n",
    "        vid_id = vid_id.split('?')[0]\n",
    "        yt_link = f'https://youtube.com/watch?v={vid_id}'\n",
    "    except Exception as e:\n",
    "        yt_link = None\n",
    "            \n",
    "    print(yt_link)\n",
    "    print('')\n",
    "    \n",
    "    csv_writer.writerow([headline, summary, yt_link])\n",
    "    \n",
    "csv_file.close()\n",
    "\n"
   ]
  },
  {
   "cell_type": "code",
   "execution_count": 9,
   "metadata": {},
   "outputs": [
    {
     "name": "stdout",
     "output_type": "stream",
     "text": [
      "Processing http://my.gwu.edu/mod/pws/courses.cfm?campId=1&termId=201501&subjId=ACCY&pageNum=1...\n",
      "Processing http://my.gwu.edu/mod/pws/courses.cfm?campId=1&termId=201501&subjId=ACCY&pageNum=2...\n",
      "Processing http://my.gwu.edu/mod/pws/courses.cfm?campId=1&termId=201501&subjId=ACCY&pageNum=3...\n"
     ]
    }
   ],
   "source": [
    "'''\n",
    "SCRAPING MULTIPLE PAGES ON A WEBSITE FOR RELEVANT CONTENT\n",
    "'''\n",
    "from bs4 import BeautifulSoup as bsoup\n",
    "import requests as rq\n",
    "import re\n",
    "\n",
    "base_url = 'http://my.gwu.edu/mod/pws/courses.cfm?campId=1&termId=201501&subjId=ACCY'\n",
    "r = rq.get(base_url)\n",
    "\n",
    "soup = bsoup(r.text)\n",
    "# Use regex to isolate only the links of the page numbers, the one you click on.\n",
    "page_count_links = soup.find_all(\"a\",href=re.compile(r\".*javascript:goToPage.*\"))\n",
    "try: # Make sure there are more than one page, otherwise, set to 1.\n",
    "    num_pages = int(page_count_links[-1].get_text())\n",
    "except IndexError:\n",
    "    num_pages = 1\n",
    "\n",
    "# Add 1 because Python range.\n",
    "url_list = [\"{}&pageNum={}\".format(base_url, str(page)) for page in range(1, num_pages + 1)]\n",
    "\n",
    "# Open the text file. Use with to save self from grief.\n",
    "with open(\"results.txt\",\"w\") as acct:\n",
    "    for url_ in url_list:\n",
    "        print(\"Processing {}...\".format(url_))\n",
    "        r_new = rq.get(url_)\n",
    "        soup_new = bsoup(r_new.text)\n",
    "        for tr in soup_new.find_all('tr', align='center'):\n",
    "            stack = []\n",
    "            for td in tr.find_all('td'):\n",
    "                stack.append(td.text.replace('\\n', '').replace('\\t', '').strip())\n",
    "            acct.write(\", \".join(stack) + '\\n')\n",
    "            "
   ]
  },
  {
   "cell_type": "code",
   "execution_count": 5,
   "metadata": {},
   "outputs": [
    {
     "ename": "FileNotFoundError",
     "evalue": "[Errno 2] File b'/home/saazi/Documents/datasets/bukedde_crap2.csv' does not exist: b'/home/saazi/Documents/datasets/bukedde_crap2.csv'",
     "output_type": "error",
     "traceback": [
      "\u001b[0;31m---------------------------------------------------------------------------\u001b[0m",
      "\u001b[0;31mFileNotFoundError\u001b[0m                         Traceback (most recent call last)",
      "\u001b[0;32m<ipython-input-5-480fc18eb0a1>\u001b[0m in \u001b[0;36m<module>\u001b[0;34m\u001b[0m\n\u001b[1;32m      5\u001b[0m \u001b[0;34m\u001b[0m\u001b[0m\n\u001b[1;32m      6\u001b[0m \u001b[0mstyle\u001b[0m\u001b[0;34m.\u001b[0m\u001b[0muse\u001b[0m\u001b[0;34m(\u001b[0m\u001b[0;34m'fivethirtyeight'\u001b[0m\u001b[0;34m)\u001b[0m\u001b[0;34m\u001b[0m\u001b[0;34m\u001b[0m\u001b[0m\n\u001b[0;32m----> 7\u001b[0;31m \u001b[0mx\u001b[0m \u001b[0;34m=\u001b[0m \u001b[0mpd\u001b[0m\u001b[0;34m.\u001b[0m\u001b[0mread_csv\u001b[0m\u001b[0;34m(\u001b[0m\u001b[0;34m'/home/saazi/Documents/datasets/bukedde_crap2.csv'\u001b[0m\u001b[0;34m)\u001b[0m\u001b[0;34m\u001b[0m\u001b[0;34m\u001b[0m\u001b[0m\n\u001b[0m\u001b[1;32m      8\u001b[0m \u001b[0mprint\u001b[0m\u001b[0;34m(\u001b[0m\u001b[0mx\u001b[0m\u001b[0;34m.\u001b[0m\u001b[0momusasi\u001b[0m\u001b[0;34m.\u001b[0m\u001b[0mvalue_counts\u001b[0m\u001b[0;34m(\u001b[0m\u001b[0;34m)\u001b[0m\u001b[0;34m)\u001b[0m\u001b[0;34m\u001b[0m\u001b[0;34m\u001b[0m\u001b[0m\n\u001b[1;32m      9\u001b[0m \u001b[0mx\u001b[0m\u001b[0;34m.\u001b[0m\u001b[0mhead\u001b[0m\u001b[0;34m(\u001b[0m\u001b[0;36m20\u001b[0m\u001b[0;34m)\u001b[0m\u001b[0;34m\u001b[0m\u001b[0;34m\u001b[0m\u001b[0m\n",
      "\u001b[0;32m~/ml/env/lib/python3.6/site-packages/pandas/io/parsers.py\u001b[0m in \u001b[0;36mparser_f\u001b[0;34m(filepath_or_buffer, sep, delimiter, header, names, index_col, usecols, squeeze, prefix, mangle_dupe_cols, dtype, engine, converters, true_values, false_values, skipinitialspace, skiprows, skipfooter, nrows, na_values, keep_default_na, na_filter, verbose, skip_blank_lines, parse_dates, infer_datetime_format, keep_date_col, date_parser, dayfirst, cache_dates, iterator, chunksize, compression, thousands, decimal, lineterminator, quotechar, quoting, doublequote, escapechar, comment, encoding, dialect, error_bad_lines, warn_bad_lines, delim_whitespace, low_memory, memory_map, float_precision)\u001b[0m\n\u001b[1;32m    683\u001b[0m         )\n\u001b[1;32m    684\u001b[0m \u001b[0;34m\u001b[0m\u001b[0m\n\u001b[0;32m--> 685\u001b[0;31m         \u001b[0;32mreturn\u001b[0m \u001b[0m_read\u001b[0m\u001b[0;34m(\u001b[0m\u001b[0mfilepath_or_buffer\u001b[0m\u001b[0;34m,\u001b[0m \u001b[0mkwds\u001b[0m\u001b[0;34m)\u001b[0m\u001b[0;34m\u001b[0m\u001b[0;34m\u001b[0m\u001b[0m\n\u001b[0m\u001b[1;32m    686\u001b[0m \u001b[0;34m\u001b[0m\u001b[0m\n\u001b[1;32m    687\u001b[0m     \u001b[0mparser_f\u001b[0m\u001b[0;34m.\u001b[0m\u001b[0m__name__\u001b[0m \u001b[0;34m=\u001b[0m \u001b[0mname\u001b[0m\u001b[0;34m\u001b[0m\u001b[0;34m\u001b[0m\u001b[0m\n",
      "\u001b[0;32m~/ml/env/lib/python3.6/site-packages/pandas/io/parsers.py\u001b[0m in \u001b[0;36m_read\u001b[0;34m(filepath_or_buffer, kwds)\u001b[0m\n\u001b[1;32m    455\u001b[0m \u001b[0;34m\u001b[0m\u001b[0m\n\u001b[1;32m    456\u001b[0m     \u001b[0;31m# Create the parser.\u001b[0m\u001b[0;34m\u001b[0m\u001b[0;34m\u001b[0m\u001b[0;34m\u001b[0m\u001b[0m\n\u001b[0;32m--> 457\u001b[0;31m     \u001b[0mparser\u001b[0m \u001b[0;34m=\u001b[0m \u001b[0mTextFileReader\u001b[0m\u001b[0;34m(\u001b[0m\u001b[0mfp_or_buf\u001b[0m\u001b[0;34m,\u001b[0m \u001b[0;34m**\u001b[0m\u001b[0mkwds\u001b[0m\u001b[0;34m)\u001b[0m\u001b[0;34m\u001b[0m\u001b[0;34m\u001b[0m\u001b[0m\n\u001b[0m\u001b[1;32m    458\u001b[0m \u001b[0;34m\u001b[0m\u001b[0m\n\u001b[1;32m    459\u001b[0m     \u001b[0;32mif\u001b[0m \u001b[0mchunksize\u001b[0m \u001b[0;32mor\u001b[0m \u001b[0miterator\u001b[0m\u001b[0;34m:\u001b[0m\u001b[0;34m\u001b[0m\u001b[0;34m\u001b[0m\u001b[0m\n",
      "\u001b[0;32m~/ml/env/lib/python3.6/site-packages/pandas/io/parsers.py\u001b[0m in \u001b[0;36m__init__\u001b[0;34m(self, f, engine, **kwds)\u001b[0m\n\u001b[1;32m    893\u001b[0m             \u001b[0mself\u001b[0m\u001b[0;34m.\u001b[0m\u001b[0moptions\u001b[0m\u001b[0;34m[\u001b[0m\u001b[0;34m\"has_index_names\"\u001b[0m\u001b[0;34m]\u001b[0m \u001b[0;34m=\u001b[0m \u001b[0mkwds\u001b[0m\u001b[0;34m[\u001b[0m\u001b[0;34m\"has_index_names\"\u001b[0m\u001b[0;34m]\u001b[0m\u001b[0;34m\u001b[0m\u001b[0;34m\u001b[0m\u001b[0m\n\u001b[1;32m    894\u001b[0m \u001b[0;34m\u001b[0m\u001b[0m\n\u001b[0;32m--> 895\u001b[0;31m         \u001b[0mself\u001b[0m\u001b[0;34m.\u001b[0m\u001b[0m_make_engine\u001b[0m\u001b[0;34m(\u001b[0m\u001b[0mself\u001b[0m\u001b[0;34m.\u001b[0m\u001b[0mengine\u001b[0m\u001b[0;34m)\u001b[0m\u001b[0;34m\u001b[0m\u001b[0;34m\u001b[0m\u001b[0m\n\u001b[0m\u001b[1;32m    896\u001b[0m \u001b[0;34m\u001b[0m\u001b[0m\n\u001b[1;32m    897\u001b[0m     \u001b[0;32mdef\u001b[0m \u001b[0mclose\u001b[0m\u001b[0;34m(\u001b[0m\u001b[0mself\u001b[0m\u001b[0;34m)\u001b[0m\u001b[0;34m:\u001b[0m\u001b[0;34m\u001b[0m\u001b[0;34m\u001b[0m\u001b[0m\n",
      "\u001b[0;32m~/ml/env/lib/python3.6/site-packages/pandas/io/parsers.py\u001b[0m in \u001b[0;36m_make_engine\u001b[0;34m(self, engine)\u001b[0m\n\u001b[1;32m   1133\u001b[0m     \u001b[0;32mdef\u001b[0m \u001b[0m_make_engine\u001b[0m\u001b[0;34m(\u001b[0m\u001b[0mself\u001b[0m\u001b[0;34m,\u001b[0m \u001b[0mengine\u001b[0m\u001b[0;34m=\u001b[0m\u001b[0;34m\"c\"\u001b[0m\u001b[0;34m)\u001b[0m\u001b[0;34m:\u001b[0m\u001b[0;34m\u001b[0m\u001b[0;34m\u001b[0m\u001b[0m\n\u001b[1;32m   1134\u001b[0m         \u001b[0;32mif\u001b[0m \u001b[0mengine\u001b[0m \u001b[0;34m==\u001b[0m \u001b[0;34m\"c\"\u001b[0m\u001b[0;34m:\u001b[0m\u001b[0;34m\u001b[0m\u001b[0;34m\u001b[0m\u001b[0m\n\u001b[0;32m-> 1135\u001b[0;31m             \u001b[0mself\u001b[0m\u001b[0;34m.\u001b[0m\u001b[0m_engine\u001b[0m \u001b[0;34m=\u001b[0m \u001b[0mCParserWrapper\u001b[0m\u001b[0;34m(\u001b[0m\u001b[0mself\u001b[0m\u001b[0;34m.\u001b[0m\u001b[0mf\u001b[0m\u001b[0;34m,\u001b[0m \u001b[0;34m**\u001b[0m\u001b[0mself\u001b[0m\u001b[0;34m.\u001b[0m\u001b[0moptions\u001b[0m\u001b[0;34m)\u001b[0m\u001b[0;34m\u001b[0m\u001b[0;34m\u001b[0m\u001b[0m\n\u001b[0m\u001b[1;32m   1136\u001b[0m         \u001b[0;32melse\u001b[0m\u001b[0;34m:\u001b[0m\u001b[0;34m\u001b[0m\u001b[0;34m\u001b[0m\u001b[0m\n\u001b[1;32m   1137\u001b[0m             \u001b[0;32mif\u001b[0m \u001b[0mengine\u001b[0m \u001b[0;34m==\u001b[0m \u001b[0;34m\"python\"\u001b[0m\u001b[0;34m:\u001b[0m\u001b[0;34m\u001b[0m\u001b[0;34m\u001b[0m\u001b[0m\n",
      "\u001b[0;32m~/ml/env/lib/python3.6/site-packages/pandas/io/parsers.py\u001b[0m in \u001b[0;36m__init__\u001b[0;34m(self, src, **kwds)\u001b[0m\n\u001b[1;32m   1904\u001b[0m         \u001b[0mkwds\u001b[0m\u001b[0;34m[\u001b[0m\u001b[0;34m\"usecols\"\u001b[0m\u001b[0;34m]\u001b[0m \u001b[0;34m=\u001b[0m \u001b[0mself\u001b[0m\u001b[0;34m.\u001b[0m\u001b[0musecols\u001b[0m\u001b[0;34m\u001b[0m\u001b[0;34m\u001b[0m\u001b[0m\n\u001b[1;32m   1905\u001b[0m \u001b[0;34m\u001b[0m\u001b[0m\n\u001b[0;32m-> 1906\u001b[0;31m         \u001b[0mself\u001b[0m\u001b[0;34m.\u001b[0m\u001b[0m_reader\u001b[0m \u001b[0;34m=\u001b[0m \u001b[0mparsers\u001b[0m\u001b[0;34m.\u001b[0m\u001b[0mTextReader\u001b[0m\u001b[0;34m(\u001b[0m\u001b[0msrc\u001b[0m\u001b[0;34m,\u001b[0m \u001b[0;34m**\u001b[0m\u001b[0mkwds\u001b[0m\u001b[0;34m)\u001b[0m\u001b[0;34m\u001b[0m\u001b[0;34m\u001b[0m\u001b[0m\n\u001b[0m\u001b[1;32m   1907\u001b[0m         \u001b[0mself\u001b[0m\u001b[0;34m.\u001b[0m\u001b[0munnamed_cols\u001b[0m \u001b[0;34m=\u001b[0m \u001b[0mself\u001b[0m\u001b[0;34m.\u001b[0m\u001b[0m_reader\u001b[0m\u001b[0;34m.\u001b[0m\u001b[0munnamed_cols\u001b[0m\u001b[0;34m\u001b[0m\u001b[0;34m\u001b[0m\u001b[0m\n\u001b[1;32m   1908\u001b[0m \u001b[0;34m\u001b[0m\u001b[0m\n",
      "\u001b[0;32mpandas/_libs/parsers.pyx\u001b[0m in \u001b[0;36mpandas._libs.parsers.TextReader.__cinit__\u001b[0;34m()\u001b[0m\n",
      "\u001b[0;32mpandas/_libs/parsers.pyx\u001b[0m in \u001b[0;36mpandas._libs.parsers.TextReader._setup_parser_source\u001b[0;34m()\u001b[0m\n",
      "\u001b[0;31mFileNotFoundError\u001b[0m: [Errno 2] File b'/home/saazi/Documents/datasets/bukedde_crap2.csv' does not exist: b'/home/saazi/Documents/datasets/bukedde_crap2.csv'"
     ]
    }
   ],
   "source": [
    "import pandas as pd\n",
    "import seaborn as sns\n",
    "from matplotlib import style\n",
    "import matplotlib.pyplot as plt\n",
    "\n",
    "style.use('fivethirtyeight')\n",
    "x = pd.read_csv('/home/saazi/Documents/datasets/bukedde_crap2.csv')\n",
    "print(x.omusasi.value_counts())\n",
    "x.head(20)"
   ]
  },
  {
   "cell_type": "code",
   "execution_count": 11,
   "metadata": {},
   "outputs": [
    {
     "data": {
      "image/png": "[encoded data removed]",
      "text/plain": [
       "<Figure size 1080x576 with 1 Axes>"
      ]
     },
     "metadata": {
      "needs_background": "light"
     },
     "output_type": "display_data"
    }
   ],
   "source": [
    "plt.figure(figsize=(15,8))\n",
    "sns.countplot(x=\"omusasi\",data=x)\n",
    "#show the plot\n",
    "plt.xticks(rotation=90)\n",
    "plt.show()\n"
   ]
  },
  {
   "cell_type": "code",
   "execution_count": 12,
   "metadata": {},
   "outputs": [
    {
     "name": "stdout",
     "output_type": "stream",
     "text": [
      "ARTICLE: <newspaper.article.Article object at 0x7f2e41e6d2e8> \n",
      "\n",
      "AUTHORS: ['Nathaniel Popper', 'Mike Isaac'] \n",
      "\n",
      "DATE: 2019-07-17 00:00:00 \n",
      "\n",
      "KEYWORDS: ['second', 'stop', 'power', 'libra', 'marcus', 'facebook', 'day', 'dont', 'cryptocurrency', 'critical', 'working', 'reduce', 'hearings', 'faces', 'expressed', 'facebooks'] \n",
      "\n",
      "TEXT: Ms. Waters said she was working on new legislation that would make it illegal for big tech companies to get involved in the financial industry, which could stop Libra in its tracks.\n",
      "\n",
      "Mr. Marcus, the executive overseeing Calibra, the Facebook subsidiary working on the project, struck a conciliatory tone for a second day and said Facebook was listening to its critics.\n",
      "\n",
      "“I believe we are owning these mistakes and working to remedy them,” he said.\n",
      "\n",
      "Republicans on the committee were more eager to talk about the benefits that might come from Libra, but they also expressed their concern about Facebook’s plan.\n",
      "\n",
      "“Quite frankly, I don’t care for Facebook,” said Representative Barry Loudermilk, a Republican from Georgia. “But I do appreciate anyone who challenges the status quo.”\n",
      "\n",
      "Several Republicans asked if Facebook could stop people from using Libra in the way that it has closed the accounts of controversial political figures like the conservative commentator Milo Yiannopoulos.\n",
      "\n",
      "“I don’t know,” Mr. Marcus said, emphasizing the basic uncertainties that still face the currency.\n",
      "\n",
      "Facebook has designed Libra so that it can be governed by dozens of big corporate partners, organized through a Swiss nonprofit. This is supposed to reduce Facebook’s power over the currency, but it led to questions on Wednesday about how much power American regulators would have if governance of the system was not taking place in the United States.\n",
      "\n",
      "Facebook has said that Libra would be backed by several different traditional currencies, held in bank accounts. House committee members expressed concern that this could expose consumers to the risks of currency fluctuations, and might reduce the power of the dollar. \n",
      "\n",
      "SUMMARY: Waters said she was working on new legislation that would make it illegal for big tech companies to get involved in the financial industry, which could stop Libra in its tracks.\n",
      "Mr. Marcus, the executive overseeing Calibra, the Facebook subsidiary working on the project, struck a conciliatory tone for a second day and said Facebook was listening to its critics.\n",
      "Facebook has designed Libra so that it can be governed by dozens of big corporate partners, organized through a Swiss nonprofit.\n",
      "This is supposed to reduce Facebook’s power over the currency, but it led to questions on Wednesday about how much power American regulators would have if governance of the system was not taking place in the United States.\n",
      "House committee members expressed concern that this could expose consumers to the risks of currency fluctuations, and might reduce the power of the dollar. \n",
      "\n"
     ]
    }
   ],
   "source": [
    "'''\n",
    "This library scrapes an english news webste's article and includes modules that parse and summarise it\n",
    "\n",
    "REFERENCE ARTICLE ON MEDIUM :-> https://towardsdatascience.com/scrape-and-summarize-news-articles-in-5-lines-of-python-code-175f0e5c7dfc\n",
    "'''\n",
    "from newspaper import Article\n",
    "\n",
    "# Ein Artikel von die New York Times auf Facebooks Libracoin\n",
    "article = Article('https://www.nytimes.com/2019/07/17/technology/facebook-libra-house-hearing.html?action=click&module=Well&pgtype=Homepage&section=Business')\n",
    "article.download()\n",
    "print(f'ARTICLE: {article} \\n')\n",
    "# the article.parse() functions gets tricky with slow internet connections\n",
    "article.parse()\n",
    "article.nlp()\n",
    "print(f'AUTHORS: {article.authors} \\n')\n",
    "print(f'DATE: {article.publish_date} \\n')\n",
    "print(f'KEYWORDS: {article.keywords} \\n')\n",
    "print(f'TEXT: {article.text} \\n')\n",
    "print(f'SUMMARY: {article.summary} \\n')"
   ]
  },
  {
   "cell_type": "code",
   "execution_count": 13,
   "metadata": {},
   "outputs": [],
   "source": [
    "# Imports\n",
    "import requests\n",
    "from bs4 import BeautifulSoup\n",
    "from gensim.summarization import summarize\n",
    "\n",
    "# Article on Trumps relationship with Epstein\n",
    "\n",
    "# Retrieve page text\n",
    "url_trump = 'https://www.nytimes.com/2019/07/17/us/politics/trump-jeffrey-epstein-video.html?fallback=0&recId=1OBDJdcz9AEIY2svFfAPePNE14k&locked=0&geoContinent=AF&geoRegion=C&recAlloc=top_conversion&geoCountry=UG&blockId=most-popular&imp_id=784238399&action=click&module=Most%20Popular&pgtype=Homepage'\n",
    "page_trump = requests.get(url_trump).text"
   ]
  },
  {
   "cell_type": "code",
   "execution_count": 14,
   "metadata": {},
   "outputs": [
    {
     "name": "stdout",
     "output_type": "stream",
     "text": [
      "Trump and Epstein Partied and Commented on Women in 1992 Video\n"
     ]
    }
   ],
   "source": [
    "# Turn page into BeautifulSoup object to access HTML tags\n",
    "soup = BeautifulSoup(page_trump)\n",
    "\n",
    "# Get headline\n",
    "headline = soup.find('h1').get_text()\n",
    "print(headline)"
   ]
  },
  {
   "cell_type": "code",
   "execution_count": 15,
   "metadata": {},
   "outputs": [
    {
     "data": {
      "text/plain": [
       "['Advertisement',\n",
       " 'Supported by',\n",
       " '',\n",
       " 'By Maggie Haberman and Annie Karni',\n",
       " 'WASHINGTON — President Trump has been playing down his relationship with Jeffrey Epstein, the wealthy financier  under federal indictment on charges of sexually trafficking and abusing girls, but at least one night they shared together in the company of dozens of N.F.L. cheerleaders was documented on camera.',\n",
       " 'A newly unearthed video from 1992 shows Mr. Trump and Mr. Epstein watching and commenting on women together at an event at Mar-a-Lago, Mr. Trump’s club in Palm Beach, Fla. The video was broadcast on MSNBC’s “Morning Joe” on Wednesday morning.',\n",
       " 'Dressed in a suit and a pink tie, Mr. Trump, then 46, appears to be in jovial spirits as he plays host, laughing and warmly welcoming guests, including Mr. Epstein — the man he now claims he was “never a fan of.”',\n",
       " 'The video provides a glimpse of Mr. Trump in his element: moving back and forth between the dance floor, filled with cheerleaders for the Buffalo Bills and the Miami Dolphins, and watching from the sidelines, where at one point he points out a woman to Mr. Epstein and leans in to tell him, “She’s hot.” At another point, Mr. Epstein doubles over laughing at something Mr. Trump whispers into his ear.',\n",
       " 'Mr. Trump is aware he is being filmed, as he smiles and embraces a blond woman on the dance floor. At one point, he gestures to the camera and tells Mr. Epstein that it belongs to NBC.',\n",
       " 'The party took place the same year that Mr. Trump hosted a more private affair with Mr. Epstein at Mar-a-Lago, without cameras rolling. At that get-together, Mr. Trump and Mr. Epstein were the only male guests, and had more than two dozen “calendar girls” flown in to provide them with entertainment, according to George Houraney, a Florida-based businessman who ran American Dream Enterprise and organized the women to attend at Mr. Trump’s request.',\n",
       " 'Speaking to reporters last week in the Oval Office, the president distanced himself from Mr. Epstein, noting that he “knew him like everybody in Palm Beach knew him.” But Mr. Trump added: “I had a falling-out with him. I haven’t spoken to him in 15 years. I was not a fan of his, that I can tell you.”',\n",
       " 'During the 2016 campaign, Mr. Trump’s allies also worked to minimize Mr. Trump’s association with Mr. Epstein, while noting that former President Bill Clinton, whose wife was Mr. Trump’s rival, had also been friends with the self-professed billionaire.',\n",
       " 'The nature of why Mr. Trump and Mr. Epstein stopped talking remains unclear. Mr. Trump has told associates that he banned Mr. Epstein from Mar-a-Lago after a worker at Mr. Trump’s club was recruited to be a masseuse for Mr. Epstein. Others close to Mr. Epstein claim there was a business transaction related to a Florida property that apparently ended their friendship.',\n",
       " 'But in 2002 Mr. Trump described a much different relationship. “I’ve known Jeff for 15 years. Terrific guy,” Mr. Trump told New York magazine. “He’s a lot of fun to be with. It is even said that he likes beautiful women as much as I do, and many of them are on the younger side.”',\n",
       " 'The video is the latest evidence of that onetime friendship, and it renewed questions about whether Mr. Trump was aware that Mr. Epstein was sexually involved with women who were too young to consent.',\n",
       " 'Six years after the New York magazine interview, Mr. Epstein pleaded guilty to state charges in Florida in 2008 in what has been widely criticized as a sweetheart deal that shielded him from more serious charges at the federal level. The federal prosecutor in the case at the time was R. Alexander Acosta, who will leave his post as Mr. Trump’s secretary of labor at the end of this week amid extensive news media focus on his role in the 2008 agreement.',\n",
       " 'In a deposition in a 2010 lawsuit accusing him of the trafficking of children for sex, Mr. Epstein declined to answer a question about his relationship with Mr. Trump and whether they had ever socialized together “in the presence of females under the age of 18.”',\n",
       " '“Though I’d like to answer that question, at least today I’m going to have to assert my Fifth, Sixth, 23rd and 14th Amendment rights, sir,” Mr. Epstein replied.',\n",
       " 'The White House had no comment on the video.',\n",
       " '',\n",
       " '',\n",
       " '',\n",
       " 'Advertisement']"
      ]
     },
     "execution_count": 15,
     "metadata": {},
     "output_type": "execute_result"
    }
   ],
   "source": [
    "# Get text from all <p> tags.\n",
    "p_tags = soup.find_all('p')\n",
    "# Get the text from each of the \"p\" tags and strip surrounding whitespace.\n",
    "p_tags_text = [tag.get_text().strip() for tag in p_tags]\n",
    "p_tags_text"
   ]
  },
  {
   "cell_type": "code",
   "execution_count": 16,
   "metadata": {},
   "outputs": [
    {
     "data": {
      "text/plain": [
       "['WASHINGTON — President Trump has been playing down his relationship with Jeffrey Epstein, the wealthy financier  under federal indictment on charges of sexually trafficking and abusing girls, but at least one night they shared together in the company of dozens of N.F.L. cheerleaders was documented on camera.',\n",
       " 'A newly unearthed video from 1992 shows Mr. Trump and Mr. Epstein watching and commenting on women together at an event at Mar-a-Lago, Mr. Trump’s club in Palm Beach, Fla. The video was broadcast on MSNBC’s “Morning Joe” on Wednesday morning.',\n",
       " 'Dressed in a suit and a pink tie, Mr. Trump, then 46, appears to be in jovial spirits as he plays host, laughing and warmly welcoming guests, including Mr. Epstein — the man he now claims he was “never a fan of.”',\n",
       " 'The video provides a glimpse of Mr. Trump in his element: moving back and forth between the dance floor, filled with cheerleaders for the Buffalo Bills and the Miami Dolphins, and watching from the sidelines, where at one point he points out a woman to Mr. Epstein and leans in to tell him, “She’s hot.” At another point, Mr. Epstein doubles over laughing at something Mr. Trump whispers into his ear.',\n",
       " 'Mr. Trump is aware he is being filmed, as he smiles and embraces a blond woman on the dance floor. At one point, he gestures to the camera and tells Mr. Epstein that it belongs to NBC.',\n",
       " 'The party took place the same year that Mr. Trump hosted a more private affair with Mr. Epstein at Mar-a-Lago, without cameras rolling. At that get-together, Mr. Trump and Mr. Epstein were the only male guests, and had more than two dozen “calendar girls” flown in to provide them with entertainment, according to George Houraney, a Florida-based businessman who ran American Dream Enterprise and organized the women to attend at Mr. Trump’s request.',\n",
       " 'Speaking to reporters last week in the Oval Office, the president distanced himself from Mr. Epstein, noting that he “knew him like everybody in Palm Beach knew him.” But Mr. Trump added: “I had a falling-out with him. I haven’t spoken to him in 15 years. I was not a fan of his, that I can tell you.”',\n",
       " 'During the 2016 campaign, Mr. Trump’s allies also worked to minimize Mr. Trump’s association with Mr. Epstein, while noting that former President Bill Clinton, whose wife was Mr. Trump’s rival, had also been friends with the self-professed billionaire.',\n",
       " 'The nature of why Mr. Trump and Mr. Epstein stopped talking remains unclear. Mr. Trump has told associates that he banned Mr. Epstein from Mar-a-Lago after a worker at Mr. Trump’s club was recruited to be a masseuse for Mr. Epstein. Others close to Mr. Epstein claim there was a business transaction related to a Florida property that apparently ended their friendship.',\n",
       " 'But in 2002 Mr. Trump described a much different relationship. “I’ve known Jeff for 15 years. Terrific guy,” Mr. Trump told New York magazine. “He’s a lot of fun to be with. It is even said that he likes beautiful women as much as I do, and many of them are on the younger side.”',\n",
       " 'The video is the latest evidence of that onetime friendship, and it renewed questions about whether Mr. Trump was aware that Mr. Epstein was sexually involved with women who were too young to consent.',\n",
       " 'Six years after the New York magazine interview, Mr. Epstein pleaded guilty to state charges in Florida in 2008 in what has been widely criticized as a sweetheart deal that shielded him from more serious charges at the federal level. The federal prosecutor in the case at the time was R. Alexander Acosta, who will leave his post as Mr. Trump’s secretary of labor at the end of this week amid extensive news media focus on his role in the 2008 agreement.',\n",
       " 'In a deposition in a 2010 lawsuit accusing him of the trafficking of children for sex, Mr. Epstein declined to answer a question about his relationship with Mr. Trump and whether they had ever socialized together “in the presence of females under the age of 18.”',\n",
       " '“Though I’d like to answer that question, at least today I’m going to have to assert my Fifth, Sixth, 23rd and 14th Amendment rights, sir,” Mr. Epstein replied.',\n",
       " 'The White House had no comment on the video.']"
      ]
     },
     "execution_count": 16,
     "metadata": {},
     "output_type": "execute_result"
    }
   ],
   "source": [
    "# Filter out sentences that contain newline characters '\\n' or don't contain periods.\n",
    "sentence_list = [sentence for sentence in p_tags_text if not '\\n' in sentence]\n",
    "sentence_list = [sentence for sentence in sentence_list if '.' in sentence]\n",
    "sentence_list"
   ]
  },
  {
   "cell_type": "code",
   "execution_count": 17,
   "metadata": {},
   "outputs": [
    {
     "name": "stdout",
     "output_type": "stream",
     "text": [
      "Length of original article: 4133\n",
      "Length of summary: 1678 \n",
      "\n",
      "Headline: Trump and Epstein Partied and Commented on Women in 1992 Video \n",
      "\n",
      "Article Summary:\n",
      "WASHINGTON — President Trump has been playing down his relationship with Jeffrey Epstein, the wealthy financier  under federal indictment on charges of sexually trafficking and abusing girls, but at least one night they shared together in the company of dozens of N.F.L. cheerleaders was documented on camera.\n",
      "A newly unearthed video from 1992 shows Mr. Trump and Mr. Epstein watching and commenting on women together at an event at Mar-a-Lago, Mr. Trump’s club in Palm Beach, Fla. The video was broadcast on MSNBC’s “Morning Joe” on Wednesday morning.\n",
      "Dressed in a suit and a pink tie, Mr. Trump, then 46, appears to be in jovial spirits as he plays host, laughing and warmly welcoming guests, including Mr. Epstein — the man he now claims he was “never a fan of.” The video provides a glimpse of Mr. Trump in his element: moving back and forth between the dance floor, filled with cheerleaders for the Buffalo Bills and the Miami Dolphins, and watching from the sidelines, where at one point he points out a woman to Mr. Epstein and leans in to tell him, “She’s hot.” At another point, Mr. Epstein doubles over laughing at something Mr. Trump whispers into his ear.\n",
      "The party took place the same year that Mr. Trump hosted a more private affair with Mr. Epstein at Mar-a-Lago, without cameras rolling.\n",
      "Speaking to reporters last week in the Oval Office, the president distanced himself from Mr. Epstein, noting that he “knew him like everybody in Palm Beach knew him.” But Mr. Trump added: “I had a falling-out with him.\n",
      "Mr. Trump has told associates that he banned Mr. Epstein from Mar-a-Lago after a worker at Mr. Trump’s club was recruited to be a masseuse for Mr. Epstein.\n"
     ]
    }
   ],
   "source": [
    "# Combine list items into string.\n",
    "article = ' '.join(sentence_list)\n",
    "summary = summarize(article, ratio=0.3)\n",
    "\n",
    "print(f'Length of original article: {len(article)}')\n",
    "print(f'Length of summary: {len(summary)} \\n')\n",
    "print(f'Headline: {headline} \\n')\n",
    "print(f'Article Summary:\\n{summary}')"
   ]
  },
  {
   "cell_type": "code",
   "execution_count": 18,
   "metadata": {},
   "outputs": [],
   "source": [
    "# Imports\n",
    "import requests\n",
    "from bs4 import BeautifulSoup\n",
    "from gensim.summarization import summarize\n",
    "\n",
    "# Ein Artikel auf sechszehn schwarze Amerikanische Kocher\n",
    "\n",
    "# Retrieve page text\n",
    "url_chefs = 'https://www.nytimes.com/interactive/2019/07/16/dining/black-chefs-restaurants-food.html?fallback=0&recId=1OBDJdcz9AEIY2svFfAPePNE14k&locked=0&geoContinent=AF&geoRegion=C&recAlloc=top_conversion&geoCountry=UG&blockId=most-popular&imp_id=403261259&action=click&module=Most%20Popular&pgtype=Homepage'\n",
    "page_chefs = requests.get(url_chefs).text"
   ]
  },
  {
   "cell_type": "code",
   "execution_count": 19,
   "metadata": {},
   "outputs": [
    {
     "name": "stdout",
     "output_type": "stream",
     "text": [
      "Length of original article: 15686\n",
      "Length of summary: 6618 \n",
      "\n",
      "Headline: 16 Black Chefs Changing Food in America \n",
      "\n",
      "Article Summary:\n",
      "When Ashleigh Shanti, 29, journeyed across the country on a six-month sabbatical last year, she decided that her next step as a chef needed to fulfill a critical desire: cooking food that celebrated her heritage as a black woman from the South and rebuffed assumptions about what that food could be.\n",
      "Those are just some of the dishes featured at Benne on Eagle, in Asheville, N.C., that have helped Ms. Shanti become one of the many black chefs across the country who are considered new leaders in the food world, making their voices heard in new ways.\n",
      "These chefs have crushed the notion that the food they cook must be rooted in the American South.\n",
      "“In culinary school, I learned to cook at a very high level,” said JJ Johnson of Henry at Life Hotel restaurant in Manhattan.\n",
      "Black cooks have historically seen their foods and techniques co-opted, getting little credit for their influence on America’s culinary traditions.\n",
      "“There have always been black hands in American food,” said Jerome Grant, the chef at Sweet Home Café in the National Museum of African American History and Culture.\n",
      "The Washington chef Jerome Grant said his military upbringing helped him adapt to the strict hierarchy of restaurant kitchens.\n",
      "T.J. Kirkpatrick for The New York Times Ashleigh Shanti leads the kitchen at Benne on Eagle in Asheville, N.C. Logan R.\n",
      "Cyrus for The New York Times “It’s up to us to be transparent with our information and our techniques, and pass along to the next generation,” said Mashama Bailey, executive chef and partner at The Grey in Savannah, Ga., and the winner of this year’s James Beard award for Best Chef: Southeast.\n",
      "To read more provocative stories on race from The Times, sign up here for our weekly Race/Related newsletter.] Last year, just over 17 percent of chefs and head cooks were black, about five percentage points higher than their representation in the entire work force, according to the Bureau of Labor Statistics.\n",
      "And even though black chefs remain underrepresented in fine dining, they are getting new recognition.\n",
      "Before last year, black chefs had gone 14 years without winning in any of the best chef or outstanding restaurant categories of the James Beard awards — the Oscars of the restaurant industry.\n",
      "The country’s broad focus on racial equality and the political conversation around uplifting marginalized communities have also helped to increase the visibility and opportunities that black chefs are receiving, several said.\n",
      "“There’s kind of this movement that’s happening rapidly where black chefs are at the helm,” Ms. Shanti said.\n",
      "I want to be a part of that.” Yet even in this moment of awareness, many black chefs, including those who have received awards and praise, say they sometimes still feel boxed in.\n",
      "Eyes still go wide when people see them cooking Mexican, Japanese or just about anything that’s not considered soul food.\n",
      "Kiki Bokungu Louya, a co-owner of Folk, a cafe in Detroit, said that even in her own restaurant, “people just look right through me to the first white male” to find a person in authority.\n",
      "Restaurant investors and the food media remain largely white, and those two sectors have significant influence over the fate of chefs and restaurants.\n",
      "“Until there’s some sort of representation in those spaces, stories of black history, black chefs and black cuisine will just be trend pieces that mark a moment that can fade at any time,” said Clay Williams, a photographer and co-founder of Black Food Folks, an organization for black professionals in the food industry.\n",
      "Ms. Shanti, who is the chef de cuisine at Benne on Eagle but has full control over the menu, got her opportunity only after John Fleer, a renowned chef in North Carolina, asked her to run the kitchen at a restaurant he was opening in a historically black neighborhood reshaped by gentrification.\n",
      "When developers approached Mr. Fleer, who is white, and asked him to open a restaurant, he said he would only do it if the restaurant told the story of the once thriving African-American community, a vision that aligned with Ms. Shanti’s.\n",
      "“My hope would be that the next time an opportunity like this happens, in Asheville or somewhere else, that a black chef is approached directly, and that I’m not put in the position of being the woke person who just happened to get asked the right question or be presented with the right opportunity,” Mr. Fleer said.\n",
      "Ms. Shanti had a business plan for a restaurant before Mr. Fleer came along, in keeping with the independent spirit held by many of these black chefs.\n",
      "Just months after arriving at Lalito, a Cali-Latin restaurant in New York, Ms. Damon went from sous chef to head chef.\n",
      "Yet when she wanted to remake the menu, the owners seemed reluctant to embrace the food that she wanted to cook, she said.\n",
      "But every single kitchen I ever worked in coming up, I never saw a black woman.\n",
      "American food was my ‘ethnic’ food and I was fascinated with it.” “I still believe in learning the classical techniques and the proper way to cook.\n",
      "Kasimu Harris for The New York Times “The beauty of ‘Top Chef’ is that they are truly looking for a diverse cast of chefs, because that makes good television.\n",
      "Still, I learned Italian from the best and French from the best, and that gave me the confidence to cook Caribbean at a very high level.” “I wanted to go to culinary school, but I knew I was never going to have that magic fairy tale.\n",
      "I’m no longer looking for anything from anyone.” T.J. Kirkpatrick for The New York Times “My father raised me with the idea that you always have to do better than the person next to you.\n",
      "I saw that in kitchens right away: we were the cooks, but we were never the chefs, never the operators.\n",
      "So my mom said:  “I want you to learn the trade as a career, not a job.’” “I came back to see what was going on and sold out a whole weekend of pop-up dinners.\n",
      "There are so many more ways to strive for greatness as a chef.” “My biggest problem with prejudice is the prejudice against plant-based food.\n",
      "We have a hospitality charge, because this is what it actually costs to put the food on your plate.” T.J. Kirkpatrick for The New York Times “I grew up poor, but I never knew it because I was loved.\n",
      "Cyrus for The New York Times “There’s still an idea that you have to be hazed and work your way up in this industry.\n",
      "Kasimu Harris for The New York Times “Everywhere, the mechanics of making food are the same.\n",
      "Correction: July 17, 2019 An earlier version of this article misstated the number of years that black chefs had gone without winning in the best chef or outstanding restaurant categories of the James Beard awards.\n"
     ]
    }
   ],
   "source": [
    "# Turn page into BeautifulSoup object to access HTML tags\n",
    "soup_chefs = BeautifulSoup(page_chefs)\n",
    "\n",
    "# Get headline\n",
    "headline_chefs = soup_chefs.find('h1').get_text()\n",
    "\n",
    "# Get text from all <p> tags.\n",
    "p_tags_chefs = soup_chefs.find_all('p')\n",
    "# Get the text from each of the \"p\" tags and strip surrounding whitespace.\n",
    "p_tags_text_chefs = [tag.get_text().strip() for tag in p_tags_chefs]\n",
    "# Filter out sentences that contain newline characters '\\n' or don't contain periods.\n",
    "sentence_list_chefs = [sentence for sentence in p_tags_text_chefs if not '\\n' in sentence]\n",
    "sentence_list_chefs = [sentence for sentence in sentence_list_chefs if '.' in sentence]\n",
    "\n",
    "# Combine list items into string.\n",
    "article_chefs = ' '.join(sentence_list_chefs)\n",
    "summary_chefs = summarize(article_chefs, ratio=0.3)\n",
    "\n",
    "print(f'Length of original article: {len(article_chefs)}')\n",
    "print(f'Length of summary: {len(summary_chefs)} \\n')\n",
    "print(f'Headline: {headline_chefs} \\n')\n",
    "print(f'Article Summary:\\n{summary_chefs}')"
   ]
  },
  {
   "cell_type": "code",
   "execution_count": null,
   "metadata": {},
   "outputs": [],
   "source": []
  }
 ],
 "metadata": {
  "kernelspec": {
   "display_name": "Python 3",
   "language": "python",
   "name": "python3"
  },
  "language_info": {
   "codemirror_mode": {
    "name": "ipython",
    "version": 3
   },
   "file_extension": ".py",
   "mimetype": "text/x-python",
   "name": "python",
   "nbconvert_exporter": "python",
   "pygments_lexer": "ipython3",
   "version": "3.6.8"
  }
 },
 "nbformat": 4,
 "nbformat_minor": 2
}
