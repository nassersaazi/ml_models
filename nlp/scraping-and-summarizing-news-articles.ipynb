{
 "cells": [
  {
   "cell_type": "markdown",
   "metadata": {},
   "source": [
    "# Scraping and Summarizing News Articles\n",
    "\n",
    "This notebook gives a short demonstration of code to scrape and summarize news articles. It accompanies the blog post found here: {link}"
   ]
  },
  {
   "cell_type": "code",
   "execution_count": 1,
   "metadata": {},
   "outputs": [],
   "source": [
    "# Imports\n",
    "import requests\n",
    "from bs4 import BeautifulSoup\n",
    "from gensim.summarization import summarize"
   ]
  },
  {
   "cell_type": "markdown",
   "metadata": {},
   "source": [
    "### We'll scrape and summarize the following article:\n",
    "https://www.npr.org/2019/07/10/740387601/university-of-texas-austin-promises-free-tuition-for-low-income-students-in-2020\n",
    "\n",
    "![article](images/article-choice.png)"
   ]
  },
  {
   "cell_type": "code",
   "execution_count": 3,
   "metadata": {},
   "outputs": [],
   "source": [
    "# Retrieve page text\n",
    "url = 'https://www.npr.org/2019/07/10/740387601/university-of-texas-austin-promises-free-tuition-for-low-income-students-in-2020'\n",
    "page = requests.get(url).text"
   ]
  },
  {
   "cell_type": "code",
   "execution_count": 4,
   "metadata": {},
   "outputs": [],
   "source": [
    "# Turn page into BeautifulSoup object to access HTML tags\n",
    "soup = BeautifulSoup(page)"
   ]
  },
  {
   "cell_type": "markdown",
   "metadata": {},
   "source": [
    "We can use Chrome's Inspect tool to find HTML tags by right-clicking on the page and choosing \"Inspect.\" Then,  click on the little button to find HTML tags for a specific part of the page. That will look like this:\n",
    "\n",
    "![little-button](images/little-button.png)\n",
    "\n",
    "<br></br>\n",
    "\n",
    "Let's find the tag which denotes the headline:\n",
    "\n",
    "![select-headline](images/select-headline.png)"
   ]
  },
  {
   "cell_type": "code",
   "execution_count": 5,
   "metadata": {},
   "outputs": [
    {
     "name": "stdout",
     "output_type": "stream",
     "text": [
      "University of Texas-Austin Promises Free Tuition For Low-Income Students In 2020\n"
     ]
    }
   ],
   "source": [
    "# Get headline\n",
    "headline = soup.find('h1').get_text()\n",
    "print(headline)"
   ]
  },
  {
   "cell_type": "markdown",
   "metadata": {},
   "source": [
    "The main text of the article is surrounded by the \"p\" tag. This time we’ll have to find all of the \"p\" tags contained on the page since the paragraphs of the article are each contained in a \"p\" tag."
   ]
  },
  {
   "cell_type": "code",
   "execution_count": 6,
   "metadata": {},
   "outputs": [
    {
     "data": {
      "text/plain": [
       "['Vanessa Romo',\n",
       " 'Claire McInerny',\n",
       " 'From',\n",
       " 'The University of Texas-Austin announced Tuesday it is offering full tuition scholarships to in-state undergraduates whose families make $65,000 or less a year.\\n                \\n                \\n                    \\n                    Jon Herskovitz/Reuters\\n                    \\n                \\nhide caption',\n",
       " \"Four year colleges and universities have difficulty recruiting talented students from the lower end of the economic spectrum who can't afford to attend such institutions without taking on massive debt. To remedy that — at least in part — the University of Texas-Austin announced it is offering full tuition scholarships to in-state undergraduates whose families make $65,000 or less per year.\",\n",
       " \"The University of Texas System Board of Regents voted unanimously on Tuesday to establish a $160 million endowment, drawing from the state's Permanent University Fund to begin the program in the fall of 2020.\",\n",
       " '\"Recognizing both the need for improved access to higher education and the high value of a UT Austin degree, we are dedicating a distribution from the Permanent University Fund to establish an endowment that will directly benefit students and make their degrees more affordable,\" Chairman of the Board of Regents Kevin Eltife said after the vote.',\n",
       " '\"This will benefit students of our great state for years to come,\" he added.',\n",
       " 'The endowment — which includes money from oil and gas royalties earned on state-owned land in West Texas — more than doubles an existing program offering free tuition to students whose families make less than $30,000. It also expands financial assistance to middle class students whose families earn up to $125,000 a year, compared to the current $100,000.',\n",
       " \"UT-Austin is among the Texas system's more affordable universities; tuition and fees cost about $10,500. The endowment will foot the bill for those charges but not additional living expenses, including room and board, which can add another $17,000 in annual fees.\",\n",
       " 'Officials expect about 8,600 students — nearly a quarter of undergraduates, including those already enrolled — will benefit from the full tuition program and another 5,700 will gain access to additional financial support, the release said. Transfer students will also be eligible, but graduate students will not.',\n",
       " '\"There is no greater engine of social and economic mobility than a college degree, and this initiative ensures that more Texans will benefit from a high-quality UT Austin education,\" University Chancellor James Milliken said in a statement.',\n",
       " 'Cindy Muñoz, an incoming freshman from Houston, was on campus Wednesday for orientation. She was thrilled to learn of the endowment. Her mother is a single parent who has been working as a housekeeper and doing other odd jobs to make ends meet.',\n",
       " 'Until Tuesday Muñoz planned to pay for most of her college with loans. \"I knew I was going to go into student debt,\" she said, adding that she was willing to take on the loans to go to her dream school.',\n",
       " '\"I had that already in my head because my sister went to college and she had to take out loans, and she\\'s still dealing with loans today and she\\'s 38 years old,\" Muñoz said.',\n",
       " \"Once it goes into effect, the new financial aid program will apply to Muñoz and cover all of her tuition. She said she'll only need loans to pay for some of her living expenses.\",\n",
       " '\"It kind of makes me feel like I chose the right school,\" Munoz said. \"Because a school that is willing to see past your socio-economic status, look at you as a student, a person who just wants to advance their education and pursue a career, I think they look past monetary issues and they\\'re like, \\'You want to do this? Then we\\'re going to help you out.\\' \"',\n",
       " 'The school noted it landed on the $65,000 cap because the average median household income in Texas in 2017 was $59,206.',\n",
       " 'As tuition rates continue to climb and financial aid has continued to lag behind, a growing number of public and private four-year institutions are offering free tuition to students below a certain income.',\n",
       " \"In 2008, Texas A&M began offering free tuition to students whose families' income was under $60,000. Michigan established the Kalamazoo Promise, which covers four years of tuition at any public college in the state as well as 15 private colleges. Louisiana offers a more restrictive program that comes with certain caveats, including a minimum aptitude test score.\",\n",
       " 'Last year, New York launched The Excelsior Scholarship, allowing middle-class families and individuals making up to $125,000 a year to qualify for tuition-free enrollment at all CUNY and SUNY two and four-year colleges.',\n",
       " 'But some states are finding it difficult to sustain such programs. Oregon launched the Oregon Promise in 2016 but the program there had to be scaled back after a budget shortage, Pew reported.',\n",
       " \"Editor's note: NPR member station KUT's broadcast license is owned by the University of Texas. Its newsroom operates independently.\",\n",
       " 'The biggest stories and ideas — from politics to pop culture — in 10 minutes.',\n",
       " 'NPR thanks our sponsors',\n",
       " 'Become an NPR sponsor']"
      ]
     },
     "execution_count": 6,
     "metadata": {},
     "output_type": "execute_result"
    }
   ],
   "source": [
    "# Get text from all <p> tags.\n",
    "p_tags = soup.find_all('p')\n",
    "# Get the text from each of the \"p\" tags and strip surrounding whitespace.\n",
    "p_tags_text = [tag.get_text().strip() for tag in p_tags]\n",
    "p_tags_text"
   ]
  },
  {
   "cell_type": "code",
   "execution_count": 7,
   "metadata": {},
   "outputs": [
    {
     "data": {
      "text/plain": [
       "[\"Four year colleges and universities have difficulty recruiting talented students from the lower end of the economic spectrum who can't afford to attend such institutions without taking on massive debt. To remedy that — at least in part — the University of Texas-Austin announced it is offering full tuition scholarships to in-state undergraduates whose families make $65,000 or less per year.\",\n",
       " \"The University of Texas System Board of Regents voted unanimously on Tuesday to establish a $160 million endowment, drawing from the state's Permanent University Fund to begin the program in the fall of 2020.\",\n",
       " '\"Recognizing both the need for improved access to higher education and the high value of a UT Austin degree, we are dedicating a distribution from the Permanent University Fund to establish an endowment that will directly benefit students and make their degrees more affordable,\" Chairman of the Board of Regents Kevin Eltife said after the vote.',\n",
       " '\"This will benefit students of our great state for years to come,\" he added.',\n",
       " 'The endowment — which includes money from oil and gas royalties earned on state-owned land in West Texas — more than doubles an existing program offering free tuition to students whose families make less than $30,000. It also expands financial assistance to middle class students whose families earn up to $125,000 a year, compared to the current $100,000.',\n",
       " \"UT-Austin is among the Texas system's more affordable universities; tuition and fees cost about $10,500. The endowment will foot the bill for those charges but not additional living expenses, including room and board, which can add another $17,000 in annual fees.\",\n",
       " 'Officials expect about 8,600 students — nearly a quarter of undergraduates, including those already enrolled — will benefit from the full tuition program and another 5,700 will gain access to additional financial support, the release said. Transfer students will also be eligible, but graduate students will not.',\n",
       " '\"There is no greater engine of social and economic mobility than a college degree, and this initiative ensures that more Texans will benefit from a high-quality UT Austin education,\" University Chancellor James Milliken said in a statement.',\n",
       " 'Cindy Muñoz, an incoming freshman from Houston, was on campus Wednesday for orientation. She was thrilled to learn of the endowment. Her mother is a single parent who has been working as a housekeeper and doing other odd jobs to make ends meet.',\n",
       " 'Until Tuesday Muñoz planned to pay for most of her college with loans. \"I knew I was going to go into student debt,\" she said, adding that she was willing to take on the loans to go to her dream school.',\n",
       " '\"I had that already in my head because my sister went to college and she had to take out loans, and she\\'s still dealing with loans today and she\\'s 38 years old,\" Muñoz said.',\n",
       " \"Once it goes into effect, the new financial aid program will apply to Muñoz and cover all of her tuition. She said she'll only need loans to pay for some of her living expenses.\",\n",
       " '\"It kind of makes me feel like I chose the right school,\" Munoz said. \"Because a school that is willing to see past your socio-economic status, look at you as a student, a person who just wants to advance their education and pursue a career, I think they look past monetary issues and they\\'re like, \\'You want to do this? Then we\\'re going to help you out.\\' \"',\n",
       " 'The school noted it landed on the $65,000 cap because the average median household income in Texas in 2017 was $59,206.',\n",
       " 'As tuition rates continue to climb and financial aid has continued to lag behind, a growing number of public and private four-year institutions are offering free tuition to students below a certain income.',\n",
       " \"In 2008, Texas A&M began offering free tuition to students whose families' income was under $60,000. Michigan established the Kalamazoo Promise, which covers four years of tuition at any public college in the state as well as 15 private colleges. Louisiana offers a more restrictive program that comes with certain caveats, including a minimum aptitude test score.\",\n",
       " 'Last year, New York launched The Excelsior Scholarship, allowing middle-class families and individuals making up to $125,000 a year to qualify for tuition-free enrollment at all CUNY and SUNY two and four-year colleges.',\n",
       " 'But some states are finding it difficult to sustain such programs. Oregon launched the Oregon Promise in 2016 but the program there had to be scaled back after a budget shortage, Pew reported.',\n",
       " \"Editor's note: NPR member station KUT's broadcast license is owned by the University of Texas. Its newsroom operates independently.\",\n",
       " 'The biggest stories and ideas — from politics to pop culture — in 10 minutes.']"
      ]
     },
     "execution_count": 7,
     "metadata": {},
     "output_type": "execute_result"
    }
   ],
   "source": [
    "# Filter out sentences that contain newline characters '\\n' or don't contain periods.\n",
    "sentence_list = [sentence for sentence in p_tags_text if not '\\n' in sentence]\n",
    "sentence_list = [sentence for sentence in sentence_list if '.' in sentence]\n",
    "sentence_list"
   ]
  },
  {
   "cell_type": "code",
   "execution_count": 8,
   "metadata": {},
   "outputs": [],
   "source": [
    "# Combine list items into string.\n",
    "article = ' '.join(sentence_list)"
   ]
  },
  {
   "cell_type": "code",
   "execution_count": 9,
   "metadata": {},
   "outputs": [],
   "source": [
    "summary = summarize(article, ratio=0.3)"
   ]
  },
  {
   "cell_type": "code",
   "execution_count": 10,
   "metadata": {
    "scrolled": true
   },
   "outputs": [
    {
     "name": "stdout",
     "output_type": "stream",
     "text": [
      "Length of original article: 4672\n",
      "Length of summary: 1859 \n",
      "\n",
      "Headline: University of Texas-Austin Promises Free Tuition For Low-Income Students In 2020 \n",
      "\n",
      "Article Summary:\n",
      "Four year colleges and universities have difficulty recruiting talented students from the lower end of the economic spectrum who can't afford to attend such institutions without taking on massive debt.\n",
      "To remedy that — at least in part — the University of Texas-Austin announced it is offering full tuition scholarships to in-state undergraduates whose families make $65,000 or less per year.\n",
      "The University of Texas System Board of Regents voted unanimously on Tuesday to establish a $160 million endowment, drawing from the state's Permanent University Fund to begin the program in the fall of 2020.\n",
      "\"Recognizing both the need for improved access to higher education and the high value of a UT Austin degree, we are dedicating a distribution from the Permanent University Fund to establish an endowment that will directly benefit students and make their degrees more affordable,\" Chairman of the Board of Regents Kevin Eltife said after the vote.\n",
      "The endowment — which includes money from oil and gas royalties earned on state-owned land in West Texas — more than doubles an existing program offering free tuition to students whose families make less than $30,000.\n",
      "Officials expect about 8,600 students — nearly a quarter of undergraduates, including those already enrolled — will benefit from the full tuition program and another 5,700 will gain access to additional financial support, the release said.\n",
      "As tuition rates continue to climb and financial aid has continued to lag behind, a growing number of public and private four-year institutions are offering free tuition to students below a certain income.\n",
      "In 2008, Texas A&M began offering free tuition to students whose families' income was under $60,000.\n",
      "Michigan established the Kalamazoo Promise, which covers four years of tuition at any public college in the state as well as 15 private colleges.\n"
     ]
    }
   ],
   "source": [
    "print(f'Length of original article: {len(article)}')\n",
    "print(f'Length of summary: {len(summary)} \\n')\n",
    "print(f'Headline: {headline} \\n')\n",
    "print(f'Article Summary:\\n{summary}')"
   ]
  },
  {
   "cell_type": "code",
   "execution_count": null,
   "metadata": {},
   "outputs": [],
   "source": []
  },
  {
   "cell_type": "code",
   "execution_count": 3,
   "metadata": {},
   "outputs": [],
   "source": [
    "alln = \"This book is for the person who wants more control over their money and wants to beat the average returns of average investors. This book will not tell you exactly what to do . . . that is because what you do to become rich and how you do it is really up to you ... yet this book will help guide you in understanding why some investors achieve much higher returns than the average investor, with less risk and less money, and in much less time.Ninety percent of investors are average investors and should continue saving, investing in mutual funds and their 401(k) and retirement funds. The information in this book is for the 10 percent who want to educate themselves to become professional investors and increase their investment returns and accelerate the growth of their financial portfolios.\""
   ]
  },
  {
   "cell_type": "code",
   "execution_count": 4,
   "metadata": {},
   "outputs": [
    {
     "data": {
      "text/plain": [
       "'This book is for the person who wants more control over their money and wants to beat the average returns of average investors. This book will not tell you exactly what to do . . . that is because what you do to become rich and how you do it is really up to you ... yet this book will help guide you in understanding why some investors achieve much higher returns than the average investor, with less risk and less money, and in much less time.Ninety percent of investors are average investors and should continue saving, investing in mutual funds and their 401(k) and retirement funds. The information in this book is for the 10 percent who want to educate themselves to become professional investors and increase their investment returns and accelerate the growth of their financial portfolios.'"
      ]
     },
     "execution_count": 4,
     "metadata": {},
     "output_type": "execute_result"
    }
   ],
   "source": [
    "alln\n"
   ]
  },
  {
   "cell_type": "code",
   "execution_count": 7,
   "metadata": {},
   "outputs": [],
   "source": [
    "allan = summarize(alln, ratio=0.5)"
   ]
  },
  {
   "cell_type": "code",
   "execution_count": 8,
   "metadata": {},
   "outputs": [
    {
     "data": {
      "text/plain": [
       "'yet this book will help guide you in understanding why some investors achieve much higher returns than the average investor, with less risk and less money, and in much less time.Ninety percent of investors are average investors and should continue saving, investing in mutual funds and their 401(k) and retirement funds.\\nThe information in this book is for the 10 percent who want to educate themselves to become professional investors and increase their investment returns and accelerate the growth of their financial portfolios.'"
      ]
     },
     "execution_count": 8,
     "metadata": {},
     "output_type": "execute_result"
    }
   ],
   "source": [
    "allan"
   ]
  },
  {
   "cell_type": "code",
   "execution_count": null,
   "metadata": {},
   "outputs": [],
   "source": []
  }
 ],
 "metadata": {
  "kernelspec": {
   "display_name": "Python 3",
   "language": "python",
   "name": "python3"
  },
  "language_info": {
   "codemirror_mode": {
    "name": "ipython",
    "version": 3
   },
   "file_extension": ".py",
   "mimetype": "text/x-python",
   "name": "python",
   "nbconvert_exporter": "python",
   "pygments_lexer": "ipython3",
   "version": "3.6.8"
  },
  "varInspector": {
   "cols": {
    "lenName": 16,
    "lenType": 16,
    "lenVar": 40
   },
   "kernels_config": {
    "python": {
     "delete_cmd_postfix": "",
     "delete_cmd_prefix": "del ",
     "library": "var_list.py",
     "varRefreshCmd": "print(var_dic_list())"
    },
    "r": {
     "delete_cmd_postfix": ") ",
     "delete_cmd_prefix": "rm(",
     "library": "var_list.r",
     "varRefreshCmd": "cat(var_dic_list()) "
    }
   },
   "types_to_exclude": [
    "module",
    "function",
    "builtin_function_or_method",
    "instance",
    "_Feature"
   ],
   "window_display": false
  }
 },
 "nbformat": 4,
 "nbformat_minor": 2
}
