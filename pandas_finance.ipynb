{
 "cells": [
  {
   "cell_type": "markdown",
   "metadata": {},
   "source": [
    "Pandas For Financial Data"
   ]
  },
  {
   "cell_type": "code",
   "execution_count": 5,
   "metadata": {},
   "outputs": [],
   "source": [
    "from scipy import stats\n",
    "import pandas as pd\n",
    "import matplotlib.dates as mdates\n",
    "import numpy as np\n",
    "import datetime as dt\n",
    "import matplotlib.pyplot as plt\n",
    "from matplotlib import style\n",
    "from mpl_finance import candlestick_ohlc\n",
    "import matplotlib.dates as mdates\n",
    "from matplotlib.dates import DateFormatter\n",
    "from matplotlib.dates import (WeekdayLocator, MONDAY)\n",
    "import seaborn as sns\n",
    "%matplotlib inline\n",
    "from pandas_datareader import data, wb\n",
    "style.use('fivethirtyeight')"
   ]
  },
  {
   "cell_type": "code",
   "execution_count": 6,
   "metadata": {},
   "outputs": [
    {
     "data": {
      "text/html": [
       "<div>\n",
       "<style scoped>\n",
       "    .dataframe tbody tr th:only-of-type {\n",
       "        vertical-align: middle;\n",
       "    }\n",
       "\n",
       "    .dataframe tbody tr th {\n",
       "        vertical-align: top;\n",
       "    }\n",
       "\n",
       "    .dataframe thead th {\n",
       "        text-align: right;\n",
       "    }\n",
       "</style>\n",
       "<table border=\"1\" class=\"dataframe\">\n",
       "  <thead>\n",
       "    <tr style=\"text-align: right;\">\n",
       "      <th></th>\n",
       "      <th>AdjClose</th>\n",
       "      <th>AdjVolume</th>\n",
       "    </tr>\n",
       "    <tr>\n",
       "      <th>Date</th>\n",
       "      <th></th>\n",
       "      <th></th>\n",
       "    </tr>\n",
       "  </thead>\n",
       "  <tbody>\n",
       "    <tr>\n",
       "      <th>2014-01-08</th>\n",
       "      <td>32.269454</td>\n",
       "      <td>59971700.0</td>\n",
       "    </tr>\n",
       "    <tr>\n",
       "      <th>2014-01-07</th>\n",
       "      <td>32.856007</td>\n",
       "      <td>35802800.0</td>\n",
       "    </tr>\n",
       "    <tr>\n",
       "      <th>2014-01-06</th>\n",
       "      <td>32.603338</td>\n",
       "      <td>43603700.0</td>\n",
       "    </tr>\n",
       "    <tr>\n",
       "      <th>2014-01-03</th>\n",
       "      <td>33.307202</td>\n",
       "      <td>31134800.0</td>\n",
       "    </tr>\n",
       "    <tr>\n",
       "      <th>2014-01-02</th>\n",
       "      <td>33.532800</td>\n",
       "      <td>30632200.0</td>\n",
       "    </tr>\n",
       "  </tbody>\n",
       "</table>\n",
       "</div>"
      ],
      "text/plain": [
       "             AdjClose   AdjVolume\n",
       "Date                             \n",
       "2014-01-08  32.269454  59971700.0\n",
       "2014-01-07  32.856007  35802800.0\n",
       "2014-01-06  32.603338  43603700.0\n",
       "2014-01-03  33.307202  31134800.0\n",
       "2014-01-02  33.532800  30632200.0"
      ]
     },
     "execution_count": 6,
     "metadata": {},
     "output_type": "execute_result"
    }
   ],
   "source": [
    "start = dt.datetime(2014, 1, 1)\n",
    "end = dt.datetime(2014,12,31)\n",
    "\n",
    "msft = data.DataReader('MSFT',\"quandl\",start,end,access_key = \"_yjtBk8iXoJD-wWBuNUW\")[['AdjClose','AdjVolume']]\n",
    "#msft_5 = pd.DataFrame(msft[:5])\n",
    "#msft_5\n",
    "msft.tail()\n"
   ]
  },
  {
   "cell_type": "code",
   "execution_count": 7,
   "metadata": {},
   "outputs": [
    {
     "data": {
      "text/html": [
       "<div>\n",
       "<style scoped>\n",
       "    .dataframe tbody tr th:only-of-type {\n",
       "        vertical-align: middle;\n",
       "    }\n",
       "\n",
       "    .dataframe tbody tr th {\n",
       "        vertical-align: top;\n",
       "    }\n",
       "\n",
       "    .dataframe thead tr th {\n",
       "        text-align: left;\n",
       "    }\n",
       "\n",
       "    .dataframe thead tr:last-of-type th {\n",
       "        text-align: right;\n",
       "    }\n",
       "</style>\n",
       "<table border=\"1\" class=\"dataframe\">\n",
       "  <thead>\n",
       "    <tr>\n",
       "      <th></th>\n",
       "      <th>Attributes</th>\n",
       "      <th colspan=\"10\" halign=\"left\">High</th>\n",
       "      <th>...</th>\n",
       "      <th colspan=\"10\" halign=\"left\">Adj Close</th>\n",
       "    </tr>\n",
       "    <tr>\n",
       "      <th></th>\n",
       "      <th>Symbols</th>\n",
       "      <th>AA</th>\n",
       "      <th>AMZN</th>\n",
       "      <th>DAL</th>\n",
       "      <th>FB</th>\n",
       "      <th>GE</th>\n",
       "      <th>GOOG</th>\n",
       "      <th>HP</th>\n",
       "      <th>KO</th>\n",
       "      <th>MCD</th>\n",
       "      <th>NFLX</th>\n",
       "      <th>...</th>\n",
       "      <th>DAL</th>\n",
       "      <th>FB</th>\n",
       "      <th>GE</th>\n",
       "      <th>GOOG</th>\n",
       "      <th>HP</th>\n",
       "      <th>KO</th>\n",
       "      <th>MCD</th>\n",
       "      <th>NFLX</th>\n",
       "      <th>PEP</th>\n",
       "      <th>UAL</th>\n",
       "    </tr>\n",
       "    <tr>\n",
       "      <th>Ticker</th>\n",
       "      <th>Date</th>\n",
       "      <th></th>\n",
       "      <th></th>\n",
       "      <th></th>\n",
       "      <th></th>\n",
       "      <th></th>\n",
       "      <th></th>\n",
       "      <th></th>\n",
       "      <th></th>\n",
       "      <th></th>\n",
       "      <th></th>\n",
       "      <th></th>\n",
       "      <th></th>\n",
       "      <th></th>\n",
       "      <th></th>\n",
       "      <th></th>\n",
       "      <th></th>\n",
       "      <th></th>\n",
       "      <th></th>\n",
       "      <th></th>\n",
       "      <th></th>\n",
       "      <th></th>\n",
       "    </tr>\n",
       "  </thead>\n",
       "  <tbody>\n",
       "    <tr>\n",
       "      <th rowspan=\"5\" valign=\"top\">MCD</th>\n",
       "      <th>2014-01-02</th>\n",
       "      <td>25.423740</td>\n",
       "      <td>399.359985</td>\n",
       "      <td>28.049999</td>\n",
       "      <td>55.220001</td>\n",
       "      <td>26.865385</td>\n",
       "      <td>556.788025</td>\n",
       "      <td>84.279999</td>\n",
       "      <td>41.230000</td>\n",
       "      <td>97.029999</td>\n",
       "      <td>52.511429</td>\n",
       "      <td>...</td>\n",
       "      <td>25.087599</td>\n",
       "      <td>54.709999</td>\n",
       "      <td>21.957794</td>\n",
       "      <td>554.481689</td>\n",
       "      <td>63.916985</td>\n",
       "      <td>33.790356</td>\n",
       "      <td>80.955902</td>\n",
       "      <td>51.831429</td>\n",
       "      <td>69.375946</td>\n",
       "      <td>37.730000</td>\n",
       "    </tr>\n",
       "    <tr>\n",
       "      <th>2014-01-03</th>\n",
       "      <td>25.640011</td>\n",
       "      <td>402.709991</td>\n",
       "      <td>29.360001</td>\n",
       "      <td>55.650002</td>\n",
       "      <td>26.538462</td>\n",
       "      <td>556.379578</td>\n",
       "      <td>83.709999</td>\n",
       "      <td>40.730000</td>\n",
       "      <td>97.029999</td>\n",
       "      <td>52.495716</td>\n",
       "      <td>...</td>\n",
       "      <td>26.473305</td>\n",
       "      <td>54.560001</td>\n",
       "      <td>21.941826</td>\n",
       "      <td>550.436829</td>\n",
       "      <td>64.538673</td>\n",
       "      <td>33.624149</td>\n",
       "      <td>81.065048</td>\n",
       "      <td>51.871429</td>\n",
       "      <td>69.494225</td>\n",
       "      <td>39.950001</td>\n",
       "    </tr>\n",
       "    <tr>\n",
       "      <th>2014-01-06</th>\n",
       "      <td>25.664040</td>\n",
       "      <td>397.000000</td>\n",
       "      <td>29.799999</td>\n",
       "      <td>57.259998</td>\n",
       "      <td>26.663462</td>\n",
       "      <td>557.340942</td>\n",
       "      <td>83.019997</td>\n",
       "      <td>40.590000</td>\n",
       "      <td>96.620003</td>\n",
       "      <td>52.044285</td>\n",
       "      <td>...</td>\n",
       "      <td>26.527647</td>\n",
       "      <td>57.200001</td>\n",
       "      <td>21.766165</td>\n",
       "      <td>556.573853</td>\n",
       "      <td>63.683857</td>\n",
       "      <td>33.466251</td>\n",
       "      <td>80.485641</td>\n",
       "      <td>51.367142</td>\n",
       "      <td>69.528008</td>\n",
       "      <td>39.360001</td>\n",
       "    </tr>\n",
       "    <tr>\n",
       "      <th>2014-01-07</th>\n",
       "      <td>25.471800</td>\n",
       "      <td>398.470001</td>\n",
       "      <td>29.660000</td>\n",
       "      <td>58.549999</td>\n",
       "      <td>26.432692</td>\n",
       "      <td>567.717041</td>\n",
       "      <td>83.599998</td>\n",
       "      <td>40.720001</td>\n",
       "      <td>97.080002</td>\n",
       "      <td>49.698570</td>\n",
       "      <td>...</td>\n",
       "      <td>26.065744</td>\n",
       "      <td>57.919998</td>\n",
       "      <td>21.790121</td>\n",
       "      <td>567.303589</td>\n",
       "      <td>64.950546</td>\n",
       "      <td>33.565975</td>\n",
       "      <td>80.930702</td>\n",
       "      <td>48.500000</td>\n",
       "      <td>70.542061</td>\n",
       "      <td>38.689999</td>\n",
       "    </tr>\n",
       "    <tr>\n",
       "      <th>2014-01-08</th>\n",
       "      <td>26.144640</td>\n",
       "      <td>403.000000</td>\n",
       "      <td>30.100000</td>\n",
       "      <td>58.410000</td>\n",
       "      <td>26.307692</td>\n",
       "      <td>571.517822</td>\n",
       "      <td>85.510002</td>\n",
       "      <td>40.439999</td>\n",
       "      <td>95.709999</td>\n",
       "      <td>49.425713</td>\n",
       "      <td>...</td>\n",
       "      <td>26.989544</td>\n",
       "      <td>58.230000</td>\n",
       "      <td>21.726240</td>\n",
       "      <td>568.484192</td>\n",
       "      <td>65.626625</td>\n",
       "      <td>33.192009</td>\n",
       "      <td>80.116180</td>\n",
       "      <td>48.712856</td>\n",
       "      <td>70.339241</td>\n",
       "      <td>41.020000</td>\n",
       "    </tr>\n",
       "  </tbody>\n",
       "</table>\n",
       "<p>5 rows × 72 columns</p>\n",
       "</div>"
      ],
      "text/plain": [
       "Attributes              High                                               \\\n",
       "Symbols                   AA        AMZN        DAL         FB         GE   \n",
       "Ticker Date                                                                 \n",
       "MCD    2014-01-02  25.423740  399.359985  28.049999  55.220001  26.865385   \n",
       "       2014-01-03  25.640011  402.709991  29.360001  55.650002  26.538462   \n",
       "       2014-01-06  25.664040  397.000000  29.799999  57.259998  26.663462   \n",
       "       2014-01-07  25.471800  398.470001  29.660000  58.549999  26.432692   \n",
       "       2014-01-08  26.144640  403.000000  30.100000  58.410000  26.307692   \n",
       "\n",
       "Attributes                                                                 \\\n",
       "Symbols                  GOOG         HP         KO        MCD       NFLX   \n",
       "Ticker Date                                                                 \n",
       "MCD    2014-01-02  556.788025  84.279999  41.230000  97.029999  52.511429   \n",
       "       2014-01-03  556.379578  83.709999  40.730000  97.029999  52.495716   \n",
       "       2014-01-06  557.340942  83.019997  40.590000  96.620003  52.044285   \n",
       "       2014-01-07  567.717041  83.599998  40.720001  97.080002  49.698570   \n",
       "       2014-01-08  571.517822  85.510002  40.439999  95.709999  49.425713   \n",
       "\n",
       "Attributes         ...  Adj Close                                    \\\n",
       "Symbols            ...        DAL         FB         GE        GOOG   \n",
       "Ticker Date        ...                                                \n",
       "MCD    2014-01-02  ...  25.087599  54.709999  21.957794  554.481689   \n",
       "       2014-01-03  ...  26.473305  54.560001  21.941826  550.436829   \n",
       "       2014-01-06  ...  26.527647  57.200001  21.766165  556.573853   \n",
       "       2014-01-07  ...  26.065744  57.919998  21.790121  567.303589   \n",
       "       2014-01-08  ...  26.989544  58.230000  21.726240  568.484192   \n",
       "\n",
       "Attributes                                                                \\\n",
       "Symbols                   HP         KO        MCD       NFLX        PEP   \n",
       "Ticker Date                                                                \n",
       "MCD    2014-01-02  63.916985  33.790356  80.955902  51.831429  69.375946   \n",
       "       2014-01-03  64.538673  33.624149  81.065048  51.871429  69.494225   \n",
       "       2014-01-06  63.683857  33.466251  80.485641  51.367142  69.528008   \n",
       "       2014-01-07  64.950546  33.565975  80.930702  48.500000  70.542061   \n",
       "       2014-01-08  65.626625  33.192009  80.116180  48.712856  70.339241   \n",
       "\n",
       "Attributes                    \n",
       "Symbols                  UAL  \n",
       "Ticker Date                   \n",
       "MCD    2014-01-02  37.730000  \n",
       "       2014-01-03  39.950001  \n",
       "       2014-01-06  39.360001  \n",
       "       2014-01-07  38.689999  \n",
       "       2014-01-08  41.020000  \n",
       "\n",
       "[5 rows x 72 columns]"
      ]
     },
     "execution_count": 7,
     "metadata": {},
     "output_type": "execute_result"
    }
   ],
   "source": [
    "\n",
    "def get(tickers,start,end):\n",
    "    def dat(ticker):\n",
    "        return data.DataReader(tickers, 'yahoo', start, end)\n",
    "    datas = map(dat,tickers)\n",
    "    return pd.concat(datas, keys=tickers,names =['Ticker','Date'])\n",
    "\n",
    "tickers = ['MCD','HP','GE','GOOG','FB','NFLX','AMZN','AA','DAL','UAL','PEP','KO']\n",
    "all_data = get(tickers, start, end)\n",
    "all_data.head()\n"
   ]
  },
  {
   "cell_type": "code",
   "execution_count": 11,
   "metadata": {},
   "outputs": [
    {
     "data": {
      "text/plain": [
       "\"\\ndef get(tickers,start,end):\\n    def dat(ticker):\\n        return data.DataReader(ticker,'yahoo',start,end)\\n    datas = map(dat,tickers)\\n    return pd.concat(datas, keys=tickers,names =['Ticker','Date'])\\n\\ntickers = ['MCD','HP','GE','GOOG','FB','NFLX','AMZN','AA','DAL','UAL','PEP','KO']\\nall_data = get(tickers, start, end)\\n\""
      ]
     },
     "execution_count": 11,
     "metadata": {},
     "output_type": "execute_result"
    }
   ],
   "source": [
    "'''\n",
    "def get(tickers,start,end):\n",
    "    def dat(ticker):\n",
    "        return data.DataReader(ticker,'yahoo',start,end)\n",
    "    datas = map(dat,tickers)\n",
    "    return pd.concat(datas, keys=tickers,names =['Ticker','Date'])\n",
    "\n",
    "tickers = ['MCD','HP','GE','GOOG','FB','NFLX','AMZN','AA','DAL','UAL','PEP','KO']\n",
    "all_data = get(tickers, start, end)\n",
    "'''"
   ]
  },
  {
   "cell_type": "code",
   "execution_count": 13,
   "metadata": {},
   "outputs": [
    {
     "data": {
      "text/plain": [
       "\"# reset the index to make everything columns\\njust_closes = all_data[['Adj Close']].reset_index()\\ndaily_closes_px = just_closes.pivot('Date','Ticker','Adj Close')\\ndaily_closes_px.head()\""
      ]
     },
     "execution_count": 13,
     "metadata": {},
     "output_type": "execute_result"
    }
   ],
   "source": [
    "'''# reset the index to make everything columns\n",
    "just_closes = all_data[['Adj Close']].reset_index()\n",
    "daily_closes_px = just_closes.pivot('Date','Ticker','Adj Close')\n",
    "daily_closes_px.head()'''"
   ]
  },
  {
   "cell_type": "code",
   "execution_count": null,
   "metadata": {},
   "outputs": [],
   "source": [
    "all_data.to_csv('/home/saazi/Documents/stocks_yahoo.csv')"
   ]
  },
  {
   "cell_type": "code",
   "execution_count": null,
   "metadata": {},
   "outputs": [],
   "source": [
    "data = pd.read_csv('/home/saazi/ml/ml_models/Sharpe-Ratio-studies-master/Listings.csv', \n",
    "                     index_col = 0)\n",
    "data.head()\n",
    "# Collecting the data\n",
    "\n",
    "# List of all the stocks tickers\n",
    "stocks_ticker = data.index.tolist()\n",
    "len(stocks_ticker)"
   ]
  },
  {
   "cell_type": "code",
   "execution_count": 16,
   "metadata": {},
   "outputs": [
    {
     "data": {
      "text/html": [
       "<div>\n",
       "<style scoped>\n",
       "    .dataframe tbody tr th:only-of-type {\n",
       "        vertical-align: middle;\n",
       "    }\n",
       "\n",
       "    .dataframe tbody tr th {\n",
       "        vertical-align: top;\n",
       "    }\n",
       "\n",
       "    .dataframe thead th {\n",
       "        text-align: right;\n",
       "    }\n",
       "</style>\n",
       "<table border=\"1\" class=\"dataframe\">\n",
       "  <thead>\n",
       "    <tr style=\"text-align: right;\">\n",
       "      <th></th>\n",
       "      <th>Ticker</th>\n",
       "      <th>Date</th>\n",
       "      <th>High</th>\n",
       "      <th>Low</th>\n",
       "      <th>Open</th>\n",
       "      <th>Close</th>\n",
       "      <th>Volume</th>\n",
       "      <th>Adj Close</th>\n",
       "    </tr>\n",
       "  </thead>\n",
       "  <tbody>\n",
       "    <tr>\n",
       "      <th>0</th>\n",
       "      <td>AAPL</td>\n",
       "      <td>2012-01-03</td>\n",
       "      <td>58.928570</td>\n",
       "      <td>58.428570</td>\n",
       "      <td>58.485714</td>\n",
       "      <td>58.747143</td>\n",
       "      <td>75555200.0</td>\n",
       "      <td>39.172771</td>\n",
       "    </tr>\n",
       "    <tr>\n",
       "      <th>1</th>\n",
       "      <td>AAPL</td>\n",
       "      <td>2012-01-04</td>\n",
       "      <td>59.240002</td>\n",
       "      <td>58.468571</td>\n",
       "      <td>58.571430</td>\n",
       "      <td>59.062859</td>\n",
       "      <td>65005500.0</td>\n",
       "      <td>39.383293</td>\n",
       "    </tr>\n",
       "    <tr>\n",
       "      <th>2</th>\n",
       "      <td>AAPL</td>\n",
       "      <td>2012-01-05</td>\n",
       "      <td>59.792858</td>\n",
       "      <td>58.952858</td>\n",
       "      <td>59.278572</td>\n",
       "      <td>59.718571</td>\n",
       "      <td>67817400.0</td>\n",
       "      <td>39.820515</td>\n",
       "    </tr>\n",
       "    <tr>\n",
       "      <th>3</th>\n",
       "      <td>AAPL</td>\n",
       "      <td>2012-01-06</td>\n",
       "      <td>60.392857</td>\n",
       "      <td>59.888573</td>\n",
       "      <td>59.967144</td>\n",
       "      <td>60.342857</td>\n",
       "      <td>79573200.0</td>\n",
       "      <td>40.236809</td>\n",
       "    </tr>\n",
       "    <tr>\n",
       "      <th>4</th>\n",
       "      <td>AAPL</td>\n",
       "      <td>2012-01-09</td>\n",
       "      <td>61.107143</td>\n",
       "      <td>60.192856</td>\n",
       "      <td>60.785713</td>\n",
       "      <td>60.247143</td>\n",
       "      <td>98506100.0</td>\n",
       "      <td>40.172970</td>\n",
       "    </tr>\n",
       "  </tbody>\n",
       "</table>\n",
       "</div>"
      ],
      "text/plain": [
       "  Ticker        Date       High        Low       Open      Close      Volume  \\\n",
       "0   AAPL  2012-01-03  58.928570  58.428570  58.485714  58.747143  75555200.0   \n",
       "1   AAPL  2012-01-04  59.240002  58.468571  58.571430  59.062859  65005500.0   \n",
       "2   AAPL  2012-01-05  59.792858  58.952858  59.278572  59.718571  67817400.0   \n",
       "3   AAPL  2012-01-06  60.392857  59.888573  59.967144  60.342857  79573200.0   \n",
       "4   AAPL  2012-01-09  61.107143  60.192856  60.785713  60.247143  98506100.0   \n",
       "\n",
       "   Adj Close  \n",
       "0  39.172771  \n",
       "1  39.383293  \n",
       "2  39.820515  \n",
       "3  40.236809  \n",
       "4  40.172970  "
      ]
     },
     "execution_count": 16,
     "metadata": {},
     "output_type": "execute_result"
    }
   ],
   "source": [
    "x = pd.read_csv('/home/saazi/Documents/stocks_yahoo.csv')\n",
    "x.head()"
   ]
  },
  {
   "cell_type": "code",
   "execution_count": 17,
   "metadata": {},
   "outputs": [
    {
     "data": {
      "text/html": [
       "<div>\n",
       "<style scoped>\n",
       "    .dataframe tbody tr th:only-of-type {\n",
       "        vertical-align: middle;\n",
       "    }\n",
       "\n",
       "    .dataframe tbody tr th {\n",
       "        vertical-align: top;\n",
       "    }\n",
       "\n",
       "    .dataframe thead th {\n",
       "        text-align: right;\n",
       "    }\n",
       "</style>\n",
       "<table border=\"1\" class=\"dataframe\">\n",
       "  <thead>\n",
       "    <tr style=\"text-align: right;\">\n",
       "      <th></th>\n",
       "      <th>index</th>\n",
       "      <th>Adj Close</th>\n",
       "    </tr>\n",
       "  </thead>\n",
       "  <tbody>\n",
       "    <tr>\n",
       "      <th>50</th>\n",
       "      <td>50</td>\n",
       "      <td>55.779045</td>\n",
       "    </tr>\n",
       "    <tr>\n",
       "      <th>51</th>\n",
       "      <td>51</td>\n",
       "      <td>55.779972</td>\n",
       "    </tr>\n",
       "    <tr>\n",
       "      <th>52</th>\n",
       "      <td>52</td>\n",
       "      <td>57.259331</td>\n",
       "    </tr>\n",
       "    <tr>\n",
       "      <th>53</th>\n",
       "      <td>53</td>\n",
       "      <td>57.722279</td>\n",
       "    </tr>\n",
       "    <tr>\n",
       "      <th>54</th>\n",
       "      <td>54</td>\n",
       "      <td>57.392685</td>\n",
       "    </tr>\n",
       "  </tbody>\n",
       "</table>\n",
       "</div>"
      ],
      "text/plain": [
       "    index  Adj Close\n",
       "50     50  55.779045\n",
       "51     51  55.779972\n",
       "52     52  57.259331\n",
       "53     53  57.722279\n",
       "54     54  57.392685"
      ]
     },
     "execution_count": 17,
     "metadata": {},
     "output_type": "execute_result"
    }
   ],
   "source": [
    "# reset the index to make everything columns\n",
    "just_closing_prices = x[['Adj Close']].reset_index()\n",
    "just_closing_prices[50:55]"
   ]
  },
  {
   "cell_type": "code",
   "execution_count": 19,
   "metadata": {},
   "outputs": [
    {
     "data": {
      "text/plain": [
       "\"\\ndaily_close_px = just_closing_prices.pivot('Date','Ticker','Adj Close')\\ndaily_close_px.head()\\n\""
      ]
     },
     "execution_count": 19,
     "metadata": {},
     "output_type": "execute_result"
    }
   ],
   "source": [
    "'''\n",
    "daily_close_px = just_closing_prices.pivot('Date','Ticker','Adj Close')\n",
    "daily_close_px.head()\n",
    "'''"
   ]
  },
  {
   "cell_type": "code",
   "execution_count": null,
   "metadata": {},
   "outputs": [],
   "source": [
    "daily_close_px['AAPL'].plot(figsize=(12,8))\n",
    "plt.show()"
   ]
  },
  {
   "cell_type": "code",
   "execution_count": null,
   "metadata": {},
   "outputs": [],
   "source": [
    "daily_close_px.plot(figsize=(15,8))\n",
    "plt.show()"
   ]
  },
  {
   "cell_type": "code",
   "execution_count": null,
   "metadata": {},
   "outputs": [],
   "source": [
    "msftV = all_data.Volume.loc['MSFT']\n",
    "plt.bar(msftV.index, msftV)\n",
    "plt.gcf().set_size_inches(12,6)\n",
    "plt.show()"
   ]
  },
  {
   "cell_type": "markdown",
   "metadata": {},
   "source": [
    "Combined price and volumes"
   ]
  },
  {
   "cell_type": "code",
   "execution_count": null,
   "metadata": {},
   "outputs": [],
   "source": [
    "top = plt.subplot2grid((4,4),(0,0), rowspan = 3, colspan=4)\n",
    "top.plot(daily_close_px.index,daily_close_px['MSFT'],label='Adjusted Close')\n",
    "plt.title('MSFT Adjusted Close price from 2012 - 2014')\n",
    "plt.legend(loc=2)\n",
    "bottom = plt.subplot2grid((4,4), (3,0), rowspan=1, colspan=4)\n",
    "bottom.bar(msftV.index, msftV)\n",
    "plt.title('Microsoft Daily Trading Volume')\n",
    "plt.gcf().set_size_inches(12,8)\n",
    "plt.subplots_adjust(hspace=0.75)"
   ]
  },
  {
   "cell_type": "code",
   "execution_count": null,
   "metadata": {},
   "outputs": [],
   "source": [
    "subset = all_data.loc['MSFT'].loc['2014-12':'2014-12'].reset_index()\n",
    "subset.head()"
   ]
  },
  {
   "cell_type": "code",
   "execution_count": null,
   "metadata": {},
   "outputs": [],
   "source": [
    "\n",
    "subset['date_num'] = subset['Date'] \\\n",
    ".apply(lambda date: mdates.date2num(date.to_pydatetime()))\n",
    "subset[:5]"
   ]
  },
  {
   "cell_type": "code",
   "execution_count": null,
   "metadata": {},
   "outputs": [],
   "source": [
    "subset_as_tuples = [tuple(x) for x in subset[['date_num',\n",
    "                                                'Open',\n",
    "                                                'High',\n",
    "                                                'Low',\n",
    "                                                'Close']].values]\n",
    "\n",
    "week_formatter = DateFormatter('%b %d') # e.g. Jan 12\n"
   ]
  },
  {
   "cell_type": "code",
   "execution_count": null,
   "metadata": {},
   "outputs": [],
   "source": [
    "mondays = WeekdayLocator(MONDAY)  # major ticks on the mondays\n",
    "#plt.figure(figsize=(15,8))\n",
    "fig,ax = plt.subplots()\n",
    "ax.xaxis.set_major_locator(mondays)\n",
    "ax.xaxis.set_major_formatter(week_formatter)\n",
    "candlestick_ohlc(ax,subset_as_tuples,width=0.6,colorup='g',colordown='r')\n",
    "plt.show()"
   ]
  },
  {
   "cell_type": "code",
   "execution_count": null,
   "metadata": {},
   "outputs": [],
   "source": [
    "\"\"\" Linear regression with SciPy \"\"\"\n",
    "stock_returns = [0.065, 0.0265, -0.0593, -0.001, 0.0346]\n",
    "\n",
    "mkt_returns = [0.055, -0.09, -0.041, 0.045, 0.022]\n",
    "beta, alpha, r_value, p_value, std_err = stats.linregress(stock_returns, mkt_returns)\n",
    "beta, alpha"
   ]
  },
  {
   "cell_type": "code",
   "execution_count": null,
   "metadata": {},
   "outputs": [],
   "source": [
    "daily_pct_change = daily_close_px.pct_change()"
   ]
  },
  {
   "cell_type": "code",
   "execution_count": null,
   "metadata": {},
   "outputs": [],
   "source": [
    "daily_pct_change.fillna(0, inplace=True)\n",
    "daily_pct_change.iloc[:5,0:8]"
   ]
  },
  {
   "cell_type": "code",
   "execution_count": null,
   "metadata": {},
   "outputs": [],
   "source": [
    "cum_daily_return = (1 + daily_pct_change).cumprod()\n",
    "cum_daily_return.iloc[:10,:5]"
   ]
  },
  {
   "cell_type": "code",
   "execution_count": null,
   "metadata": {},
   "outputs": [],
   "source": [
    "cum_daily_return.plot(figsize=(12,8))\n",
    "#plt.legend(loc=2)\n",
    "plt.show()"
   ]
  },
  {
   "cell_type": "code",
   "execution_count": null,
   "metadata": {},
   "outputs": [],
   "source": [
    "aapl = daily_pct_change['AAPL']\n",
    "tsla = daily_pct_change['TSLA']\n",
    "aapl.hist(bins=50, figsize=(12,8))\n",
    "plt.show()"
   ]
  },
  {
   "cell_type": "code",
   "execution_count": null,
   "metadata": {},
   "outputs": [],
   "source": [
    "aapl.describe()\n",
    "aapl.describe(percentiles=[0.025, 0.5, 0.975])"
   ]
  },
  {
   "cell_type": "code",
   "execution_count": null,
   "metadata": {},
   "outputs": [],
   "source": [
    "daily_pct_change.hist(bins=50, sharex=True, figsize=(12,8))\n",
    "plt.show()"
   ]
  },
  {
   "cell_type": "code",
   "execution_count": null,
   "metadata": {},
   "outputs": [],
   "source": [
    "f = plt.figure(figsize=(12,8))\n",
    "ax = f.add_subplot(111)\n",
    "stats.probplot(aapl, dist='norm', plot=ax)\n",
    "plt.show()"
   ]
  },
  {
   "cell_type": "code",
   "execution_count": null,
   "metadata": {},
   "outputs": [],
   "source": [
    "plt.figure(figsize=(3,6))\n",
    "sns.boxplot(y=daily_pct_change[['AAPL']], data=daily_pct_change)\n",
    "plt.show()\n",
    "#daily_pct_change[['AAPL']].plot(kind='box', figsize=(3,6))"
   ]
  },
  {
   "cell_type": "code",
   "execution_count": null,
   "metadata": {},
   "outputs": [],
   "source": [
    "daily_pct_change.plot(kind='box', figsize=(12,8))\n",
    "plt.show()"
   ]
  },
  {
   "cell_type": "markdown",
   "metadata": {},
   "source": [
    "Scatter plots to show correlation between given pairs of stocks"
   ]
  },
  {
   "cell_type": "code",
   "execution_count": null,
   "metadata": {},
   "outputs": [],
   "source": [
    "# function to create the scatterplot\n",
    "def render_scatter_plot(data, x_stock_name,y_stock_name,xlim=None,ylim=None):\n",
    "    fig = plt.figure(figsize=(12,8))\n",
    "    ax = fig.add_subplot(111)\n",
    "    ax.scatter(data[x_stock_name],data[y_stock_name])\n",
    "    if xlim is not None: ax.set_xlim(xlim)\n",
    "    \n",
    "    ax.autoscale(False)\n",
    "    ax.vlines(0 ,-10, 10)\n",
    "    ax.hlines(0 ,-10, 10)\n",
    "    ax.plot((-10,10), (-10, 10))\n",
    "    ax.set_xlabel(x_stock_name)\n",
    "    ax.set_ylabel(y_stock_name)\n",
    "    "
   ]
  },
  {
   "cell_type": "markdown",
   "metadata": {},
   "source": [
    "Low correlation(0.2)"
   ]
  },
  {
   "cell_type": "code",
   "execution_count": null,
   "metadata": {},
   "outputs": [],
   "source": [
    "limits = [-0.15, 0.15]\n",
    "render_scatter_plot(daily_pct_change,'MSFT','AAPL',xlim = limits)"
   ]
  },
  {
   "cell_type": "markdown",
   "metadata": {},
   "source": [
    "High correlation(0.76)"
   ]
  },
  {
   "cell_type": "code",
   "execution_count": null,
   "metadata": {},
   "outputs": [],
   "source": [
    "render_scatter_plot(daily_pct_change, 'DAL', 'UAL', xlim=limits)"
   ]
  },
  {
   "cell_type": "markdown",
   "metadata": {},
   "source": [
    "correlation comparison for all stocks"
   ]
  },
  {
   "cell_type": "code",
   "execution_count": null,
   "metadata": {},
   "outputs": [],
   "source": [
    "# all stocks against each other, with a KDE(kernel density estimation) graph in the diagonal\n",
    "pd.scatter_matrix(daily_pct_change, diagonal='kde', alpha=0.1,\n",
    "figsize=(12,12))\n",
    "plt.show()"
   ]
  },
  {
   "cell_type": "code",
   "execution_count": null,
   "metadata": {},
   "outputs": [],
   "source": [
    "msftAC = msft['2012']['Adj Close']\n",
    "msft.head()\n",
    "sample = msftAC['2012']\n",
    "sample.plot(figsize=(12,8))\n",
    "plt.show()"
   ]
  },
  {
   "cell_type": "code",
   "execution_count": null,
   "metadata": {},
   "outputs": [],
   "source": [
    "sample.plot(figsize=(12,8))\n",
    "sample.rolling(window= 5).mean().plot(figsize=(12,8))\n",
    "sample.rolling(window= 20).mean().plot(figsize=(12,8))\n",
    "plt.show()"
   ]
  },
  {
   "cell_type": "markdown",
   "metadata": {},
   "source": [
    "Based on Time series Analysis tutorials on youtube(codebasics)"
   ]
  },
  {
   "cell_type": "code",
   "execution_count": null,
   "metadata": {},
   "outputs": [],
   "source": [
    "start = dt.datetime(2012, 1, 1)\n",
    "end = dt.datetime(2014,12,31)\n",
    "\n",
    "aapl = data.DataReader('AAPL',\"yahoo\",start,end)\n",
    "aapl[:5]"
   ]
  },
  {
   "cell_type": "code",
   "execution_count": null,
   "metadata": {},
   "outputs": [],
   "source": [
    "aapl.index"
   ]
  },
  {
   "cell_type": "code",
   "execution_count": null,
   "metadata": {},
   "outputs": [],
   "source": [
    "aapl['2013-01']"
   ]
  },
  {
   "cell_type": "code",
   "execution_count": null,
   "metadata": {},
   "outputs": [],
   "source": [
    "aapl['2013-01'].Close.mean()"
   ]
  },
  {
   "cell_type": "code",
   "execution_count": null,
   "metadata": {},
   "outputs": [],
   "source": [
    "aapl['2013-02-01':'2013-02-11']"
   ]
  },
  {
   "cell_type": "code",
   "execution_count": null,
   "metadata": {
    "scrolled": true
   },
   "outputs": [],
   "source": [
    "#resampling and plotting\n",
    "plt.figure(figsize=(15,8))\n",
    "aapl.Close.resample('M').mean().plot()\n",
    "plt.show()"
   ]
  },
  {
   "cell_type": "code",
   "execution_count": null,
   "metadata": {},
   "outputs": [],
   "source": [
    "#resampling by quarter\n",
    "plt.figure(figsize=(15,8))\n",
    "aapl.Close.resample('Q').mean().plot(kind='bar')\n",
    "plt.show()"
   ]
  },
  {
   "cell_type": "code",
   "execution_count": null,
   "metadata": {},
   "outputs": [],
   "source": [
    "import pandas_datareader as pdr\n",
    "pdr.get_data_fred('GS10')"
   ]
  },
  {
   "cell_type": "code",
   "execution_count": null,
   "metadata": {
    "scrolled": false
   },
   "outputs": [],
   "source": [
    "import pandas as pd\n",
    "import matplotlib.pyplot as plt \n",
    "import numpy as np\n",
    "import seaborn as sns\n",
    "from pandas_datareader.data import DataReader\n",
    "from datetime import date\n",
    "import quandl\n",
    "\n",
    "# Quandl api key == _yjtBk8iXoJD-wWBuNUW\n",
    "#quandl.ApiConfig.api_key = \"_yjtBk8iXoJD-wWBuNUW\"\n",
    "\n",
    "plt.style.use('fivethirtyeight')\n",
    "%matplotlib inline\n",
    "# Getting the stocks data\n",
    "data = pd.read_csv('/home/saazi/ml/ml_models/Sharpe-Ratio-studies-master/Listings.csv', \n",
    "                     index_col = 0)\n",
    "data.head()\n",
    "# Collecting the data\n",
    "\n",
    "# List of all the stocks tickers\n",
    "stocks_ticker = data.index.tolist()\n",
    "\n",
    "# Initialize the parameters\n",
    "start = date(2014, 1, 1)\n",
    "end = date(2015, 1, 15)\n",
    "\n",
    "stocks = pd.DataFrame()\n",
    "error_list =[]\n",
    "x = 0\n",
    "\n",
    "# Data of the NASDAQ 100\n",
    "#try :\n",
    "tickers = stocks_ticker[:30]\n",
    "new_selection = DataReader(tickers, 'quandl', start, end,access_key = \"_yjtBk8iXoJD-wWBuNUW\")\n",
    "#new_selection.rename(tickers, inplace=True)\n",
    "#stocks = pd.concat([stocks, new_selection], axis=1, sort=False)\n",
    "\n",
    "# some values in the list are not up to date    \n",
    "#except KeyError :  \n",
    " #   continue \n"
   ]
  },
  {
   "cell_type": "code",
   "execution_count": null,
   "metadata": {},
   "outputs": [],
   "source": [
    "new_selection.tail(50)"
   ]
  },
  {
   "cell_type": "code",
   "execution_count": 1,
   "metadata": {},
   "outputs": [
    {
     "data": {
      "text/plain": [
       "295"
      ]
     },
     "execution_count": 1,
     "metadata": {},
     "output_type": "execute_result"
    }
   ],
   "source": [
    "from pandas_datareader.famafrench import get_available_datasets\n",
    "import pandas_datareader.data as web\n",
    "len(get_available_datasets())"
   ]
  }
 ],
 "metadata": {
  "kernelspec": {
   "display_name": "Python 3",
   "language": "python",
   "name": "python3"
  },
  "language_info": {
   "codemirror_mode": {
    "name": "ipython",
    "version": 3
   },
   "file_extension": ".py",
   "mimetype": "text/x-python",
   "name": "python",
   "nbconvert_exporter": "python",
   "pygments_lexer": "ipython3",
   "version": "3.6.8"
  }
 },
 "nbformat": 4,
 "nbformat_minor": 2
}
