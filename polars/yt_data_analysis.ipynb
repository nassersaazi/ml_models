{
 "cells": [
  {
   "cell_type": "raw",
   "id": "e2f205f7-0382-4f6a-834d-9d5db094c161",
   "metadata": {},
   "source": [
    "source: https://towardsdatascience.com/eda-with-polars-step-by-step-guide-for-pandas-users-part-1-b2ec500a1008/"
   ]
  },
  {
   "cell_type": "raw",
   "id": "eafe5c82-bbbe-43fe-af71-4c8982846e33",
   "metadata": {},
   "source": [
    "dataset: https://www.kaggle.com/datasets/datasnaek/youtube-new?resource=download&sort=published"
   ]
  },
  {
   "cell_type": "code",
   "execution_count": 1,
   "id": "1b794281-6922-4245-af95-8861a78faf55",
   "metadata": {},
   "outputs": [],
   "source": [
    "import pandas as pd\n",
    "import polars as pl\n",
    "import polars.selectors as cs\n",
    "\n",
    "import seaborn as sns\n",
    "import matplotlib.pyplot as plt"
   ]
  },
  {
   "cell_type": "code",
   "execution_count": 2,
   "id": "77af4a9c-7c8b-4e04-89aa-bf85b0d5cd67",
   "metadata": {},
   "outputs": [
    {
     "data": {
      "text/plain": [
       "polars.config.Config"
      ]
     },
     "execution_count": 2,
     "metadata": {},
     "output_type": "execute_result"
    }
   ],
   "source": [
    "pl.Config.set_tbl_width_chars(200)"
   ]
  },
  {
   "cell_type": "code",
   "execution_count": 3,
   "id": "3132a268-30cd-43db-93cf-213021244e9b",
   "metadata": {},
   "outputs": [],
   "source": [
    "path  = './yt_dataset/GBvideos.csv'"
   ]
  },
  {
   "cell_type": "markdown",
   "id": "fed63f2b-7d54-42a1-b4e1-9f812410a019",
   "metadata": {},
   "source": [
    "### Data"
   ]
  },
  {
   "cell_type": "code",
   "execution_count": 4,
   "id": "f872147d-b8b0-4736-8253-952b1e15610e",
   "metadata": {},
   "outputs": [
    {
     "name": "stdout",
     "output_type": "stream",
     "text": [
      "CPU times: user 160 ms, sys: 76.2 ms, total: 236 ms\n",
      "Wall time: 74.9 ms\n"
     ]
    }
   ],
   "source": [
    "%%time\n",
    "df_pl = pl.read_csv(path)"
   ]
  },
  {
   "cell_type": "markdown",
   "id": "3ce429e7-d6d2-4205-86bc-95a936410cde",
   "metadata": {},
   "source": [
    "### Common Exploratory Methods"
   ]
  },
  {
   "cell_type": "code",
   "execution_count": 5,
   "id": "1ded84a8-958c-451e-a552-6b8f5857de70",
   "metadata": {},
   "outputs": [
    {
     "name": "stdout",
     "output_type": "stream",
     "text": [
      "(38916, 16)\n",
      "shape: (2, 16)\n",
      "┌─────────────┬───────────────┬─────────────────────────────────┬─────────────────────┬───┬───────────────────┬──────────────────┬────────────────────────┬─────────────────────────────────┐\n",
      "│ video_id    ┆ trending_date ┆ title                           ┆ channel_title       ┆ … ┆ comments_disabled ┆ ratings_disabled ┆ video_error_or_removed ┆ description                     │\n",
      "│ ---         ┆ ---           ┆ ---                             ┆ ---                 ┆   ┆ ---               ┆ ---              ┆ ---                    ┆ ---                             │\n",
      "│ str         ┆ str           ┆ str                             ┆ str                 ┆   ┆ bool              ┆ bool             ┆ bool                   ┆ str                             │\n",
      "╞═════════════╪═══════════════╪═════════════════════════════════╪═════════════════════╪═══╪═══════════════════╪══════════════════╪════════════════════════╪═════════════════════════════════╡\n",
      "│ Jw1Y-zhQURU ┆ 17.14.11      ┆ John Lewis Christmas Ad 2017 -… ┆ John Lewis          ┆ … ┆ false             ┆ false            ┆ false                  ┆ Click here to continue the sto… │\n",
      "│ 3s1rvMFUweQ ┆ 17.14.11      ┆ Taylor Swift: …Ready for It? (… ┆ Saturday Night Live ┆ … ┆ false             ┆ false            ┆ false                  ┆ Musical guest Taylor Swift per… │\n",
      "└─────────────┴───────────────┴─────────────────────────────────┴─────────────────────┴───┴───────────────────┴──────────────────┴────────────────────────┴─────────────────────────────────┘\n"
     ]
    }
   ],
   "source": [
    "print(df_pl.shape)\n",
    "print(df_pl.head(2))\n",
    "#print(df_pl.tail(2))\n",
    "#print(df_pl.sample(2))"
   ]
  },
  {
   "cell_type": "code",
   "execution_count": 6,
   "id": "e9e8ee74-4713-481c-82b4-e73b9e056d66",
   "metadata": {},
   "outputs": [
    {
     "name": "stdout",
     "output_type": "stream",
     "text": [
      "shape: (5, 5)\n",
      "┌─────────────┬──────────┬────────┬──────────┬───────────────┐\n",
      "│ category_id ┆ views    ┆ likes  ┆ dislikes ┆ comment_count │\n",
      "│ ---         ┆ ---      ┆ ---    ┆ ---      ┆ ---           │\n",
      "│ i64         ┆ i64      ┆ i64    ┆ i64      ┆ i64           │\n",
      "╞═════════════╪══════════╪════════╪══════════╪═══════════════╡\n",
      "│ 26          ┆ 7224515  ┆ 55681  ┆ 10247    ┆ 9479          │\n",
      "│ 24          ┆ 1053632  ┆ 25561  ┆ 2294     ┆ 2757          │\n",
      "│ 10          ┆ 17158579 ┆ 787420 ┆ 43420    ┆ 125882        │\n",
      "│ 17          ┆ 27833    ┆ 193    ┆ 12       ┆ 37            │\n",
      "│ 25          ┆ 9815     ┆ 30     ┆ 2        ┆ 30            │\n",
      "└─────────────┴──────────┴────────┴──────────┴───────────────┘\n"
     ]
    }
   ],
   "source": [
    "import polars.selectors as cs\n",
    "\n",
    "# Polars feature selectiom\n",
    "numeric_data_pl = df_pl.select(cs.numeric())\n",
    "categorical_data_pl = df_pl.select(cs.string())\n",
    "print(numeric_data_pl.head())"
   ]
  },
  {
   "cell_type": "code",
   "execution_count": 7,
   "id": "101bb45d-90a7-408b-a20a-e10bacfef6d0",
   "metadata": {},
   "outputs": [
    {
     "name": "stdout",
     "output_type": "stream",
     "text": [
      "shape: (5, 3)\n",
      "┌────────┬──────────┬───────────────┐\n",
      "│ likes  ┆ views    ┆ comment_count │\n",
      "│ ---    ┆ ---      ┆ ---           │\n",
      "│ i64    ┆ i64      ┆ i64           │\n",
      "╞════════╪══════════╪═══════════════╡\n",
      "│ 55681  ┆ 7224515  ┆ 9479          │\n",
      "│ 25561  ┆ 1053632  ┆ 2757          │\n",
      "│ 787420 ┆ 17158579 ┆ 125882        │\n",
      "│ 193    ┆ 27833    ┆ 37            │\n",
      "│ 30     ┆ 9815     ┆ 30            │\n",
      "└────────┴──────────┴───────────────┘\n"
     ]
    }
   ],
   "source": [
    "susbet_pl = df_pl[[\"likes\", \"views\", \"comment_count\"]]\n",
    "print(susbet_pl.head())"
   ]
  },
  {
   "cell_type": "code",
   "execution_count": 8,
   "id": "4f40620d-266e-4a51-b5ca-0cf5c862a8c9",
   "metadata": {},
   "outputs": [
    {
     "data": {
      "text/plain": [
       "(6, 16)"
      ]
     },
     "execution_count": 8,
     "metadata": {},
     "output_type": "execute_result"
    }
   ],
   "source": [
    "# how many rows in the dataset have less than 1000 views\n",
    "filtered_pl = df_pl.filter(pl.col(\"views\") < 1000)\n",
    "filtered_pl.shape"
   ]
  },
  {
   "cell_type": "markdown",
   "id": "b82bfd93-e9b0-48e7-9915-62b48976ae19",
   "metadata": {},
   "source": [
    "### Data Quality Checks"
   ]
  },
  {
   "cell_type": "code",
   "execution_count": 9,
   "id": "f7dfa811-6072-41b0-8bb1-8eeeb71b439f",
   "metadata": {},
   "outputs": [
    {
     "name": "stdout",
     "output_type": "stream",
     "text": [
      "Missing columns:\n",
      "shape: (0, 2)\n",
      "┌──────────┬─────────┐\n",
      "│ variable ┆ missing │\n",
      "│ ---      ┆ ---     │\n",
      "│ str      ┆ u32     │\n",
      "╞══════════╪═════════╡\n",
      "└──────────┴─────────┘\n",
      "nStatic columns:\n",
      "shape: (0, 2)\n",
      "┌──────────┬────────┐\n",
      "│ variable ┆ unique │\n",
      "│ ---      ┆ ---    │\n",
      "│ str      ┆ u32    │\n",
      "╞══════════╪════════╡\n",
      "└──────────┴────────┘\n"
     ]
    },
    {
     "name": "stderr",
     "output_type": "stream",
     "text": [
      "/tmp/ipykernel_27562/1542734511.py:3: DeprecationWarning: `DataFrame.melt` is deprecated. Use `unpivot` instead, with `index` instead of `id_vars` and `on` instead of `value_vars`\n",
      "  df_pl.select(pl.all().is_null().sum())\n",
      "/tmp/ipykernel_27562/1542734511.py:8: DeprecationWarning: `DataFrame.melt` is deprecated. Use `unpivot` instead, with `index` instead of `id_vars` and `on` instead of `value_vars`\n",
      "  df_pl.select(pl.all().n_unique())\n"
     ]
    }
   ],
   "source": [
    "# check for the number of missing rows per column and the number of static columns\n",
    "missing = (\n",
    "    df_pl.select(pl.all().is_null().sum())\n",
    "    .melt(value_name=\"missing\")\n",
    "    .filter(pl.col(\"missing\") > 0)\n",
    ")\n",
    "static = (\n",
    "    df_pl.select(pl.all().n_unique())\n",
    "    .melt(value_name=\"unique\")\n",
    "    .filter(pl.col(\"unique\") == 1)\n",
    ")\n",
    "print(\"Missing columns:\")\n",
    "print(missing)\n",
    "\n",
    "print(\"nStatic columns:\")\n",
    "print(static)"
   ]
  },
  {
   "cell_type": "markdown",
   "id": "48bd2cae-82d7-468b-8c3a-4185036f9161",
   "metadata": {},
   "source": [
    "### Data Pre-Processing\n",
    "- Convert date columns into datetime format\n",
    "- Replace category IDs with the actual category names\n"
   ]
  },
  {
   "cell_type": "code",
   "execution_count": 11,
   "id": "f1fb1f8f-f00c-4771-bd42-87bbb2fa7da5",
   "metadata": {},
   "outputs": [],
   "source": [
    "# Polars datetime conversion\n",
    "df_pl = df_pl.with_columns(\n",
    "    pl.col('trending_date').str.to_date(format='%y.%d.%m'),\n",
    "    pl.col('publish_time').str.to_datetime()\n",
    ")"
   ]
  },
  {
   "cell_type": "code",
   "execution_count": 13,
   "id": "ea5ab3e8-e97a-429c-a9ac-70a5de24e411",
   "metadata": {},
   "outputs": [],
   "source": [
    "### ikigai book"
   ]
  },
  {
   "cell_type": "code",
   "execution_count": 21,
   "id": "a06b3f14-29a6-446a-9903-72d26ca7b2ff",
   "metadata": {},
   "outputs": [],
   "source": [
    "import json\n",
    "\n",
    "with open('./yt_dataset/US_category_id.json', 'r') as f:\n",
    "    categories = json.load(f)\n",
    "    \n",
    "id_to_category = {}\n",
    "for c in categories['items']:\n",
    "    id_to_category[int(c['id'])] = c['snippet']['title']"
   ]
  },
  {
   "cell_type": "code",
   "execution_count": 26,
   "id": "784e5b40-f1f0-44a0-b1ec-7d8f968c0a20",
   "metadata": {},
   "outputs": [],
   "source": [
    "# df_pl = df_pl.with_columns(pl.col(\"category_id\").map_dict(id_to_category))\n",
    "df_pl = df_pl.with_columns(\n",
    "    pl.col(\"category_id\").replace_strict(id_to_category, default=\"Unknown\").alias(\"category\")\n",
    ")"
   ]
  },
  {
   "cell_type": "markdown",
   "id": "42f855a2-0f05-41bb-a20f-e9c2665bc07e",
   "metadata": {},
   "source": [
    "### Basic Exploratory Data Analysis\n",
    "\n",
    "This section will cover the some of the most important techniques when doing EDA, namely univariate data analysis, aggregates, and visualisations.\n",
    "\n",
    "Univariate data analysis is the simplest analysis you can do yet it’s crucial. Looking at one variable at a time, it can give you a better sense of data and can guide your further explorations."
   ]
  },
  {
   "cell_type": "code",
   "execution_count": 34,
   "id": "35eb88ec-0ee5-443f-8f6c-a04ea7b25ae0",
   "metadata": {},
   "outputs": [
    {
     "name": "stdout",
     "output_type": "stream",
     "text": [
      "shape: (5, 2)\n",
      "┌──────────────────┬───────┐\n",
      "│ category         ┆ count │\n",
      "│ ---              ┆ ---   │\n",
      "│ str              ┆ u32   │\n",
      "╞══════════════════╪═══════╡\n",
      "│ Music            ┆ 13754 │\n",
      "│ Entertainment    ┆ 9124  │\n",
      "│ People & Blogs   ┆ 2926  │\n",
      "│ Film & Animation ┆ 2577  │\n",
      "│ Howto & Style    ┆ 1928  │\n",
      "└──────────────────┴───────┘\n"
     ]
    }
   ],
   "source": [
    "category_counts = df_pl['category'].value_counts(sort=True).head()\n",
    "print(category_counts)"
   ]
  },
  {
   "cell_type": "code",
   "execution_count": 37,
   "id": "d36bdce8-def1-411d-a159-da02b23265e9",
   "metadata": {},
   "outputs": [
    {
     "data": {
      "image/png": "[encoded data removed]",
      "text/plain": [
       "<Figure size 640x480 with 1 Axes>"
      ]
     },
     "metadata": {},
     "output_type": "display_data"
    }
   ],
   "source": [
    "# Barplot\n",
    "sns.barplot(\n",
    "    y=category_counts[\"category\"].to_numpy(),\n",
    "    x=category_counts[\"count\"].to_numpy(),\n",
    "    color=\"#306e81\",\n",
    ")\n",
    "plt.title(\"Category Counts in Trending Data\")\n",
    "plt.xlabel(\"Counts\")\n",
    "plt.show()"
   ]
  },
  {
   "cell_type": "code",
   "execution_count": 38,
   "id": "5f503958-9af9-4b27-9b9b-066979eb9bc7",
   "metadata": {},
   "outputs": [
    {
     "name": "stdout",
     "output_type": "stream",
     "text": [
      "shape: (9, 2)\n",
      "┌────────────┬──────────────┐\n",
      "│ statistic  ┆ views        │\n",
      "│ ---        ┆ ---          │\n",
      "│ str        ┆ f64          │\n",
      "╞════════════╪══════════════╡\n",
      "│ count      ┆ 38916.0      │\n",
      "│ null_count ┆ 0.0          │\n",
      "│ mean       ┆ 5.9119e6     │\n",
      "│ std        ┆ 1.9001e7     │\n",
      "│ min        ┆ 851.0        │\n",
      "│ 25%        ┆ 251532.0     │\n",
      "│ 50%        ┆ 982006.0     │\n",
      "│ 75%        ┆ 3.683523e6   │\n",
      "│ max        ┆ 4.24538912e8 │\n",
      "└────────────┴──────────────┘\n"
     ]
    },
    {
     "data": {
      "image/png": "[encoded data removed]",
      "text/plain": [
       "<Figure size 640x480 with 1 Axes>"
      ]
     },
     "metadata": {},
     "output_type": "display_data"
    }
   ],
   "source": [
    "views_stats = df_pl.select(pl.col(\"views\")).describe()\n",
    "print(views_stats)\n",
    "\n",
    "sns.histplot(df_pl['views'].log())\n",
    "plt.title(\"Log Views Distribution in Trending\")\n",
    "plt.show()"
   ]
  },
  {
   "cell_type": "markdown",
   "id": "d0d438c7-2df0-4e68-9dfc-f659cd71cfec",
   "metadata": {},
   "source": [
    "### Multivariate Data Analysis\n",
    "\n",
    "First things first, which channels appear most frequently in the trending page? We can again use .value_counts() but let’s use the .groupby().agg() method instead since it’s much more flexible and will be useful going forward. I’m going to group by the channel title and count the number of rows using .count() method"
   ]
  },
  {
   "cell_type": "code",
   "execution_count": 41,
   "id": "cdd01a2c-e812-4d76-a38c-e9451afc3573",
   "metadata": {},
   "outputs": [
    {
     "name": "stdout",
     "output_type": "stream",
     "text": [
      "shape: (5, 2)\n",
      "┌─────────────────────────────────┬────────────────┐\n",
      "│ channel_title                   ┆ trending_count │\n",
      "│ ---                             ┆ ---            │\n",
      "│ str                             ┆ u32            │\n",
      "╞═════════════════════════════════╪════════════════╡\n",
      "│ The Tonight Show Starring Jimm… ┆ 208            │\n",
      "│ Jimmy Kimmel Live               ┆ 207            │\n",
      "│ TheEllenShow                    ┆ 207            │\n",
      "│ Saturday Night Live             ┆ 206            │\n",
      "│ WWE                             ┆ 205            │\n",
      "└─────────────────────────────────┴────────────────┘\n"
     ]
    }
   ],
   "source": [
    "channel_popularity = (\n",
    "    df_pl.group_by(pl.col(\"channel_title\"))\n",
    "    .agg(pl.len().alias(\"trending_count\"))\n",
    "    .sort(pl.col(\"trending_count\"), descending=True)\n",
    ")\n",
    "\n",
    "print(channel_popularity.head())"
   ]
  },
  {
   "cell_type": "markdown",
   "id": "6ca1c2a4-af7b-468e-be1e-26749cec1eac",
   "metadata": {},
   "source": [
    "Let’s create a few other statistics namely:\n",
    "\n",
    "- Number of unique trendy videos\n",
    "- Total number of views, likes and comments\n",
    "- Average number of views likes and comments\n"
   ]
  },
  {
   "cell_type": "code",
   "execution_count": 44,
   "id": "29ca97bf-0b90-40e0-9780-b271d233ff5c",
   "metadata": {},
   "outputs": [
    {
     "name": "stdout",
     "output_type": "stream",
     "text": [
      "shape: (5, 9)\n",
      "┌────────────────────────┬────────────────┬───────────────────────────┬─────────────┬───┬────────────────┬───────────────┬───────────────┬──────────────────┐\n",
      "│ channel_title          ┆ trending_count ┆ number_of_trending_videos ┆ total_views ┆ … ┆ total_comments ┆ average_views ┆ average_likes ┆ average_comments │\n",
      "│ ---                    ┆ ---            ┆ ---                       ┆ ---         ┆   ┆ ---            ┆ ---           ┆ ---           ┆ ---              │\n",
      "│ str                    ┆ u32            ┆ u32                       ┆ i64         ┆   ┆ i64            ┆ f64           ┆ f64           ┆ f64              │\n",
      "╞════════════════════════╪════════════════╪═══════════════════════════╪═════════════╪═══╪════════════════╪═══════════════╪═══════════════╪══════════════════╡\n",
      "│ ESSENCE                ┆ 5              ┆ 1                         ┆ 572491      ┆ … ┆ 1715           ┆ 114498.2      ┆ 1903.2        ┆ 343.0            │\n",
      "│ Golden State Times     ┆ 18             ┆ 4                         ┆ 1645233     ┆ … ┆ 10922          ┆ 91401.833333  ┆ 2793.722222   ┆ 606.777778       │\n",
      "│ iFL TV                 ┆ 3              ┆ 1                         ┆ 1216935     ┆ … ┆ 3135           ┆ 405645.0      ┆ 2418.333333   ┆ 1045.0           │\n",
      "│ secureteam10           ┆ 12             ┆ 1                         ┆ 4292247     ┆ … ┆ 27163          ┆ 357687.25     ┆ 10632.5       ┆ 2263.583333      │\n",
      "│ Top Dawg Entertainment ┆ 24             ┆ 2                         ┆ 4481393     ┆ … ┆ 19070          ┆ 186724.708333 ┆ 11086.791667  ┆ 794.583333       │\n",
      "└────────────────────────┴────────────────┴───────────────────────────┴─────────────┴───┴────────────────┴───────────────┴───────────────┴──────────────────┘\n"
     ]
    }
   ],
   "source": [
    "channel_stats_pl = df_pl.group_by(\"channel_title\").agg(\n",
    "    pl.len().alias(\"trending_count\"), # number of occurences in the dataset\n",
    "    pl.col(\"title\").n_unique().alias(\"number_of_trending_videos\"), # number of unique trending videos\n",
    "    pl.col(\"views\").sum().alias(\"total_views\"), # total number of views\n",
    "    pl.col(\"likes\").sum().alias(\"total_likes\"), # total number of likes\n",
    "    pl.col(\"comment_count\").sum().alias(\"total_comments\"), # total number of comments\n",
    "    pl.col(\"views\").mean().alias(\"average_views\"), # average number of views\n",
    "    pl.col(\"likes\").mean().alias(\"average_likes\"), # average number of likes\n",
    "    pl.col(\"comment_count\").mean().alias(\"average_comments\"), # average number of comments\n",
    ")\n",
    "print(channel_stats_pl.sample(5))"
   ]
  },
  {
   "cell_type": "markdown",
   "id": "47388f03-52dc-4eda-87ec-ac18c35be31e",
   "metadata": {},
   "source": [
    "#### refactor the aggregation code into a function"
   ]
  },
  {
   "cell_type": "code",
   "execution_count": 48,
   "id": "d58d0a02-ece3-4f20-a252-42da9f7c71ce",
   "metadata": {},
   "outputs": [],
   "source": [
    "def make_aggregates(df: pl.DataFrame, group_by: str, agg_features: list[str]) -> pl.DataFrame:\n",
    "    # Aggregates that measure popularity using video counts\n",
    "    popularity_aggs = [\n",
    "        pl.len().alias(\"trending_count\"),\n",
    "        pl.col(\"title\").n_unique().alias(\"number_of_trending_videos\"),\n",
    "    ]\n",
    "    # Aggregates that measure popularity using metrics of the videos\n",
    "    metrics_agg = []\n",
    "    for agg in agg_features:\n",
    "        if agg not in df.columns:\n",
    "            print(f\"{agg} not in the dataframe. Skipping...\")\n",
    "        else:\n",
    "            metrics_agg.append(pl.col(agg).sum().alias(f\"total_{agg}\"))\n",
    "            metrics_agg.append(pl.col(agg).mean().alias(f\"average_{agg}\"))\n",
    "\n",
    "    stats = df.group_by(group_by).agg(popularity_aggs + metrics_agg)\n",
    "    stats = stats.sort(\"trending_count\", descending=True)\n",
    "    return stats"
   ]
  },
  {
   "cell_type": "code",
   "execution_count": 52,
   "id": "0faaf236-192e-42c4-ad54-e88ee81cb2ca",
   "metadata": {},
   "outputs": [
    {
     "name": "stdout",
     "output_type": "stream",
     "text": [
      "Top Channels\n",
      "shape: (5, 9)\n",
      "┌─────────────────────────────────┬────────────────┬───────────────────────────┬─────────────┬───┬─────────────┬───────────────┬─────────────────────┬───────────────────────┐\n",
      "│ channel_title                   ┆ trending_count ┆ number_of_trending_videos ┆ total_views ┆ … ┆ total_likes ┆ average_likes ┆ total_comment_count ┆ average_comment_count │\n",
      "│ ---                             ┆ ---            ┆ ---                       ┆ ---         ┆   ┆ ---         ┆ ---           ┆ ---                 ┆ ---                   │\n",
      "│ str                             ┆ u32            ┆ u32                       ┆ i64         ┆   ┆ i64         ┆ f64           ┆ i64                 ┆ f64                   │\n",
      "╞═════════════════════════════════╪════════════════╪═══════════════════════════╪═════════════╪═══╪═════════════╪═══════════════╪═════════════════════╪═══════════════════════╡\n",
      "│ The Tonight Show Starring Jimm… ┆ 208            ┆ 51                        ┆ 447390019   ┆ … ┆ 10186101    ┆ 48971.639423  ┆ 776719              ┆ 3734.225962           │\n",
      "│ Jimmy Kimmel Live               ┆ 207            ┆ 44                        ┆ 398235069   ┆ … ┆ 8505643     ┆ 41090.062802  ┆ 727400              ┆ 3514.009662           │\n",
      "│ TheEllenShow                    ┆ 207            ┆ 47                        ┆ 351577266   ┆ … ┆ 10017427    ┆ 48393.36715   ┆ 443970              ┆ 2144.782609           │\n",
      "│ Saturday Night Live             ┆ 206            ┆ 38                        ┆ 594799179   ┆ … ┆ 6894625     ┆ 33469.053398  ┆ 755874              ┆ 3669.291262           │\n",
      "│ WWE                             ┆ 205            ┆ 30                        ┆ 587090246   ┆ … ┆ 6232999     ┆ 30404.873171  ┆ 1051169             ┆ 5127.653659           │\n",
      "└─────────────────────────────────┴────────────────┴───────────────────────────┴─────────────┴───┴─────────────┴───────────────┴─────────────────────┴───────────────────────┘\n",
      "nTop Categories\n",
      "shape: (5, 9)\n",
      "┌──────────────────┬────────────────┬───────────────────────────┬──────────────┬───┬─────────────┬───────────────┬─────────────────────┬───────────────────────┐\n",
      "│ category         ┆ trending_count ┆ number_of_trending_videos ┆ total_views  ┆ … ┆ total_likes ┆ average_likes ┆ total_comment_count ┆ average_comment_count │\n",
      "│ ---              ┆ ---            ┆ ---                       ┆ ---          ┆   ┆ ---         ┆ ---           ┆ ---                 ┆ ---                   │\n",
      "│ str              ┆ u32            ┆ u32                       ┆ i64          ┆   ┆ i64         ┆ f64           ┆ i64                 ┆ f64                   │\n",
      "╞══════════════════╪════════════════╪═══════════════════════════╪══════════════╪═══╪═════════════╪═══════════════╪═════════════════════╪═══════════════════════╡\n",
      "│ Music            ┆ 13754          ┆ 910                       ┆ 171160864769 ┆ … ┆ 3742993052  ┆ 272138.508943 ┆ 293013140           ┆ 21303.849062          │\n",
      "│ Entertainment    ┆ 9124           ┆ 884                       ┆ 29786283041  ┆ … ┆ 744266231   ┆ 81572.362012  ┆ 116897440           ┆ 12812.08242           │\n",
      "│ People & Blogs   ┆ 2926           ┆ 293                       ┆ 5754287829   ┆ … ┆ 135396249   ┆ 46273.495899  ┆ 18713149            ┆ 6395.471292           │\n",
      "│ Film & Animation ┆ 2577           ┆ 201                       ┆ 8362707626   ┆ … ┆ 147418633   ┆ 57205.523089  ┆ 15590011            ┆ 6049.674428           │\n",
      "│ Howto & Style    ┆ 1928           ┆ 200                       ┆ 1190155227   ┆ … ┆ 51360345    ┆ 26639.183091  ┆ 7356296             ┆ 3815.506224           │\n",
      "└──────────────────┴────────────────┴───────────────────────────┴──────────────┴───┴─────────────┴───────────────┴─────────────────────┴───────────────────────┘\n"
     ]
    }
   ],
   "source": [
    "channel_aggs = make_aggregates(\n",
    "    df = df_pl, \n",
    "    group_by = \"channel_title\", \n",
    "    agg_features = [\"views\", \"likes\", \"comment_count\"]\n",
    ")\n",
    "category_aggs = make_aggregates(\n",
    "    df = df_pl, \n",
    "    group_by = \"category\", \n",
    "    agg_features = [\"views\", \"likes\", \"comment_count\"]\n",
    ")\n",
    "\n",
    "print(\"Top Channels\")\n",
    "print(channel_aggs.head())\n",
    "\n",
    "print(\"nTop Categories\")\n",
    "print(category_aggs.head())"
   ]
  },
  {
   "cell_type": "code",
   "execution_count": null,
   "id": "31a8dcf6-bc91-4932-8326-fb919d63cdee",
   "metadata": {},
   "outputs": [],
   "source": []
  }
 ],
 "metadata": {
  "kernelspec": {
   "display_name": "Python 3 (ipykernel)",
   "language": "python",
   "name": "python3"
  },
  "language_info": {
   "codemirror_mode": {
    "name": "ipython",
    "version": 3
   },
   "file_extension": ".py",
   "mimetype": "text/x-python",
   "name": "python",
   "nbconvert_exporter": "python",
   "pygments_lexer": "ipython3",
   "version": "3.9.19"
  }
 },
 "nbformat": 4,
 "nbformat_minor": 5
}
