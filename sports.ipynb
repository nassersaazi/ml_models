{
 "cells": [
  {
   "cell_type": "code",
   "execution_count": 3,
   "metadata": {},
   "outputs": [
    {
     "data": {
      "text/html": [
       "<div>\n",
       "<style scoped>\n",
       "    .dataframe tbody tr th:only-of-type {\n",
       "        vertical-align: middle;\n",
       "    }\n",
       "\n",
       "    .dataframe tbody tr th {\n",
       "        vertical-align: top;\n",
       "    }\n",
       "\n",
       "    .dataframe thead th {\n",
       "        text-align: right;\n",
       "    }\n",
       "</style>\n",
       "<table border=\"1\" class=\"dataframe\">\n",
       "  <thead>\n",
       "    <tr style=\"text-align: right;\">\n",
       "      <th></th>\n",
       "      <th>Sex</th>\n",
       "      <th>Age</th>\n",
       "      <th>Height</th>\n",
       "      <th>Weight</th>\n",
       "      <th>Team</th>\n",
       "      <th>Games</th>\n",
       "      <th>Sport</th>\n",
       "      <th>City</th>\n",
       "      <th>Year</th>\n",
       "      <th>Season</th>\n",
       "      <th>Medal</th>\n",
       "    </tr>\n",
       "  </thead>\n",
       "  <tbody>\n",
       "    <tr>\n",
       "      <th>3</th>\n",
       "      <td>M</td>\n",
       "      <td>34.0</td>\n",
       "      <td>177.554197</td>\n",
       "      <td>73.77068</td>\n",
       "      <td>Denmark/Sweden</td>\n",
       "      <td>1900 Summer</td>\n",
       "      <td>Tug-Of-War</td>\n",
       "      <td>Paris</td>\n",
       "      <td>1900</td>\n",
       "      <td>Summer</td>\n",
       "      <td>Gold</td>\n",
       "    </tr>\n",
       "    <tr>\n",
       "      <th>37</th>\n",
       "      <td>M</td>\n",
       "      <td>30.0</td>\n",
       "      <td>177.554197</td>\n",
       "      <td>73.77068</td>\n",
       "      <td>Finland</td>\n",
       "      <td>1920 Summer</td>\n",
       "      <td>Swimming</td>\n",
       "      <td>Antwerpen</td>\n",
       "      <td>1920</td>\n",
       "      <td>Summer</td>\n",
       "      <td>Bronze</td>\n",
       "    </tr>\n",
       "    <tr>\n",
       "      <th>38</th>\n",
       "      <td>M</td>\n",
       "      <td>30.0</td>\n",
       "      <td>177.554197</td>\n",
       "      <td>73.77068</td>\n",
       "      <td>Finland</td>\n",
       "      <td>1920 Summer</td>\n",
       "      <td>Swimming</td>\n",
       "      <td>Antwerpen</td>\n",
       "      <td>1920</td>\n",
       "      <td>Summer</td>\n",
       "      <td>Bronze</td>\n",
       "    </tr>\n",
       "    <tr>\n",
       "      <th>40</th>\n",
       "      <td>M</td>\n",
       "      <td>28.0</td>\n",
       "      <td>184.000000</td>\n",
       "      <td>85.00000</td>\n",
       "      <td>Finland</td>\n",
       "      <td>2014 Winter</td>\n",
       "      <td>Ice Hockey</td>\n",
       "      <td>Sochi</td>\n",
       "      <td>2014</td>\n",
       "      <td>Winter</td>\n",
       "      <td>Bronze</td>\n",
       "    </tr>\n",
       "    <tr>\n",
       "      <th>41</th>\n",
       "      <td>M</td>\n",
       "      <td>28.0</td>\n",
       "      <td>175.000000</td>\n",
       "      <td>64.00000</td>\n",
       "      <td>Finland</td>\n",
       "      <td>1948 Summer</td>\n",
       "      <td>Gymnastics</td>\n",
       "      <td>London</td>\n",
       "      <td>1948</td>\n",
       "      <td>Summer</td>\n",
       "      <td>Bronze</td>\n",
       "    </tr>\n",
       "  </tbody>\n",
       "</table>\n",
       "</div>"
      ],
      "text/plain": [
       "   Sex   Age      Height    Weight            Team        Games       Sport  \\\n",
       "3    M  34.0  177.554197  73.77068  Denmark/Sweden  1900 Summer  Tug-Of-War   \n",
       "37   M  30.0  177.554197  73.77068         Finland  1920 Summer    Swimming   \n",
       "38   M  30.0  177.554197  73.77068         Finland  1920 Summer    Swimming   \n",
       "40   M  28.0  184.000000  85.00000         Finland  2014 Winter  Ice Hockey   \n",
       "41   M  28.0  175.000000  64.00000         Finland  1948 Summer  Gymnastics   \n",
       "\n",
       "         City  Year  Season   Medal  \n",
       "3       Paris  1900  Summer    Gold  \n",
       "37  Antwerpen  1920  Summer  Bronze  \n",
       "38  Antwerpen  1920  Summer  Bronze  \n",
       "40      Sochi  2014  Winter  Bronze  \n",
       "41     London  1948  Summer  Bronze  "
      ]
     },
     "execution_count": 3,
     "metadata": {},
     "output_type": "execute_result"
    }
   ],
   "source": [
    "import pandas as pd\n",
    "\n",
    "olympics = pd.read_csv(\"~/Documents/datasets/olympics/athlete_events.csv\")\n",
    "attributes = [\"Sex\",\"Age\",\"Height\",\"Weight\",\"Team\",\"Games\",\"Sport\",\"City\",\"Year\",\"Season\",\"Medal\"]\n",
    "olympics_sum = olympics[attributes]\n",
    "olympics_sum = olympics_sum.dropna(subset=[\"Medal\"])\n",
    "olympics.describe()\n",
    "age_mean = olympics_sum[\"Age\"].mean()\n",
    "height_mean = olympics_sum[\"Height\"].mean()\n",
    "weight_mean = olympics_sum[\"Weight\"].mean()\n",
    "age_median = olympics_sum[\"Age\"].median()\n",
    "height_median = olympics_sum[\"Height\"].median()\n",
    "weight_median = olympics_sum[\"Weight\"].median()\n",
    "olympics_sum.Age = olympics_sum[\"Age\"].fillna(age_mean)\n",
    "olympics_sum.Height = olympics_sum[\"Height\"].fillna(height_mean)\n",
    "olympics_sum.Weight = olympics_sum[\"Weight\"].fillna(weight_mean)\n",
    "olympics_sum.head()"
   ]
  },
  {
   "cell_type": "code",
   "execution_count": 5,
   "metadata": {},
   "outputs": [
    {
     "name": "stdout",
     "output_type": "stream",
     "text": [
      "Accuracy on the training subset: 0.945604\n",
      "Accuracy on the testing subset: 0.624472\n"
     ]
    }
   ],
   "source": [
    "from sklearn.ensemble import RandomForestClassifier\n",
    "from sklearn.model_selection import train_test_split\n",
    "# Handling categorical attributes\n",
    "from sklearn.preprocessing import LabelEncoder\n",
    "\n",
    "encoder = LabelEncoder()\n",
    "df = olympics_sum.apply(encoder.fit_transform)\n",
    "features = df.drop(\"Medal\", axis=1)\n",
    "\n",
    "labels = df[\"Medal\"]\n",
    "\n",
    "X_train, X_test, y_train ,y_test = train_test_split(features, labels, random_state= 0)\n",
    "\n",
    "forest = RandomForestClassifier(n_jobs=-1,max_depth=100,n_estimators=100, random_state=0)\n",
    "forest.fit(X_train, y_train)\n",
    "\n",
    "print('Accuracy on the training subset: {:3f}'.format(forest.score(X_train, y_train)))\n",
    "print('Accuracy on the testing subset: {:3f}'.format(forest.score(X_test, y_test)))\n"
   ]
  },
  {
   "cell_type": "code",
   "execution_count": 6,
   "metadata": {},
   "outputs": [
    {
     "data": {
      "text/plain": [
       "count    29837.000000\n",
       "mean         0.996112\n",
       "std          0.815365\n",
       "min          0.000000\n",
       "25%          0.000000\n",
       "50%          1.000000\n",
       "75%          2.000000\n",
       "max          2.000000\n",
       "Name: Medal, dtype: float64"
      ]
     },
     "execution_count": 6,
     "metadata": {},
     "output_type": "execute_result"
    }
   ],
   "source": [
    "y_train.describe()"
   ]
  },
  {
   "cell_type": "code",
   "execution_count": 9,
   "metadata": {},
   "outputs": [
    {
     "data": {
      "image/png": "[encoded data removed]",
      "text/plain": [
       "<Figure size 1080x576 with 1 Axes>"
      ]
     },
     "metadata": {
      "needs_background": "light"
     },
     "output_type": "display_data"
    }
   ],
   "source": [
    "%matplotlib inline\n",
    "\n",
    "import seaborn as sns\n",
    "import matplotlib.pyplot as plt\n",
    "\n",
    "olympics = pd.read_csv(\"~/Documents/datasets/olympics/athlete_events.csv\",nrows=50)\n",
    "#olympics.describe()\n",
    "\n",
    "\n",
    "# Set context to \"paper\"\n",
    "plt.figure(figsize=(15,8))\n",
    "\n",
    "sns.set(style=\"darkgrid\")\n",
    "\n",
    "#sns.scatterplot(\"Height\", \"Weight\",hue= \"Season\",data = olympics_sum ,alpha=0.9)\n",
    "sns.violinplot(\"Medal\",\"Weight\",hue= \"Sex\",data = olympics_sum )\n",
    "plt.title('Comparison of height and weight amomg olympians')\n",
    "plt.ylabel('Weight',fontsize=15)\n",
    "plt.xlabel('Height',fontsize=12)\n",
    "plt.show()\n"
   ]
  },
  {
   "cell_type": "code",
   "execution_count": 10,
   "metadata": {},
   "outputs": [
    {
     "data": {
      "text/plain": [
       "Height    1.000000\n",
       "Weight    0.788569\n",
       "Age       0.071064\n",
       "Year      0.026368\n",
       "Name: Height, dtype: float64"
      ]
     },
     "execution_count": 10,
     "metadata": {},
     "output_type": "execute_result"
    }
   ],
   "source": [
    "corr_matrix = olympics_sum.corr()\n",
    "corr_matrix[\"Height\"].sort_values(ascending=False)"
   ]
  },
  {
   "cell_type": "code",
   "execution_count": 12,
   "metadata": {},
   "outputs": [
    {
     "name": "stdout",
     "output_type": "stream",
     "text": [
      "Accuracy on the training subset: 0.977160\n",
      "Accuracy on the testing subset: 0.903160\n"
     ]
    }
   ],
   "source": [
    "'''\n",
    "You'll realise here that the classifier performed better when \n",
    "we added more features to the pipeline !!!\n",
    "'''\n",
    "import pandas as pd\n",
    "import seaborn as sns\n",
    "from sklearn.preprocessing import LabelEncoder\n",
    "from sklearn.base import BaseEstimator,TransformerMixin\n",
    "from sklearn.ensemble import RandomForestClassifier\n",
    "from sklearn.model_selection import train_test_split\n",
    "from sklearn.pipeline import Pipeline\n",
    "from sklearn.pipeline import FeatureUnion\n",
    "from sklearn.preprocessing import StandardScaler\n",
    "from sklearn.preprocessing import LabelBinarizer\n",
    "\n",
    "'''\n",
    "Load some data and do some cleaning\n",
    "'''\n",
    "olympics = pd.read_csv(\"~/Documents/datasets/olympics/athlete_events.csv\",nrows = 100000)\n",
    "attributes = [\"Sex\",\"Age\",\"Height\",\"Weight\",\"Team\",\"Games\",\"Sport\",\"City\",\"Year\",\"Season\",\"Medal\"]\n",
    "olympics.Medal = olympics[\"Medal\"].fillna(\"Copper\")\n",
    "olympics.Age = olympics[\"Age\"].fillna(olympics['Age'].mean())\n",
    "olympics.Height = olympics[\"Height\"].fillna(olympics['Height'].mean())\n",
    "olympics.Weight = olympics[\"Weight\"].fillna(olympics['Weight'].mean())\n",
    "\n",
    "olympics['BMI'] = olympics[\"Weight\"] / (olympics[\"Height\"] ** 2)\n",
    "olympics.drop(['ID','Name','Team',\"Height\",\"Weight\"],1,inplace=True)\n",
    "olympics.isnull().sum(0),olympics.shape\n",
    "\n",
    "# custom multicolumn transformer for categorical variables\n",
    "\n",
    "class MultiColumnLabelEncoder:\n",
    "    def __init__(self, columns = None):\n",
    "        self.columns = columns # array of column names to encode\n",
    "        \n",
    "    def fit(self, X,y=None):\n",
    "        return self # not relevant\n",
    "    def transform(self, X):\n",
    "        ''' \n",
    "        Transforms columns of X specified in self.columns using\n",
    "        LabelEncoder(). If no columns specified, transforms all columns in X\n",
    "        '''\n",
    "        output = X.copy()\n",
    "        if self.columns is not None:\n",
    "            for col in self.columns:\n",
    "                output[col] = LabelEncoder().fit_transform(output[col])\n",
    "        else:\n",
    "             for colname,col in enumerate(output):\n",
    "                output[colname] = LabelEncoder().fit_transform(col)\n",
    "        \n",
    "        return output\n",
    "    \n",
    "    def fit_transform(self, X ,y=None):\n",
    "        return self.fit(X,y).transform(X)\n",
    "    \n",
    "'''You can also use the above class as shown in the line below '''\n",
    "#MultiColumnLabelEncoder(columns = cat_attributes).fit_transform(olympics)\n",
    "                    \n",
    "''' Custom function to sort categorical and numerical columns \n",
    "into separate lists to be processed by the pipeline\n",
    "'''\n",
    "def column_types(df):\n",
    "    cat_cols = []\n",
    "    num_cols = []\n",
    "    \n",
    "    for y in df.columns:\n",
    "        if (df[y].dtype == object):\n",
    "            cat_cols.append(y)\n",
    "        else:\n",
    "            num_cols.append(y)\n",
    "    \n",
    "    return cat_cols, num_cols\n",
    "\n",
    "class DataFrameSelector(BaseEstimator,TransformerMixin):\n",
    "    def __init__(self, attribute_names):\n",
    "        self.attribute_names = attribute_names\n",
    "    def fit(self, X, y=None):\n",
    "        return self\n",
    "    \n",
    "    def transform(self, X):\n",
    "        return X[self.attribute_names].values\n",
    "\n",
    "class MyLabelBinarizer():\n",
    "    def __init__(self, *args, **kwargs):\n",
    "        self.encoder = LabelBinarizer( *args, **kwargs)\n",
    "    def fit(self, x, y = 0):\n",
    "        self.encoder.fit(x)\n",
    "        return self\n",
    "    def transform(self,x, y=0):\n",
    "        return self.encoder.transform(x)\n",
    "\n",
    "cat_attributes ,num_attributes = column_types(olympics)\n",
    "\n",
    "num_pipeline = Pipeline([\n",
    "    ('selector',DataFrameSelector(num_attributes)),\n",
    "    ('std_scaler', StandardScaler())\n",
    "])\n",
    "\n",
    "cat_pipeline = Pipeline([\n",
    "    ('selector',DataFrameSelector(cat_attributes)),\n",
    "    ('label_encoder', MultiColumnLabelEncoder())\n",
    "]) \n",
    "\n",
    "full_pipeline = FeatureUnion(transformer_list=[\n",
    "    (\"num_pipeline\", num_pipeline),\n",
    "    (\"cat_pipeline\", cat_pipeline),\n",
    "])\n",
    "\n",
    "prepared = full_pipeline.fit_transform(olympics)\n",
    "\n",
    "labels = olympics[\"Medal\"]\n",
    "\n",
    "X_train, X_test, y_train ,y_test = train_test_split(prepared, labels, random_state= 0)\n",
    "forest = RandomForestClassifier(n_jobs=-1,max_depth=100,n_estimators=100, random_state=0)\n",
    "forest.fit(X_train, y_train)\n",
    "label_rf = forest.predict(X_test)\n",
    "print('Accuracy on the training subset: {:3f}'.format(forest.score(X_train, y_train)))\n",
    "print('Accuracy on the testing subset: {:3f}'.format(forest.score(X_test, y_test)))\n"
   ]
  },
  {
   "cell_type": "code",
   "execution_count": 16,
   "metadata": {},
   "outputs": [
    {
     "data": {
      "image/png": "[encoded data removed]",
      "text/plain": [
       "<Figure size 1080x576 with 1 Axes>"
      ]
     },
     "metadata": {},
     "output_type": "display_data"
    }
   ],
   "source": [
    "# Creating confusin matrix and heat map\n",
    "from sklearn.metrics import confusion_matrix\n",
    "import seaborn as sns\n",
    "import matplotlib.pyplot as plt\n",
    "mat = confusion_matrix(y_test, label_rf)\n",
    "sns.set(style=\"darkgrid\")\n",
    "plt.figure(figsize=(15,8))\n",
    "sns.heatmap(mat.T, square=True, annot=True, fmt='d',cbar=False)\n",
    "           #, xticklabels=X_train.target_names\n",
    "           #, yticklabels=train.target_names)\n",
    "\n",
    "#Plotting heatmap of Confusion Matrix\n",
    "plt.xlabel('true label')\n",
    "plt.ylabel('predicted label');"
   ]
  },
  {
   "cell_type": "code",
   "execution_count": 17,
   "metadata": {},
   "outputs": [
    {
     "name": "stdout",
     "output_type": "stream",
     "text": [
      "Predictions:\t ['Bronze' 'Copper' 'Gold' 'Copper' 'Gold' 'Copper' 'Copper' 'Copper'\n",
      " 'Gold' 'Copper' 'Copper' 'Copper' 'Copper' 'Copper' 'Copper']\n"
     ]
    },
    {
     "data": {
      "text/plain": [
       "(None, 40    Bronze\n",
       " 41    Bronze\n",
       " 42      Gold\n",
       " 43    Copper\n",
       " 44      Gold\n",
       " 45    Copper\n",
       " 46    Copper\n",
       " 47    Copper\n",
       " 48      Gold\n",
       " 49    Copper\n",
       " 50    Bronze\n",
       " 51    Copper\n",
       " 52    Copper\n",
       " 53    Copper\n",
       " 54    Copper\n",
       " Name: Medal, dtype: object)"
      ]
     },
     "execution_count": 17,
     "metadata": {},
     "output_type": "execute_result"
    }
   ],
   "source": [
    "some_data = olympics.iloc[40:55]\n",
    "some_labels = labels.iloc[40:55]\n",
    "some_data_prepared = full_pipeline.transform(some_data)\n",
    "print(\"Predictions:\\t\", forest.predict(some_data_prepared)),some_labels"
   ]
  },
  {
   "cell_type": "code",
   "execution_count": 19,
   "metadata": {},
   "outputs": [
    {
     "name": "stdout",
     "output_type": "stream",
     "text": [
      "Accuracy on the training subset: 0.905587\n",
      "Accuracy on the testing subset: 0.902960\n"
     ]
    }
   ],
   "source": [
    "'''\n",
    "Logistic regression performed slightly poorer than the Random forest\n",
    "'''\n",
    "from sklearn.linear_model import LogisticRegression\n",
    "lin_reg = LogisticRegression(solver='lbfgs',max_iter=300,multi_class='multinomial',random_state=0)\n",
    "lin_reg.fit(X_train, y_train)\n",
    "label_log = lin_reg.predict(X_test)\n",
    "print('Accuracy on the training subset: {:3f}'.format(lin_reg.score(X_train, y_train)))\n",
    "print('Accuracy on the testing subset: {:3f}'.format(lin_reg.score(X_test, y_test)))\n"
   ]
  },
  {
   "cell_type": "code",
   "execution_count": 21,
   "metadata": {},
   "outputs": [
    {
     "data": {
      "image/png": "[encoded data removed]",
      "text/plain": [
       "<Figure size 1080x576 with 1 Axes>"
      ]
     },
     "metadata": {},
     "output_type": "display_data"
    }
   ],
   "source": [
    "# Creating confusin matrix and heat map\n",
    "from sklearn.metrics import confusion_matrix\n",
    "import seaborn as sns\n",
    "import matplotlib.pyplot as plt\n",
    "mat = confusion_matrix(y_test, label_log)\n",
    "sns.set(style=\"darkgrid\")\n",
    "plt.figure(figsize=(15,8))\n",
    "sns.heatmap(mat.T, square=True, annot=True, fmt='d',cbar=False)\n",
    "           #, xticklabels=train.target_names\n",
    "           #, yticklabels=train.target_names)\n",
    "\n",
    "#Plotting heatmap of Confusion Matrix\n",
    "plt.xlabel('true label')\n",
    "plt.ylabel('predicted label');"
   ]
  },
  {
   "cell_type": "code",
   "execution_count": 23,
   "metadata": {},
   "outputs": [
    {
     "name": "stdout",
     "output_type": "stream",
     "text": [
      "Accuracy on the training subset: 0.865280\n",
      "Accuracy on the testing subset: 0.861000\n"
     ]
    }
   ],
   "source": [
    "#Naive bayes doesnt require scaling of the data(numerical) and performs slightly worse than logistic regression\n",
    "from sklearn.naive_bayes import MultinomialNB\n",
    "\n",
    "num_pipeline = Pipeline([\n",
    "    ('selector',DataFrameSelector(num_attributes)),\n",
    "   # ('std_scaler', StandardScaler())\n",
    "])\n",
    "\n",
    "cat_pipeline = Pipeline([\n",
    "    ('selector',DataFrameSelector(cat_attributes)),\n",
    "    ('label_binarizer', MultiColumnLabelEncoder())\n",
    "])\n",
    "\n",
    "full_pipeline = FeatureUnion(transformer_list=[\n",
    "    (\"num_pipeline\", num_pipeline),\n",
    "    (\"cat_pipeline\", cat_pipeline),\n",
    "])\n",
    "\n",
    "prepared = full_pipeline.fit_transform(olympics)\n",
    "#prepared\n",
    "\n",
    "#data[\"Category\"] = encoder.fit_transform(data[\"Category\"].astype('str'))\n",
    "#features = df.drop([\"Medal\"], axis=1)\n",
    "\n",
    "labels = olympics[\"Medal\"]\n",
    "\n",
    "\n",
    "\n",
    "X_train, X_test, y_train ,y_test = train_test_split(prepared, labels, random_state= 0)\n",
    "\n",
    "\n",
    "\n",
    "nbm = MultinomialNB()\n",
    "nbm.fit(X_train, y_train)\n",
    "label = nbm.predict(X_test)\n",
    "\n",
    "print('Accuracy on the training subset: {:3f}'.format(nbm.score(X_train, y_train)))\n",
    "print('Accuracy on the testing subset: {:3f}'.format(nbm.score(X_test, y_test)))\n"
   ]
  },
  {
   "cell_type": "code",
   "execution_count": 27,
   "metadata": {},
   "outputs": [
    {
     "name": "stdout",
     "output_type": "stream",
     "text": [
      "Accuracy on the training subset: 0.891413\n",
      "Accuracy on the testing subset: 0.888320\n"
     ]
    }
   ],
   "source": [
    "from sklearn.naive_bayes import GaussianNB\n",
    "\n",
    "num_pipeline = Pipeline([\n",
    "    ('selector',DataFrameSelector(num_attributes)),\n",
    "    ('std_scaler', StandardScaler())\n",
    "])\n",
    "\n",
    "cat_pipeline = Pipeline([\n",
    "    ('selector',DataFrameSelector(cat_attributes)),\n",
    "    ('label_binarizer', MultiColumnLabelEncoder())\n",
    "])\n",
    "\n",
    "full_pipeline = FeatureUnion(transformer_list=[\n",
    "    (\"num_pipeline\", num_pipeline),\n",
    "    (\"cat_pipeline\", cat_pipeline),\n",
    "])\n",
    "\n",
    "prepared = full_pipeline.fit_transform(olympics)\n",
    "labels = olympics[\"Medal\"]\n",
    "\n",
    "X_train, X_test, y_train ,y_test = train_test_split(prepared, labels, random_state= 0)\n",
    "\n",
    "nb = GaussianNB()\n",
    "nb.fit(X_train, y_train)\n",
    "\n",
    "print('Accuracy on the training subset: {:3f}'.format(nb.score(X_train, y_train)))\n",
    "print('Accuracy on the testing subset: {:3f}'.format(nb.score(X_test, y_test)))\n"
   ]
  },
  {
   "cell_type": "code",
   "execution_count": 28,
   "metadata": {},
   "outputs": [
    {
     "data": {
      "image/png": "[encoded data removed]",
      "text/plain": [
       "<Figure size 1080x576 with 1 Axes>"
      ]
     },
     "metadata": {},
     "output_type": "display_data"
    }
   ],
   "source": [
    "# Creating confusin matrix and heat map\n",
    "from sklearn.metrics import confusion_matrix\n",
    "import seaborn as sns\n",
    "import matplotlib.pyplot as plt\n",
    "mat = confusion_matrix(y_test, label)\n",
    "sns.set(style=\"darkgrid\")\n",
    "plt.figure(figsize=(15,8))\n",
    "sns.heatmap(mat.T, square=True, annot=True, fmt='d',cbar=False)\n",
    "           #, xticklabels=train.target_names\n",
    "           #, yticklabels=train.target_names)\n",
    "\n",
    "#Plotting heatmap of Confusion Matrix\n",
    "plt.xlabel('true label')\n",
    "plt.ylabel('predicted label');"
   ]
  },
  {
   "cell_type": "code",
   "execution_count": 29,
   "metadata": {},
   "outputs": [
    {
     "name": "stderr",
     "output_type": "stream",
     "text": [
      "/home/saazi/ml/env/lib/python3.6/site-packages/sklearn/preprocessing/data.py:323: DataConversionWarning: Data with input dtype int64, float64 were all converted to float64 by MinMaxScaler.\n",
      "  return self.partial_fit(X, y)\n"
     ]
    },
    {
     "name": "stdout",
     "output_type": "stream",
     "text": [
      "Accuracy on the training subset: 0.930280\n",
      "Accuracy on the testing subset: 0.817600\n"
     ]
    }
   ],
   "source": [
    "from sklearn.pipeline import Pipeline\n",
    "from sklearn.preprocessing import MinMaxScaler\n",
    "\n",
    "cat_attributes = [\"Sex\",\"NOC\",\"Games\",\"Sport\",\"City\",\"Season\",\"Event\",\"Medal\"]\n",
    "features = olympics.drop(cat_attributes, axis=1)\n",
    "\n",
    "labels = olympics[\"Medal\"]\n",
    "\n",
    "X_train, X_test, y_train ,y_test = train_test_split(features, labels, random_state= 0)\n",
    "\n",
    "pipe = Pipeline([(\"scaler\", MinMaxScaler()), (\"forest\", RandomForestClassifier(n_jobs=-1,\n",
    "                                                        max_depth=100,n_estimators=100,\n",
    "                                                       random_state=0))])\n",
    "\n",
    "pipe.fit(X_train, y_train)\n",
    "print('Accuracy on the training subset: {:3f}'.format(pipe.score(X_train, y_train)))\n",
    "print('Accuracy on the testing subset: {:3f}'.format(pipe.score(X_test, y_test)))\n"
   ]
  }
 ],
 "metadata": {
  "kernelspec": {
   "display_name": "Python 3",
   "language": "python",
   "name": "python3"
  },
  "language_info": {
   "codemirror_mode": {
    "name": "ipython",
    "version": 3
   },
   "file_extension": ".py",
   "mimetype": "text/x-python",
   "name": "python",
   "nbconvert_exporter": "python",
   "pygments_lexer": "ipython3",
   "version": "3.6.7"
  }
 },
 "nbformat": 4,
 "nbformat_minor": 2
}
