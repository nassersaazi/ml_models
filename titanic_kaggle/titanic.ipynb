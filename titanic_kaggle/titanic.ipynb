{
 "cells": [
  {
   "cell_type": "code",
   "execution_count": 1,
   "metadata": {},
   "outputs": [
    {
     "name": "stderr",
     "output_type": "stream",
     "text": [
      "Using TensorFlow backend.\n"
     ]
    },
    {
     "name": "stdout",
     "output_type": "stream",
     "text": [
      "\n",
      "Dataset contains 891 rows and 12 columns\n",
      "\n",
      "Data types of the raw (uncleaned) data:\n",
      "PassengerId      int64\n",
      "Survived         int64\n",
      "Pclass           int64\n",
      "Name            object\n",
      "Sex             object\n",
      "Age            float64\n",
      "SibSp            int64\n",
      "Parch            int64\n",
      "Ticket          object\n",
      "Fare           float64\n",
      "Cabin           object\n",
      "Embarked        object\n",
      "dtype: object\n",
      "\n",
      "Categorical features of the dataset: ['Name', 'Sex', 'Ticket', 'Cabin', 'Embarked']\n",
      "\n",
      "Numeric features of the dataset: ['PassengerId', 'Survived', 'Pclass', 'Age', 'SibSp', 'Parch', 'Fare']\n",
      "\n",
      "Checking for features with null values...\n",
      "\n",
      "Cabin          687\n",
      "Age            177\n",
      "Embarked         2\n",
      "Fare             0\n",
      "Ticket           0\n",
      "Parch            0\n",
      "SibSp            0\n",
      "Sex              0\n",
      "Name             0\n",
      "Pclass           0\n",
      "Survived         0\n",
      "PassengerId      0\n",
      "dtype: int64\n"
     ]
    }
   ],
   "source": [
    "# My custom class wherein are libraries like pandas ,mpl,np etc.\n",
    "from preprocessor import *\n",
    "from imblearn.over_sampling import SMOTE\n",
    "prep = Preprocessor()\n",
    "\n",
    "train = pd.read_csv('train.csv')\n",
    "test = pd.read_csv('test.csv')\n",
    "td = pd.concat([train,test],ignore_index=True,sort=False)\n",
    "\n",
    "prep.overview(train)\n"
   ]
  },
  {
   "cell_type": "raw",
   "metadata": {},
   "source": [
    "#tasks\n",
    "check feature importance\n",
    "\n",
    "#problems\n",
    "-cabin has too many null values\n",
    "\n",
    "#possible solutions\n",
    "1-assign cabins to Nans randomly or check the dominant cabins in the classes and assign cabins of nans according to class\n",
    "2-fill nans with a new independent cabin(Z) and apply smote or near miss,train with logistic,svm and random forest\n",
    "3-drop cabins column,standardize numeric,apply get_dummies"
   ]
  },
  {
   "cell_type": "code",
   "execution_count": 2,
   "metadata": {},
   "outputs": [
    {
     "data": {
      "image/png": "[encoded data removed]",
      "text/plain": [
       "<Figure size 1080x576 with 1 Axes>"
      ]
     },
     "metadata": {
      "needs_background": "light"
     },
     "output_type": "display_data"
    }
   ],
   "source": [
    "tn = td.isnull()\n",
    "plt.figure(figsize=(15,8))\n",
    "sns.heatmap(tn,cbar=False).set_title(\"Missing values heatmap\");"
   ]
  },
  {
   "cell_type": "code",
   "execution_count": 3,
   "metadata": {},
   "outputs": [
    {
     "name": "stdout",
     "output_type": "stream",
     "text": [
      "PassengerId      0\n",
      "Survived       418\n",
      "Pclass           0\n",
      "Name             0\n",
      "Sex              0\n",
      "Age              0\n",
      "SibSp            0\n",
      "Parch            0\n",
      "Ticket           0\n",
      "Fare             0\n",
      "Cabin            0\n",
      "Embarked         0\n",
      "dtype: int64\n"
     ]
    }
   ],
   "source": [
    "td.Cabin = td.Cabin.fillna('NA')\n",
    "td.Age = td.Age.fillna(td.Age.median())\n",
    "td.Fare = td.Fare.fillna(td.Fare.median())\n",
    "td.Embarked = td.Embarked.fillna(td.Embarked.mode()[0])\n",
    "#td.Survived = td.Survived.astype(int)\n",
    "print(td.isnull().sum())"
   ]
  },
  {
   "cell_type": "code",
   "execution_count": 4,
   "metadata": {},
   "outputs": [
    {
     "data": {
      "text/plain": [
       "(1309, 2437)"
      ]
     },
     "execution_count": 4,
     "metadata": {},
     "output_type": "execute_result"
    }
   ],
   "source": [
    "td['Family'] = td['SibSp'] + td['Parch']\n",
    "td['is_alone'] = td['Family'] == 0\n",
    "\n",
    "pre_y = td['Survived']\n",
    "#pre_x = td.drop('Survived',axis= 1)\n",
    "dm_x = pd.get_dummies(td)\n",
    "#dm_y = pre_y.map(dict(Y=1, N=0))\n",
    "dm_x.shape"
   ]
  },
  {
   "cell_type": "code",
   "execution_count": 21,
   "metadata": {},
   "outputs": [
    {
     "data": {
      "text/plain": [
       "(418, 2436)"
      ]
     },
     "execution_count": 21,
     "metadata": {},
     "output_type": "execute_result"
    }
   ],
   "source": [
    "predicted = dm_x[dm_x.Survived.isnull()]\n",
    "predicted = predicted.drop(['Survived'],axis=1)\n",
    "#predicted = predicted.dropna()\n",
    "predicted.isnull().sum()\n",
    "predicted.shape"
   ]
  },
  {
   "cell_type": "code",
   "execution_count": 12,
   "metadata": {},
   "outputs": [
    {
     "data": {
      "text/plain": [
       "(891, 2436)"
      ]
     },
     "execution_count": 12,
     "metadata": {},
     "output_type": "execute_result"
    }
   ],
   "source": [
    "# Training data\n",
    "tdata = dm_x.dropna()\n",
    "label = tdata['Survived'].astype(int)\n",
    "X = tdata.drop(['Survived'],axis=1)\n",
    "X.shape"
   ]
  },
  {
   "cell_type": "code",
   "execution_count": 13,
   "metadata": {},
   "outputs": [],
   "source": [
    "smote = SMOTE(ratio='minority')\n",
    "# The label better be an int\n",
    "X1, y = smote.fit_sample(X, label)\n",
    "sc = MinMaxScaler()\n",
    "X = sc.fit_transform(X1)\n",
    "#testy = sc.fit_transform(testy)\n",
    "#testy"
   ]
  },
  {
   "cell_type": "code",
   "execution_count": 14,
   "metadata": {},
   "outputs": [
    {
     "name": "stdout",
     "output_type": "stream",
     "text": [
      "Counter({0: 549, 1: 549})\n"
     ]
    },
    {
     "data": {
      "text/plain": [
       "dtype('int64')"
      ]
     },
     "execution_count": 14,
     "metadata": {},
     "output_type": "execute_result"
    }
   ],
   "source": [
    "#Dataset is balanced after applying smote algorithm\n",
    "print(Counter(y))\n",
    "y.dtype"
   ]
  },
  {
   "cell_type": "code",
   "execution_count": 11,
   "metadata": {},
   "outputs": [
    {
     "ename": "AttributeError",
     "evalue": "'numpy.ndarray' object has no attribute 'head'",
     "output_type": "error",
     "traceback": [
      "\u001b[0;31m---------------------------------------------------------------------------\u001b[0m",
      "\u001b[0;31mAttributeError\u001b[0m                            Traceback (most recent call last)",
      "\u001b[0;32m<ipython-input-11-17b2b1f6e15b>\u001b[0m in \u001b[0;36m<module>\u001b[0;34m\u001b[0m\n\u001b[0;32m----> 1\u001b[0;31m \u001b[0my\u001b[0m\u001b[0;34m.\u001b[0m\u001b[0mhead\u001b[0m\u001b[0;34m(\u001b[0m\u001b[0;34m)\u001b[0m\u001b[0;34m\u001b[0m\u001b[0;34m\u001b[0m\u001b[0m\n\u001b[0m",
      "\u001b[0;31mAttributeError\u001b[0m: 'numpy.ndarray' object has no attribute 'head'"
     ]
    }
   ],
   "source": [
    "y.head()"
   ]
  },
  {
   "cell_type": "code",
   "execution_count": 15,
   "metadata": {},
   "outputs": [],
   "source": [
    "X_train, X_test, y_train ,y_test = train_test_split(X, y, random_state= 42,test_size = 0.2)"
   ]
  },
  {
   "cell_type": "code",
   "execution_count": 16,
   "metadata": {},
   "outputs": [
    {
     "name": "stdout",
     "output_type": "stream",
     "text": [
      "Logistic Regresssion...\n",
      "Trained model in 0.189857 seconds...\n",
      "Classification report for Logistic regression :\n",
      "              precision    recall  f1-score   support\n",
      "\n",
      "           0       0.89      0.82      0.85       103\n",
      "           1       0.85      0.91      0.88       117\n",
      "\n",
      "    accuracy                           0.87       220\n",
      "   macro avg       0.87      0.87      0.87       220\n",
      "weighted avg       0.87      0.87      0.87       220\n",
      "\n",
      "\n",
      "Support Vector Machine...\n",
      "Trained model in 2.325870 seconds...\n",
      "Classification report for SVM :\n",
      "              precision    recall  f1-score   support\n",
      "\n",
      "           0       0.86      0.90      0.88       103\n",
      "           1       0.91      0.87      0.89       117\n",
      "\n",
      "    accuracy                           0.89       220\n",
      "   macro avg       0.89      0.89      0.89       220\n",
      "weighted avg       0.89      0.89      0.89       220\n",
      "\n",
      "\n",
      "Random Forest...\n",
      "Trained model in 0.537130 seconds...\n",
      "Classification report for Random Forest :\n",
      "              precision    recall  f1-score   support\n",
      "\n",
      "           0       0.85      0.94      0.89       103\n",
      "           1       0.94      0.85      0.90       117\n",
      "\n",
      "    accuracy                           0.90       220\n",
      "   macro avg       0.90      0.90      0.90       220\n",
      "weighted avg       0.90      0.90      0.90       220\n",
      "\n",
      "\n",
      "Neural Network...\n",
      "Trained model in 38.068702 seconds...\n",
      "Classification report for Neural network :\n",
      "              precision    recall  f1-score   support\n",
      "\n",
      "           0       0.95      0.89      0.92       103\n",
      "           1       0.91      0.96      0.93       117\n",
      "\n",
      "    accuracy                           0.93       220\n",
      "   macro avg       0.93      0.93      0.93       220\n",
      "weighted avg       0.93      0.93      0.93       220\n",
      "\n",
      "\n"
     ]
    }
   ],
   "source": [
    "%matplotlib inline\n",
    "from sklearn.ensemble import RandomForestClassifier\n",
    "from sklearn.linear_model import LogisticRegression\n",
    "from sklearn.metrics import classification_report, f1_score\n",
    "from sklearn.svm import SVC\n",
    "from keras import Sequential\n",
    "from keras.layers import Dense\n",
    "from collections import Counter\n",
    "\n",
    "\n",
    "clf_A = LogisticRegression(solver='lbfgs',random_state = 42,multi_class='auto')\n",
    "clf_B = SVC(random_state = 912,kernel = 'rbf',gamma = 'scale')\n",
    "clf_C = RandomForestClassifier(n_estimators = 100,max_depth = 50,random_state=82)\n",
    "#clf_D = xgb.XGBClassifier(seed=82)\n",
    "clf_D = Sequential()\n",
    "clf_D.add(Dense(200, activation = 'relu', kernel_initializer='random_normal', input_dim=X_test.shape[1]))\n",
    "clf_D.add(Dense(400, activation='relu', kernel_initializer='random_normal'))\n",
    "clf_D.add(Dense(4, activation='relu', kernel_initializer='random_normal'))\n",
    "clf_D.add(Dense(1, activation='sigmoid', kernel_initializer='random_normal'))\n",
    "clf_D.compile(optimizer='adam', loss='binary_crossentropy', metrics=['accuracy'])\n",
    "\n",
    "print('Logistic Regresssion...')\n",
    "start  = time()\n",
    "clf_A.fit(X_train, y_train)\n",
    "end = time()\n",
    "print('Trained model in {:3f} seconds...'.format(end - start))\n",
    "y_pred_A = clf_A.predict(X_test)\n",
    "# print classification report for logistic regression\n",
    "print(f'Classification report for Logistic regression :\\n{classification_report(y_test, y_pred_A)}')\n",
    "print('')\n",
    "\n",
    "print('Support Vector Machine...')\n",
    "start  = time()\n",
    "clf_B.fit(X_train, y_train)\n",
    "end = time()\n",
    "print('Trained model in {:3f} seconds...'.format(end - start))\n",
    "y_pred_B = clf_B.predict(X_test)\n",
    "# print classification report for support vector machine\n",
    "print(f'Classification report for SVM :\\n{classification_report(y_test, y_pred_B)}')\n",
    "print('')\n",
    "\n",
    "print('Random Forest...')\n",
    "start = time()\n",
    "clf_C.fit(X_train, y_train)\n",
    "end = time()\n",
    "print('Trained model in {:3f} seconds...'.format(end - start))\n",
    "y_pred_C = clf_C.predict(X_test)\n",
    "# print classification report for random forest\n",
    "print(f'Classification report for Random Forest :\\n{classification_report(y_test, y_pred_C)}')\n",
    "print('')\n",
    "\n",
    "print('Neural Network...')\n",
    "start = time()\n",
    "clf_D.fit(X_train, y_train, batch_size=21,epochs=100, verbose=0)\n",
    "end = time()\n",
    "print('Trained model in {:3f} seconds...'.format(end - start))\n",
    "y_pred_D = clf_D.predict(X_test)\n",
    "y_pred_D = (y_pred_D > 0.55)\n",
    "# print classification report for neural network\n",
    "print(f'Classification report for Neural network :\\n{classification_report(y_test, y_pred_D)}')\n",
    "print('')\n"
   ]
  },
  {
   "cell_type": "code",
   "execution_count": 17,
   "metadata": {},
   "outputs": [
    {
     "data": {
      "image/png": "[encoded data removed]",
      "text/plain": [
       "<Figure size 720x504 with 2 Axes>"
      ]
     },
     "metadata": {
      "needs_background": "light"
     },
     "output_type": "display_data"
    }
   ],
   "source": [
    "from sklearn.metrics import confusion_matrix\n",
    "cm = confusion_matrix(y_test,y_pred_A)\n",
    "plt.figure(figsize=(10,7))\n",
    "ax= plt.subplot()\n",
    "sns.heatmap(cm, annot=True, ax =ax); #annot= True to annotate cells\n",
    "\n",
    "# labels, title and ticks\n",
    "ax.set_xlabel('Predicted');ax.set_ylabel('Actual');\n",
    "ax.set_title('Confusion Matrix for LR');\n",
    "ax.xaxis.set_ticklabels(['No', 'Yes']); ax.yaxis.set_ticklabels(['No','Yes']);\n"
   ]
  },
  {
   "cell_type": "code",
   "execution_count": 18,
   "metadata": {},
   "outputs": [
    {
     "data": {
      "image/png": "[encoded data removed]",
      "text/plain": [
       "<Figure size 720x504 with 2 Axes>"
      ]
     },
     "metadata": {
      "needs_background": "light"
     },
     "output_type": "display_data"
    }
   ],
   "source": [
    "\n",
    "cm = confusion_matrix(y_test,y_pred_B)\n",
    "plt.figure(figsize=(10,7))\n",
    "ax= plt.subplot()\n",
    "sns.heatmap(cm, annot=True, ax =ax); #annot= True to annotate cells\n",
    "\n",
    "# labels, title and ticks\n",
    "ax.set_xlabel('Predicted');ax.set_ylabel('Actual');\n",
    "ax.set_title('Confusion Matrix for SVM');\n",
    "ax.xaxis.set_ticklabels(['No', 'Yes']); ax.yaxis.set_ticklabels(['No','Yes']);\n"
   ]
  },
  {
   "cell_type": "code",
   "execution_count": 19,
   "metadata": {},
   "outputs": [
    {
     "data": {
      "image/png": "[encoded data removed]",
      "text/plain": [
       "<Figure size 720x504 with 2 Axes>"
      ]
     },
     "metadata": {
      "needs_background": "light"
     },
     "output_type": "display_data"
    }
   ],
   "source": [
    "from sklearn.metrics import confusion_matrix\n",
    "cm = confusion_matrix(y_test,y_pred_C)\n",
    "plt.figure(figsize=(10,7))\n",
    "ax= plt.subplot()\n",
    "sns.heatmap(cm, annot=True, ax =ax); #annot= True to annotate cells\n",
    "\n",
    "# labels, title and ticks\n",
    "ax.set_xlabel('Predicted');ax.set_ylabel('Actual');\n",
    "ax.set_title('Confusion Matrix for Random Forest');\n",
    "ax.xaxis.set_ticklabels(['No', 'Yes']); ax.yaxis.set_ticklabels(['No','Yes']);\n"
   ]
  },
  {
   "cell_type": "code",
   "execution_count": 20,
   "metadata": {},
   "outputs": [
    {
     "data": {
      "image/png": "[encoded data removed]",
      "text/plain": [
       "<Figure size 720x504 with 2 Axes>"
      ]
     },
     "metadata": {
      "needs_background": "light"
     },
     "output_type": "display_data"
    }
   ],
   "source": [
    "from sklearn.metrics import confusion_matrix\n",
    "cm = confusion_matrix(y_test,y_pred_D)\n",
    "plt.figure(figsize=(10,7))\n",
    "ax= plt.subplot()\n",
    "sns.heatmap(cm, annot=True, ax =ax); #annot= True to annotate cells\n",
    "\n",
    "# labels, title and ticks\n",
    "ax.set_xlabel('Predicted');ax.set_ylabel('Actual');\n",
    "ax.set_title('Confusion Matrix for ANN');\n",
    "ax.xaxis.set_ticklabels(['No', 'Yes']); ax.yaxis.set_ticklabels(['No','Yes']);\n"
   ]
  },
  {
   "cell_type": "code",
   "execution_count": 33,
   "metadata": {},
   "outputs": [
    {
     "data": {
      "text/plain": [
       "array([0, 0, 0, 0, 0, 0, 1, 0, 1, 0, 0, 0, 0, 0, 0, 0, 0, 0, 0, 1, 0, 0,\n",
       "       0, 0, 1, 0, 1, 0, 0, 0, 0, 0, 0, 0, 0, 0, 0, 0, 0, 0, 0, 0, 0, 0,\n",
       "       0, 0, 0, 0, 1, 0, 0, 0, 0, 0, 0, 0, 0, 0, 0, 1, 0, 0, 0, 1, 1, 0,\n",
       "       1, 0, 0, 0, 1, 0, 0, 0, 1, 0, 0, 0, 0, 1, 0, 0, 0, 0, 0, 0, 1, 0,\n",
       "       1, 0, 0, 0, 0, 0, 0, 0, 0, 0, 0, 0, 1, 0, 0, 0, 0, 0, 0, 0, 0, 0,\n",
       "       0, 1, 1, 1, 0, 0, 0, 0, 0, 0, 1, 0, 1, 0, 0, 0, 0, 1, 0, 0, 0, 0,\n",
       "       0, 0, 0, 0, 0, 0, 0, 0, 0, 1, 1, 0, 0, 0, 0, 0, 0, 0, 1, 0, 0, 0,\n",
       "       0, 0, 1, 0, 0, 0, 1, 0, 0, 0, 0, 0, 0, 0, 1, 0, 0, 0, 0, 0, 0, 0,\n",
       "       0, 0, 1, 1, 0, 1, 0, 0, 0, 0, 0, 0, 0, 0, 0, 0, 0, 0, 0, 0, 1, 0,\n",
       "       0, 0, 1, 0, 0, 0, 0, 0, 1, 0, 1, 0, 0, 0, 0, 0, 0, 0, 1, 0, 1, 0,\n",
       "       1, 0, 1, 0, 1, 1, 0, 1, 0, 0, 0, 0, 0, 0, 1, 0, 0, 0, 0, 1, 1, 0,\n",
       "       1, 0, 0, 0, 0, 0, 0, 1, 0, 0, 0, 0, 0, 0, 0, 0, 0, 0, 0, 0, 0, 0,\n",
       "       0, 0, 0, 0, 0, 0, 0, 0, 1, 0, 0, 0, 0, 0, 0, 0, 0, 0, 1, 0, 0, 0,\n",
       "       0, 0, 0, 0, 0, 1, 0, 0, 0, 0, 0, 0, 0, 0, 0, 0, 0, 0, 1, 0, 0, 0,\n",
       "       0, 0, 0, 0, 0, 1, 1, 1, 0, 0, 0, 0, 0, 0, 0, 0, 1, 0, 0, 0, 0, 0,\n",
       "       0, 0, 0, 1, 0, 0, 0, 0, 0, 0, 0, 0, 0, 1, 0, 0, 0, 1, 0, 1, 1, 0,\n",
       "       0, 0, 0, 0, 0, 0, 0, 0, 0, 0, 0, 0, 1, 0, 0, 0, 1, 0, 0, 1, 0, 0,\n",
       "       0, 1, 0, 0, 0, 0, 0, 0, 0, 0, 0, 0, 0, 0, 0, 0, 0, 0, 0, 0, 0, 0,\n",
       "       0, 1, 0, 0, 1, 0, 1, 0, 0, 0, 0, 0, 1, 0, 1, 1, 0, 0, 1, 0, 0, 0])"
      ]
     },
     "execution_count": 33,
     "metadata": {},
     "output_type": "execute_result"
    }
   ],
   "source": [
    "predictions = clf_C.predict(predicted)\n",
    "#predictions = (predictions > 0.5)\n",
    "predictions"
   ]
  },
  {
   "cell_type": "code",
   "execution_count": 32,
   "metadata": {},
   "outputs": [
    {
     "data": {
      "text/html": [
       "<div>\n",
       "<style scoped>\n",
       "    .dataframe tbody tr th:only-of-type {\n",
       "        vertical-align: middle;\n",
       "    }\n",
       "\n",
       "    .dataframe tbody tr th {\n",
       "        vertical-align: top;\n",
       "    }\n",
       "\n",
       "    .dataframe thead th {\n",
       "        text-align: right;\n",
       "    }\n",
       "</style>\n",
       "<table border=\"1\" class=\"dataframe\">\n",
       "  <thead>\n",
       "    <tr style=\"text-align: right;\">\n",
       "      <th></th>\n",
       "      <th>Survived</th>\n",
       "    </tr>\n",
       "  </thead>\n",
       "  <tbody>\n",
       "    <tr>\n",
       "      <th>0</th>\n",
       "      <td>1</td>\n",
       "    </tr>\n",
       "    <tr>\n",
       "      <th>1</th>\n",
       "      <td>1</td>\n",
       "    </tr>\n",
       "    <tr>\n",
       "      <th>2</th>\n",
       "      <td>0</td>\n",
       "    </tr>\n",
       "    <tr>\n",
       "      <th>3</th>\n",
       "      <td>1</td>\n",
       "    </tr>\n",
       "    <tr>\n",
       "      <th>4</th>\n",
       "      <td>1</td>\n",
       "    </tr>\n",
       "  </tbody>\n",
       "</table>\n",
       "</div>"
      ],
      "text/plain": [
       "   Survived\n",
       "0         1\n",
       "1         1\n",
       "2         0\n",
       "3         1\n",
       "4         1"
      ]
     },
     "execution_count": 32,
     "metadata": {},
     "output_type": "execute_result"
    }
   ],
   "source": [
    "val= pd.DataFrame(predictions, columns=['Survived'])\n",
    "val = val.replace({True: 1, False: 0})\n",
    "val.head()\n"
   ]
  },
  {
   "cell_type": "code",
   "execution_count": 31,
   "metadata": {},
   "outputs": [
    {
     "data": {
      "text/html": [
       "<div>\n",
       "<style scoped>\n",
       "    .dataframe tbody tr th:only-of-type {\n",
       "        vertical-align: middle;\n",
       "    }\n",
       "\n",
       "    .dataframe tbody tr th {\n",
       "        vertical-align: top;\n",
       "    }\n",
       "\n",
       "    .dataframe thead th {\n",
       "        text-align: right;\n",
       "    }\n",
       "</style>\n",
       "<table border=\"1\" class=\"dataframe\">\n",
       "  <thead>\n",
       "    <tr style=\"text-align: right;\">\n",
       "      <th></th>\n",
       "      <th>0</th>\n",
       "      <th>Survived</th>\n",
       "    </tr>\n",
       "  </thead>\n",
       "  <tbody>\n",
       "    <tr>\n",
       "      <th>891</th>\n",
       "      <td>892.0</td>\n",
       "      <td>NaN</td>\n",
       "    </tr>\n",
       "    <tr>\n",
       "      <th>892</th>\n",
       "      <td>893.0</td>\n",
       "      <td>NaN</td>\n",
       "    </tr>\n",
       "    <tr>\n",
       "      <th>893</th>\n",
       "      <td>894.0</td>\n",
       "      <td>NaN</td>\n",
       "    </tr>\n",
       "    <tr>\n",
       "      <th>894</th>\n",
       "      <td>895.0</td>\n",
       "      <td>NaN</td>\n",
       "    </tr>\n",
       "    <tr>\n",
       "      <th>895</th>\n",
       "      <td>896.0</td>\n",
       "      <td>NaN</td>\n",
       "    </tr>\n",
       "  </tbody>\n",
       "</table>\n",
       "</div>"
      ],
      "text/plain": [
       "         0  Survived\n",
       "891  892.0       NaN\n",
       "892  893.0       NaN\n",
       "893  894.0       NaN\n",
       "894  895.0       NaN\n",
       "895  896.0       NaN"
      ]
     },
     "execution_count": 31,
     "metadata": {},
     "output_type": "execute_result"
    }
   ],
   "source": [
    "#val= pd.DataFrame({'PassengerId':test['PassengerId'],'Survived':predictions})\n",
    "value = pd.concat([pid,val],ignore_index=False,sort=False)\n",
    "value.head()"
   ]
  },
  {
   "cell_type": "code",
   "execution_count": 34,
   "metadata": {},
   "outputs": [
    {
     "name": "stdout",
     "output_type": "stream",
     "text": [
      "Saved file: titanicPredictionsRF.csv\n"
     ]
    }
   ],
   "source": [
    "val= pd.DataFrame({'PassengerId':test['PassengerId'],'Survived':predictions})\n",
    "test = test.reset_index()\n",
    "#val = val.replace({1: 'Survived', False: 'Drowned'})\n",
    "filename = 'titanicPredictionsRF.csv'\n",
    "val.to_csv(filename,index=False)\n",
    "print(f'Saved file: {filename}')"
   ]
  },
  {
   "cell_type": "code",
   "execution_count": 35,
   "metadata": {},
   "outputs": [],
   "source": [
    "x = pd.read_csv(filename,index_col=0)"
   ]
  },
  {
   "cell_type": "code",
   "execution_count": 36,
   "metadata": {},
   "outputs": [
    {
     "data": {
      "text/html": [
       "<div>\n",
       "<style scoped>\n",
       "    .dataframe tbody tr th:only-of-type {\n",
       "        vertical-align: middle;\n",
       "    }\n",
       "\n",
       "    .dataframe tbody tr th {\n",
       "        vertical-align: top;\n",
       "    }\n",
       "\n",
       "    .dataframe thead th {\n",
       "        text-align: right;\n",
       "    }\n",
       "</style>\n",
       "<table border=\"1\" class=\"dataframe\">\n",
       "  <thead>\n",
       "    <tr style=\"text-align: right;\">\n",
       "      <th></th>\n",
       "      <th>Survived</th>\n",
       "    </tr>\n",
       "    <tr>\n",
       "      <th>PassengerId</th>\n",
       "      <th></th>\n",
       "    </tr>\n",
       "  </thead>\n",
       "  <tbody>\n",
       "    <tr>\n",
       "      <th>892</th>\n",
       "      <td>0</td>\n",
       "    </tr>\n",
       "    <tr>\n",
       "      <th>893</th>\n",
       "      <td>0</td>\n",
       "    </tr>\n",
       "    <tr>\n",
       "      <th>894</th>\n",
       "      <td>0</td>\n",
       "    </tr>\n",
       "    <tr>\n",
       "      <th>895</th>\n",
       "      <td>0</td>\n",
       "    </tr>\n",
       "    <tr>\n",
       "      <th>896</th>\n",
       "      <td>0</td>\n",
       "    </tr>\n",
       "  </tbody>\n",
       "</table>\n",
       "</div>"
      ],
      "text/plain": [
       "             Survived\n",
       "PassengerId          \n",
       "892                 0\n",
       "893                 0\n",
       "894                 0\n",
       "895                 0\n",
       "896                 0"
      ]
     },
     "execution_count": 36,
     "metadata": {},
     "output_type": "execute_result"
    }
   ],
   "source": [
    "x.head()"
   ]
  },
  {
   "cell_type": "code",
   "execution_count": 37,
   "metadata": {},
   "outputs": [
    {
     "data": {
      "text/plain": [
       "(418, 1)"
      ]
     },
     "execution_count": 37,
     "metadata": {},
     "output_type": "execute_result"
    }
   ],
   "source": [
    "x.shape"
   ]
  },
  {
   "cell_type": "code",
   "execution_count": 38,
   "metadata": {},
   "outputs": [
    {
     "data": {
      "text/plain": [
       "0    347\n",
       "1     71\n",
       "Name: Survived, dtype: int64"
      ]
     },
     "execution_count": 38,
     "metadata": {},
     "output_type": "execute_result"
    }
   ],
   "source": [
    "x['Survived'].value_counts()"
   ]
  },
  {
   "cell_type": "code",
   "execution_count": null,
   "metadata": {},
   "outputs": [],
   "source": []
  }
 ],
 "metadata": {
  "kernelspec": {
   "display_name": "Python 3",
   "language": "python",
   "name": "python3"
  },
  "language_info": {
   "codemirror_mode": {
    "name": "ipython",
    "version": 3
   },
   "file_extension": ".py",
   "mimetype": "text/x-python",
   "name": "python",
   "nbconvert_exporter": "python",
   "pygments_lexer": "ipython3",
   "version": "3.6.8"
  }
 },
 "nbformat": 4,
 "nbformat_minor": 2
}
