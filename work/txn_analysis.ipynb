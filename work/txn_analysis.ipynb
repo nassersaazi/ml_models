{
 "cells": [
  {
   "cell_type": "code",
   "execution_count": 2,
   "metadata": {},
   "outputs": [],
   "source": [
    "from preprocessor import *"
   ]
  },
  {
   "cell_type": "code",
   "execution_count": 4,
   "metadata": {},
   "outputs": [],
   "source": [
    "train = pd.read_csv('received_txns.csv')"
   ]
  },
  {
   "cell_type": "code",
   "execution_count": 20,
   "metadata": {},
   "outputs": [
    {
     "data": {
      "text/html": [
       "<div>\n",
       "<style scoped>\n",
       "    .dataframe tbody tr th:only-of-type {\n",
       "        vertical-align: middle;\n",
       "    }\n",
       "\n",
       "    .dataframe tbody tr th {\n",
       "        vertical-align: top;\n",
       "    }\n",
       "\n",
       "    .dataframe thead th {\n",
       "        text-align: right;\n",
       "    }\n",
       "</style>\n",
       "<table border=\"1\" class=\"dataframe\">\n",
       "  <thead>\n",
       "    <tr style=\"text-align: right;\">\n",
       "      <th></th>\n",
       "      <th>TranId</th>\n",
       "      <th>TransNo</th>\n",
       "      <th>CustomerRef</th>\n",
       "      <th>CustomerName</th>\n",
       "      <th>CustomerType</th>\n",
       "      <th>CustomerTel</th>\n",
       "      <th>Area</th>\n",
       "      <th>Tin</th>\n",
       "      <th>TranAmount</th>\n",
       "      <th>PaymentDate</th>\n",
       "      <th>...</th>\n",
       "      <th>RegionCode</th>\n",
       "      <th>DistrictCode</th>\n",
       "      <th>VendorToken</th>\n",
       "      <th>ReconFileProcessed</th>\n",
       "      <th>Status</th>\n",
       "      <th>SentToVendor</th>\n",
       "      <th>UtilitySentDate</th>\n",
       "      <th>QueueTime</th>\n",
       "      <th>Unnamed: 33</th>\n",
       "      <th>Unnamed: 34</th>\n",
       "    </tr>\n",
       "  </thead>\n",
       "  <tbody>\n",
       "    <tr>\n",
       "      <th>0</th>\n",
       "      <td>98372287</td>\n",
       "      <td>898372287</td>\n",
       "      <td>4249878812</td>\n",
       "      <td>NAKIMULI, REBECCA</td>\n",
       "      <td>PREPAID</td>\n",
       "      <td>256781803185</td>\n",
       "      <td>8</td>\n",
       "      <td>NaN</td>\n",
       "      <td>15000</td>\n",
       "      <td>8/4/20 0:00</td>\n",
       "      <td>...</td>\n",
       "      <td>NaN</td>\n",
       "      <td>NaN</td>\n",
       "      <td>NaN</td>\n",
       "      <td>NaN</td>\n",
       "      <td>INSERTED</td>\n",
       "      <td>1.0</td>\n",
       "      <td>NaN</td>\n",
       "      <td>08:03:39 PM</td>\n",
       "      <td>NaN</td>\n",
       "      <td>NaN</td>\n",
       "    </tr>\n",
       "    <tr>\n",
       "      <th>1</th>\n",
       "      <td>98372286</td>\n",
       "      <td>898372286</td>\n",
       "      <td>4264940257</td>\n",
       "      <td>ACHAR MIKE</td>\n",
       "      <td>PREPAID</td>\n",
       "      <td>256784578079</td>\n",
       "      <td>10</td>\n",
       "      <td>NaN</td>\n",
       "      <td>20000</td>\n",
       "      <td>8/4/20 0:00</td>\n",
       "      <td>...</td>\n",
       "      <td>NaN</td>\n",
       "      <td>NaN</td>\n",
       "      <td>NaN</td>\n",
       "      <td>NaN</td>\n",
       "      <td>INSERTED</td>\n",
       "      <td>1.0</td>\n",
       "      <td>NaN</td>\n",
       "      <td>08:03:39 PM</td>\n",
       "      <td>NaN</td>\n",
       "      <td>NaN</td>\n",
       "    </tr>\n",
       "    <tr>\n",
       "      <th>2</th>\n",
       "      <td>98372285</td>\n",
       "      <td>898372285</td>\n",
       "      <td>4230031777</td>\n",
       "      <td>WERE,</td>\n",
       "      <td>PREPAID</td>\n",
       "      <td>256782505141</td>\n",
       "      <td>13</td>\n",
       "      <td>NaN</td>\n",
       "      <td>10000</td>\n",
       "      <td>8/4/20 0:00</td>\n",
       "      <td>...</td>\n",
       "      <td>NaN</td>\n",
       "      <td>NaN</td>\n",
       "      <td>NaN</td>\n",
       "      <td>NaN</td>\n",
       "      <td>INSERTED</td>\n",
       "      <td>1.0</td>\n",
       "      <td>NaN</td>\n",
       "      <td>08:03:39 PM</td>\n",
       "      <td>NaN</td>\n",
       "      <td>NaN</td>\n",
       "    </tr>\n",
       "    <tr>\n",
       "      <th>3</th>\n",
       "      <td>98372284</td>\n",
       "      <td>898372284</td>\n",
       "      <td>4242893388</td>\n",
       "      <td>NEGESA, ESTHER</td>\n",
       "      <td>PREPAID</td>\n",
       "      <td>256756409409</td>\n",
       "      <td>10</td>\n",
       "      <td>NaN</td>\n",
       "      <td>9000</td>\n",
       "      <td>8/4/20 0:00</td>\n",
       "      <td>...</td>\n",
       "      <td>NaN</td>\n",
       "      <td>NaN</td>\n",
       "      <td>NaN</td>\n",
       "      <td>NaN</td>\n",
       "      <td>INSERTED</td>\n",
       "      <td>1.0</td>\n",
       "      <td>NaN</td>\n",
       "      <td>08:03:39 PM</td>\n",
       "      <td>NaN</td>\n",
       "      <td>NaN</td>\n",
       "    </tr>\n",
       "    <tr>\n",
       "      <th>4</th>\n",
       "      <td>98372283</td>\n",
       "      <td>898372283</td>\n",
       "      <td>4257567075</td>\n",
       "      <td>KAZINDA (7) ELIZABETH</td>\n",
       "      <td>PREPAID</td>\n",
       "      <td>256782442555</td>\n",
       "      <td>16</td>\n",
       "      <td>NaN</td>\n",
       "      <td>18000</td>\n",
       "      <td>8/4/20 0:00</td>\n",
       "      <td>...</td>\n",
       "      <td>NaN</td>\n",
       "      <td>NaN</td>\n",
       "      <td>NaN</td>\n",
       "      <td>NaN</td>\n",
       "      <td>INSERTED</td>\n",
       "      <td>1.0</td>\n",
       "      <td>NaN</td>\n",
       "      <td>08:03:39 PM</td>\n",
       "      <td>NaN</td>\n",
       "      <td>NaN</td>\n",
       "    </tr>\n",
       "  </tbody>\n",
       "</table>\n",
       "<p>5 rows × 35 columns</p>\n",
       "</div>"
      ],
      "text/plain": [
       "     TranId    TransNo CustomerRef           CustomerName CustomerType  \\\n",
       "0  98372287  898372287  4249878812      NAKIMULI, REBECCA      PREPAID   \n",
       "1  98372286  898372286  4264940257             ACHAR MIKE      PREPAID   \n",
       "2  98372285  898372285  4230031777                  WERE,      PREPAID   \n",
       "3  98372284  898372284  4242893388         NEGESA, ESTHER      PREPAID   \n",
       "4  98372283  898372283  4257567075  KAZINDA (7) ELIZABETH      PREPAID   \n",
       "\n",
       "    CustomerTel Area  Tin TranAmount  PaymentDate  ... RegionCode  \\\n",
       "0  256781803185    8  NaN      15000  8/4/20 0:00  ...        NaN   \n",
       "1  256784578079   10  NaN      20000  8/4/20 0:00  ...        NaN   \n",
       "2  256782505141   13  NaN      10000  8/4/20 0:00  ...        NaN   \n",
       "3  256756409409   10  NaN       9000  8/4/20 0:00  ...        NaN   \n",
       "4  256782442555   16  NaN      18000  8/4/20 0:00  ...        NaN   \n",
       "\n",
       "  DistrictCode VendorToken ReconFileProcessed    Status SentToVendor  \\\n",
       "0          NaN         NaN                NaN  INSERTED          1.0   \n",
       "1          NaN         NaN                NaN  INSERTED          1.0   \n",
       "2          NaN         NaN                NaN  INSERTED          1.0   \n",
       "3          NaN         NaN                NaN  INSERTED          1.0   \n",
       "4          NaN         NaN                NaN  INSERTED          1.0   \n",
       "\n",
       "  UtilitySentDate    QueueTime Unnamed: 33 Unnamed: 34  \n",
       "0             NaN  08:03:39 PM         NaN         NaN  \n",
       "1             NaN  08:03:39 PM         NaN         NaN  \n",
       "2             NaN  08:03:39 PM         NaN         NaN  \n",
       "3             NaN  08:03:39 PM         NaN         NaN  \n",
       "4             NaN  08:03:39 PM         NaN         NaN  \n",
       "\n",
       "[5 rows x 35 columns]"
      ]
     },
     "execution_count": 20,
     "metadata": {},
     "output_type": "execute_result"
    }
   ],
   "source": [
    "train.head()"
   ]
  },
  {
   "cell_type": "code",
   "execution_count": 6,
   "metadata": {},
   "outputs": [
    {
     "data": {
      "text/html": [
       "<div>\n",
       "<style scoped>\n",
       "    .dataframe tbody tr th:only-of-type {\n",
       "        vertical-align: middle;\n",
       "    }\n",
       "\n",
       "    .dataframe tbody tr th {\n",
       "        vertical-align: top;\n",
       "    }\n",
       "\n",
       "    .dataframe thead th {\n",
       "        text-align: right;\n",
       "    }\n",
       "</style>\n",
       "<table border=\"1\" class=\"dataframe\">\n",
       "  <thead>\n",
       "    <tr style=\"text-align: right;\">\n",
       "      <th></th>\n",
       "      <th>TransNo</th>\n",
       "      <th>Cancelled</th>\n",
       "      <th>Offline</th>\n",
       "      <th>DistrictCode</th>\n",
       "      <th>VendorToken</th>\n",
       "      <th>ReconFileProcessed</th>\n",
       "      <th>SentToVendor</th>\n",
       "      <th>Unnamed: 34</th>\n",
       "    </tr>\n",
       "  </thead>\n",
       "  <tbody>\n",
       "    <tr>\n",
       "      <th>count</th>\n",
       "      <td>1.000610e+05</td>\n",
       "      <td>9.993900e+04</td>\n",
       "      <td>99939.0</td>\n",
       "      <td>804.000000</td>\n",
       "      <td>7.950000e+02</td>\n",
       "      <td>0.0</td>\n",
       "      <td>99938.000000</td>\n",
       "      <td>0.0</td>\n",
       "    </tr>\n",
       "    <tr>\n",
       "      <th>mean</th>\n",
       "      <td>8.977691e+08</td>\n",
       "      <td>2.569279e+06</td>\n",
       "      <td>0.0</td>\n",
       "      <td>0.990050</td>\n",
       "      <td>1.471769e+08</td>\n",
       "      <td>NaN</td>\n",
       "      <td>0.912856</td>\n",
       "      <td>NaN</td>\n",
       "    </tr>\n",
       "    <tr>\n",
       "      <th>std</th>\n",
       "      <td>2.217340e+07</td>\n",
       "      <td>8.122294e+08</td>\n",
       "      <td>0.0</td>\n",
       "      <td>0.099315</td>\n",
       "      <td>3.277689e+04</td>\n",
       "      <td>NaN</td>\n",
       "      <td>0.282579</td>\n",
       "      <td>NaN</td>\n",
       "    </tr>\n",
       "    <tr>\n",
       "      <th>min</th>\n",
       "      <td>0.000000e+00</td>\n",
       "      <td>0.000000e+00</td>\n",
       "      <td>0.0</td>\n",
       "      <td>0.000000</td>\n",
       "      <td>1.471246e+08</td>\n",
       "      <td>NaN</td>\n",
       "      <td>0.000000</td>\n",
       "      <td>NaN</td>\n",
       "    </tr>\n",
       "    <tr>\n",
       "      <th>25%</th>\n",
       "      <td>8.982899e+08</td>\n",
       "      <td>0.000000e+00</td>\n",
       "      <td>0.0</td>\n",
       "      <td>1.000000</td>\n",
       "      <td>1.471498e+08</td>\n",
       "      <td>NaN</td>\n",
       "      <td>1.000000</td>\n",
       "      <td>NaN</td>\n",
       "    </tr>\n",
       "    <tr>\n",
       "      <th>50%</th>\n",
       "      <td>8.983150e+08</td>\n",
       "      <td>0.000000e+00</td>\n",
       "      <td>0.0</td>\n",
       "      <td>1.000000</td>\n",
       "      <td>1.471672e+08</td>\n",
       "      <td>NaN</td>\n",
       "      <td>1.000000</td>\n",
       "      <td>NaN</td>\n",
       "    </tr>\n",
       "    <tr>\n",
       "      <th>75%</th>\n",
       "      <td>8.983453e+08</td>\n",
       "      <td>0.000000e+00</td>\n",
       "      <td>0.0</td>\n",
       "      <td>1.000000</td>\n",
       "      <td>1.472078e+08</td>\n",
       "      <td>NaN</td>\n",
       "      <td>1.000000</td>\n",
       "      <td>NaN</td>\n",
       "    </tr>\n",
       "    <tr>\n",
       "      <th>max</th>\n",
       "      <td>8.983723e+08</td>\n",
       "      <td>2.567711e+11</td>\n",
       "      <td>0.0</td>\n",
       "      <td>1.000000</td>\n",
       "      <td>1.472313e+08</td>\n",
       "      <td>NaN</td>\n",
       "      <td>2.000000</td>\n",
       "      <td>NaN</td>\n",
       "    </tr>\n",
       "  </tbody>\n",
       "</table>\n",
       "</div>"
      ],
      "text/plain": [
       "            TransNo     Cancelled  Offline  DistrictCode   VendorToken  \\\n",
       "count  1.000610e+05  9.993900e+04  99939.0    804.000000  7.950000e+02   \n",
       "mean   8.977691e+08  2.569279e+06      0.0      0.990050  1.471769e+08   \n",
       "std    2.217340e+07  8.122294e+08      0.0      0.099315  3.277689e+04   \n",
       "min    0.000000e+00  0.000000e+00      0.0      0.000000  1.471246e+08   \n",
       "25%    8.982899e+08  0.000000e+00      0.0      1.000000  1.471498e+08   \n",
       "50%    8.983150e+08  0.000000e+00      0.0      1.000000  1.471672e+08   \n",
       "75%    8.983453e+08  0.000000e+00      0.0      1.000000  1.472078e+08   \n",
       "max    8.983723e+08  2.567711e+11      0.0      1.000000  1.472313e+08   \n",
       "\n",
       "       ReconFileProcessed  SentToVendor  Unnamed: 34  \n",
       "count                 0.0  99938.000000          0.0  \n",
       "mean                  NaN      0.912856          NaN  \n",
       "std                   NaN      0.282579          NaN  \n",
       "min                   NaN      0.000000          NaN  \n",
       "25%                   NaN      1.000000          NaN  \n",
       "50%                   NaN      1.000000          NaN  \n",
       "75%                   NaN      1.000000          NaN  \n",
       "max                   NaN      2.000000          NaN  "
      ]
     },
     "execution_count": 6,
     "metadata": {},
     "output_type": "execute_result"
    }
   ],
   "source": [
    "train.describe()"
   ]
  },
  {
   "cell_type": "code",
   "execution_count": 7,
   "metadata": {},
   "outputs": [
    {
     "data": {
      "text/plain": [
       "TranId                     0\n",
       "TransNo                    0\n",
       "CustomerRef                1\n",
       "CustomerName               1\n",
       "CustomerType            9972\n",
       "CustomerTel                0\n",
       "Area                    6855\n",
       "Tin                    99675\n",
       "TranAmount                 1\n",
       "PaymentDate                1\n",
       "RecordDate                61\n",
       "TranType                  61\n",
       "PaymentType            31266\n",
       "VendorTranId              62\n",
       "ReceiptNo              37818\n",
       "TranNarration            365\n",
       "SmsSent                   61\n",
       "VendorCode               122\n",
       "Teller                   122\n",
       "Reversal                 122\n",
       "Cancelled                122\n",
       "Offline                  122\n",
       "UtilityCode              122\n",
       "UtilityTranRef          6680\n",
       "SentToUtility            122\n",
       "RegionCode             99264\n",
       "DistrictCode           99257\n",
       "VendorToken            99266\n",
       "ReconFileProcessed    100061\n",
       "Status                   124\n",
       "SentToVendor             123\n",
       "UtilitySentDate          143\n",
       "QueueTime              17570\n",
       "Unnamed: 33           100059\n",
       "Unnamed: 34           100061\n",
       "dtype: int64"
      ]
     },
     "execution_count": 7,
     "metadata": {},
     "output_type": "execute_result"
    }
   ],
   "source": [
    "train.isnull().sum()"
   ]
  },
  {
   "cell_type": "code",
   "execution_count": 9,
   "metadata": {},
   "outputs": [],
   "source": [
    "train2 = train.dropna(thresh=50000,axis=1)\n"
   ]
  },
  {
   "cell_type": "code",
   "execution_count": 15,
   "metadata": {},
   "outputs": [
    {
     "data": {
      "text/plain": [
       "(100061, 28)"
      ]
     },
     "execution_count": 15,
     "metadata": {},
     "output_type": "execute_result"
    }
   ],
   "source": [
    "train2.shape"
   ]
  },
  {
   "cell_type": "code",
   "execution_count": 11,
   "metadata": {},
   "outputs": [
    {
     "data": {
      "text/plain": [
       "TranId                 0\n",
       "TransNo                0\n",
       "CustomerTel            0\n",
       "CustomerRef            1\n",
       "CustomerName           1\n",
       "TranAmount             1\n",
       "PaymentDate            1\n",
       "SmsSent               61\n",
       "TranType              61\n",
       "RecordDate            61\n",
       "VendorTranId          62\n",
       "SentToUtility        122\n",
       "VendorCode           122\n",
       "Teller               122\n",
       "Reversal             122\n",
       "Cancelled            122\n",
       "Offline              122\n",
       "UtilityCode          122\n",
       "SentToVendor         123\n",
       "Status               124\n",
       "UtilitySentDate      143\n",
       "TranNarration        365\n",
       "UtilityTranRef      6680\n",
       "Area                6855\n",
       "CustomerType        9972\n",
       "QueueTime          17570\n",
       "PaymentType        31266\n",
       "ReceiptNo          37818\n",
       "dtype: int64"
      ]
     },
     "execution_count": 11,
     "metadata": {},
     "output_type": "execute_result"
    }
   ],
   "source": [
    "train2.isnull().sum().sort_values()"
   ]
  },
  {
   "cell_type": "code",
   "execution_count": 14,
   "metadata": {},
   "outputs": [
    {
     "data": {
      "text/plain": [
       "array(['2', nan, 'INFOCOM', '1', '2707', '4469', '40:03.0', '134', '1761',\n",
       "       '6097', '195', '1088', '2434', '949', '250', '2571', 'CASH',\n",
       "       '4832', '5740', '5873', '6793', '5651', '1355', '2552', '707',\n",
       "       '478', '5427', '242', '1787', '479', '6488', '4910', '2155',\n",
       "       '2074', '6139', '4462', '2977', '1522'], dtype=object)"
      ]
     },
     "execution_count": 14,
     "metadata": {},
     "output_type": "execute_result"
    }
   ],
   "source": [
    "train2['PaymentType'].unique()"
   ]
  },
  {
   "cell_type": "code",
   "execution_count": 19,
   "metadata": {},
   "outputs": [
    {
     "ename": "ValueError",
     "evalue": "Unable to parse string \"KIL\" at position 21414",
     "output_type": "error",
     "traceback": [
      "\u001b[0;31m---------------------------------------------------------------------------\u001b[0m",
      "\u001b[0;31mValueError\u001b[0m                                Traceback (most recent call last)",
      "\u001b[0;32mpandas/_libs/lib.pyx\u001b[0m in \u001b[0;36mpandas._libs.lib.maybe_convert_numeric\u001b[0;34m()\u001b[0m\n",
      "\u001b[0;31mValueError\u001b[0m: Unable to parse string \"KIL\"",
      "\nDuring handling of the above exception, another exception occurred:\n",
      "\u001b[0;31mValueError\u001b[0m                                Traceback (most recent call last)",
      "\u001b[0;32m<ipython-input-19-4c8cb395fdcf>\u001b[0m in \u001b[0;36m<module>\u001b[0;34m\u001b[0m\n\u001b[0;32m----> 1\u001b[0;31m \u001b[0mtrain2\u001b[0m\u001b[0;34m[\u001b[0m\u001b[0;34m'TranAmount'\u001b[0m\u001b[0;34m]\u001b[0m \u001b[0;34m=\u001b[0m \u001b[0mpd\u001b[0m\u001b[0;34m.\u001b[0m\u001b[0mto_numeric\u001b[0m\u001b[0;34m(\u001b[0m\u001b[0mtrain2\u001b[0m\u001b[0;34m[\u001b[0m\u001b[0;34m'TranAmount'\u001b[0m\u001b[0;34m]\u001b[0m\u001b[0;34m)\u001b[0m\u001b[0;34m\u001b[0m\u001b[0;34m\u001b[0m\u001b[0m\n\u001b[0m\u001b[1;32m      2\u001b[0m \u001b[0mtrain2\u001b[0m\u001b[0;34m.\u001b[0m\u001b[0mdtypes\u001b[0m\u001b[0;34m\u001b[0m\u001b[0;34m\u001b[0m\u001b[0m\n",
      "\u001b[0;32m~/ml/env/lib/python3.6/site-packages/pandas/core/tools/numeric.py\u001b[0m in \u001b[0;36mto_numeric\u001b[0;34m(arg, errors, downcast)\u001b[0m\n\u001b[1;32m    133\u001b[0m             \u001b[0mcoerce_numeric\u001b[0m \u001b[0;34m=\u001b[0m \u001b[0;32mFalse\u001b[0m \u001b[0;32mif\u001b[0m \u001b[0merrors\u001b[0m \u001b[0;32min\u001b[0m \u001b[0;34m(\u001b[0m\u001b[0;34m'ignore'\u001b[0m\u001b[0;34m,\u001b[0m \u001b[0;34m'raise'\u001b[0m\u001b[0;34m)\u001b[0m \u001b[0;32melse\u001b[0m \u001b[0;32mTrue\u001b[0m\u001b[0;34m\u001b[0m\u001b[0;34m\u001b[0m\u001b[0m\n\u001b[1;32m    134\u001b[0m             values = lib.maybe_convert_numeric(values, set(),\n\u001b[0;32m--> 135\u001b[0;31m                                                coerce_numeric=coerce_numeric)\n\u001b[0m\u001b[1;32m    136\u001b[0m \u001b[0;34m\u001b[0m\u001b[0m\n\u001b[1;32m    137\u001b[0m     \u001b[0;32mexcept\u001b[0m \u001b[0mException\u001b[0m\u001b[0;34m:\u001b[0m\u001b[0;34m\u001b[0m\u001b[0;34m\u001b[0m\u001b[0m\n",
      "\u001b[0;32mpandas/_libs/lib.pyx\u001b[0m in \u001b[0;36mpandas._libs.lib.maybe_convert_numeric\u001b[0;34m()\u001b[0m\n",
      "\u001b[0;31mValueError\u001b[0m: Unable to parse string \"KIL\" at position 21414"
     ]
    }
   ],
   "source": [
    "train2['TranAmount'] = pd.to_numeric(train2['TranAmount'])\n",
    "train2.dtypes"
   ]
  },
  {
   "cell_type": "code",
   "execution_count": 18,
   "metadata": {},
   "outputs": [
    {
     "ename": "TypeError",
     "evalue": "unsupported operand type(s) for /: 'str' and 'int'",
     "output_type": "error",
     "traceback": [
      "\u001b[0;31m---------------------------------------------------------------------------\u001b[0m",
      "\u001b[0;31mTypeError\u001b[0m                                 Traceback (most recent call last)",
      "\u001b[0;32m<ipython-input-18-ce769dc95a3b>\u001b[0m in \u001b[0;36m<module>\u001b[0;34m\u001b[0m\n\u001b[1;32m      1\u001b[0m \u001b[0mplt\u001b[0m\u001b[0;34m.\u001b[0m\u001b[0mfigure\u001b[0m\u001b[0;34m(\u001b[0m\u001b[0mfigsize\u001b[0m\u001b[0;34m=\u001b[0m\u001b[0;34m(\u001b[0m\u001b[0;36m10\u001b[0m\u001b[0;34m,\u001b[0m\u001b[0;36m8\u001b[0m\u001b[0;34m)\u001b[0m\u001b[0;34m)\u001b[0m\u001b[0;34m\u001b[0m\u001b[0;34m\u001b[0m\u001b[0m\n\u001b[0;32m----> 2\u001b[0;31m \u001b[0msns\u001b[0m\u001b[0;34m.\u001b[0m\u001b[0mbarplot\u001b[0m\u001b[0;34m(\u001b[0m\u001b[0;34m\"PaymentType\"\u001b[0m\u001b[0;34m,\u001b[0m\u001b[0mdata\u001b[0m \u001b[0;34m=\u001b[0m \u001b[0mtrain2\u001b[0m \u001b[0;34m)\u001b[0m\u001b[0;34m;\u001b[0m\u001b[0;34m\u001b[0m\u001b[0;34m\u001b[0m\u001b[0m\n\u001b[0m",
      "\u001b[0;32m~/ml/env/lib/python3.6/site-packages/seaborn/categorical.py\u001b[0m in \u001b[0;36mbarplot\u001b[0;34m(x, y, hue, data, order, hue_order, estimator, ci, n_boot, units, orient, color, palette, saturation, errcolor, errwidth, capsize, dodge, ax, **kwargs)\u001b[0m\n\u001b[1;32m   3147\u001b[0m                           \u001b[0mestimator\u001b[0m\u001b[0;34m,\u001b[0m \u001b[0mci\u001b[0m\u001b[0;34m,\u001b[0m \u001b[0mn_boot\u001b[0m\u001b[0;34m,\u001b[0m \u001b[0munits\u001b[0m\u001b[0;34m,\u001b[0m\u001b[0;34m\u001b[0m\u001b[0;34m\u001b[0m\u001b[0m\n\u001b[1;32m   3148\u001b[0m                           \u001b[0morient\u001b[0m\u001b[0;34m,\u001b[0m \u001b[0mcolor\u001b[0m\u001b[0;34m,\u001b[0m \u001b[0mpalette\u001b[0m\u001b[0;34m,\u001b[0m \u001b[0msaturation\u001b[0m\u001b[0;34m,\u001b[0m\u001b[0;34m\u001b[0m\u001b[0;34m\u001b[0m\u001b[0m\n\u001b[0;32m-> 3149\u001b[0;31m                           errcolor, errwidth, capsize, dodge)\n\u001b[0m\u001b[1;32m   3150\u001b[0m \u001b[0;34m\u001b[0m\u001b[0m\n\u001b[1;32m   3151\u001b[0m     \u001b[0;32mif\u001b[0m \u001b[0max\u001b[0m \u001b[0;32mis\u001b[0m \u001b[0;32mNone\u001b[0m\u001b[0;34m:\u001b[0m\u001b[0;34m\u001b[0m\u001b[0;34m\u001b[0m\u001b[0m\n",
      "\u001b[0;32m~/ml/env/lib/python3.6/site-packages/seaborn/categorical.py\u001b[0m in \u001b[0;36m__init__\u001b[0;34m(self, x, y, hue, data, order, hue_order, estimator, ci, n_boot, units, orient, color, palette, saturation, errcolor, errwidth, capsize, dodge)\u001b[0m\n\u001b[1;32m   1607\u001b[0m                                  order, hue_order, units)\n\u001b[1;32m   1608\u001b[0m         \u001b[0mself\u001b[0m\u001b[0;34m.\u001b[0m\u001b[0mestablish_colors\u001b[0m\u001b[0;34m(\u001b[0m\u001b[0mcolor\u001b[0m\u001b[0;34m,\u001b[0m \u001b[0mpalette\u001b[0m\u001b[0;34m,\u001b[0m \u001b[0msaturation\u001b[0m\u001b[0;34m)\u001b[0m\u001b[0;34m\u001b[0m\u001b[0;34m\u001b[0m\u001b[0m\n\u001b[0;32m-> 1609\u001b[0;31m         \u001b[0mself\u001b[0m\u001b[0;34m.\u001b[0m\u001b[0mestimate_statistic\u001b[0m\u001b[0;34m(\u001b[0m\u001b[0mestimator\u001b[0m\u001b[0;34m,\u001b[0m \u001b[0mci\u001b[0m\u001b[0;34m,\u001b[0m \u001b[0mn_boot\u001b[0m\u001b[0;34m)\u001b[0m\u001b[0;34m\u001b[0m\u001b[0;34m\u001b[0m\u001b[0m\n\u001b[0m\u001b[1;32m   1610\u001b[0m \u001b[0;34m\u001b[0m\u001b[0m\n\u001b[1;32m   1611\u001b[0m         \u001b[0mself\u001b[0m\u001b[0;34m.\u001b[0m\u001b[0mdodge\u001b[0m \u001b[0;34m=\u001b[0m \u001b[0mdodge\u001b[0m\u001b[0;34m\u001b[0m\u001b[0;34m\u001b[0m\u001b[0m\n",
      "\u001b[0;32m~/ml/env/lib/python3.6/site-packages/seaborn/categorical.py\u001b[0m in \u001b[0;36mestimate_statistic\u001b[0;34m(self, estimator, ci, n_boot)\u001b[0m\n\u001b[1;32m   1491\u001b[0m                     \u001b[0mstatistic\u001b[0m\u001b[0;34m.\u001b[0m\u001b[0mappend\u001b[0m\u001b[0;34m(\u001b[0m\u001b[0mnp\u001b[0m\u001b[0;34m.\u001b[0m\u001b[0mnan\u001b[0m\u001b[0;34m)\u001b[0m\u001b[0;34m\u001b[0m\u001b[0;34m\u001b[0m\u001b[0m\n\u001b[1;32m   1492\u001b[0m                 \u001b[0;32melse\u001b[0m\u001b[0;34m:\u001b[0m\u001b[0;34m\u001b[0m\u001b[0;34m\u001b[0m\u001b[0m\n\u001b[0;32m-> 1493\u001b[0;31m                     \u001b[0mstatistic\u001b[0m\u001b[0;34m.\u001b[0m\u001b[0mappend\u001b[0m\u001b[0;34m(\u001b[0m\u001b[0mestimator\u001b[0m\u001b[0;34m(\u001b[0m\u001b[0mstat_data\u001b[0m\u001b[0;34m)\u001b[0m\u001b[0;34m)\u001b[0m\u001b[0;34m\u001b[0m\u001b[0;34m\u001b[0m\u001b[0m\n\u001b[0m\u001b[1;32m   1494\u001b[0m \u001b[0;34m\u001b[0m\u001b[0m\n\u001b[1;32m   1495\u001b[0m                 \u001b[0;31m# Get a confidence interval for this estimate\u001b[0m\u001b[0;34m\u001b[0m\u001b[0;34m\u001b[0m\u001b[0;34m\u001b[0m\u001b[0m\n",
      "\u001b[0;32m~/ml/env/lib/python3.6/site-packages/numpy/core/fromnumeric.py\u001b[0m in \u001b[0;36mmean\u001b[0;34m(a, axis, dtype, out, keepdims)\u001b[0m\n\u001b[1;32m   3116\u001b[0m \u001b[0;34m\u001b[0m\u001b[0m\n\u001b[1;32m   3117\u001b[0m     return _methods._mean(a, axis=axis, dtype=dtype,\n\u001b[0;32m-> 3118\u001b[0;31m                           out=out, **kwargs)\n\u001b[0m\u001b[1;32m   3119\u001b[0m \u001b[0;34m\u001b[0m\u001b[0m\n\u001b[1;32m   3120\u001b[0m \u001b[0;34m\u001b[0m\u001b[0m\n",
      "\u001b[0;32m~/ml/env/lib/python3.6/site-packages/numpy/core/_methods.py\u001b[0m in \u001b[0;36m_mean\u001b[0;34m(a, axis, dtype, out, keepdims)\u001b[0m\n\u001b[1;32m     85\u001b[0m             \u001b[0mret\u001b[0m \u001b[0;34m=\u001b[0m \u001b[0mret\u001b[0m\u001b[0;34m.\u001b[0m\u001b[0mdtype\u001b[0m\u001b[0;34m.\u001b[0m\u001b[0mtype\u001b[0m\u001b[0;34m(\u001b[0m\u001b[0mret\u001b[0m \u001b[0;34m/\u001b[0m \u001b[0mrcount\u001b[0m\u001b[0;34m)\u001b[0m\u001b[0;34m\u001b[0m\u001b[0;34m\u001b[0m\u001b[0m\n\u001b[1;32m     86\u001b[0m     \u001b[0;32melse\u001b[0m\u001b[0;34m:\u001b[0m\u001b[0;34m\u001b[0m\u001b[0;34m\u001b[0m\u001b[0m\n\u001b[0;32m---> 87\u001b[0;31m         \u001b[0mret\u001b[0m \u001b[0;34m=\u001b[0m \u001b[0mret\u001b[0m \u001b[0;34m/\u001b[0m \u001b[0mrcount\u001b[0m\u001b[0;34m\u001b[0m\u001b[0;34m\u001b[0m\u001b[0m\n\u001b[0m\u001b[1;32m     88\u001b[0m \u001b[0;34m\u001b[0m\u001b[0m\n\u001b[1;32m     89\u001b[0m     \u001b[0;32mreturn\u001b[0m \u001b[0mret\u001b[0m\u001b[0;34m\u001b[0m\u001b[0;34m\u001b[0m\u001b[0m\n",
      "\u001b[0;31mTypeError\u001b[0m: unsupported operand type(s) for /: 'str' and 'int'"
     ]
    },
    {
     "data": {
      "text/plain": [
       "<Figure size 720x576 with 0 Axes>"
      ]
     },
     "metadata": {},
     "output_type": "display_data"
    }
   ],
   "source": [
    "plt.figure(figsize=(10,8))\n",
    "sns.barplot(\"PaymentType\",data = train2 );"
   ]
  },
  {
   "cell_type": "code",
   "execution_count": null,
   "metadata": {},
   "outputs": [],
   "source": []
  }
 ],
 "metadata": {
  "kernelspec": {
   "display_name": "Python 3",
   "language": "python",
   "name": "python3"
  },
  "language_info": {
   "codemirror_mode": {
    "name": "ipython",
    "version": 3
   },
   "file_extension": ".py",
   "mimetype": "text/x-python",
   "name": "python",
   "nbconvert_exporter": "python",
   "pygments_lexer": "ipython3",
   "version": "3.6.8"
  }
 },
 "nbformat": 4,
 "nbformat_minor": 2
}
